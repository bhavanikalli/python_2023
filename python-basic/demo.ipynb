{
 "cells": [
  {
   "cell_type": "code",
   "execution_count": 209,
   "metadata": {},
   "outputs": [
    {
     "name": "stdout",
     "output_type": "stream",
     "text": [
      "hello\n"
     ]
    }
   ],
   "source": [
    "print(\"hello\")\n"
   ]
  },
  {
   "cell_type": "code",
   "execution_count": 210,
   "metadata": {},
   "outputs": [
    {
     "name": "stdout",
     "output_type": "stream",
     "text": [
      "25\n"
     ]
    }
   ],
   "source": [
    "a=10\n",
    "b=15\n",
    "c=a+b\n",
    "print(c)\n",
    "\n",
    "\n"
   ]
  },
  {
   "cell_type": "code",
   "execution_count": 211,
   "metadata": {},
   "outputs": [
    {
     "name": "stdout",
     "output_type": "stream",
     "text": [
      "12\n"
     ]
    }
   ],
   "source": [
    "a=17\n",
    "b=5\n",
    "c=a-b\n",
    "print(c)\n"
   ]
  },
  {
   "cell_type": "code",
   "execution_count": 212,
   "metadata": {},
   "outputs": [
    {
     "data": {
      "text/plain": [
       "'v'"
      ]
     },
     "execution_count": 212,
     "metadata": {},
     "output_type": "execute_result"
    }
   ],
   "source": [
    "b=\"bhavani\"\n",
    "b[3]\n"
   ]
  },
  {
   "cell_type": "code",
   "execution_count": 213,
   "metadata": {},
   "outputs": [
    {
     "data": {
      "text/plain": [
       "'bhavan'"
      ]
     },
     "execution_count": 213,
     "metadata": {},
     "output_type": "execute_result"
    }
   ],
   "source": [
    "b=\"bhavani\"\n",
    "b[0:-1]"
   ]
  },
  {
   "cell_type": "code",
   "execution_count": 214,
   "metadata": {},
   "outputs": [
    {
     "data": {
      "text/plain": [
       "'inavahb'"
      ]
     },
     "execution_count": 214,
     "metadata": {},
     "output_type": "execute_result"
    }
   ],
   "source": [
    "b=\"bhavani\"\n",
    "b[-1::-1]"
   ]
  },
  {
   "cell_type": "code",
   "execution_count": 215,
   "metadata": {},
   "outputs": [
    {
     "data": {
      "text/plain": [
       "[b'1010', 'hello', [4, 9]]"
      ]
     },
     "execution_count": 215,
     "metadata": {},
     "output_type": "execute_result"
    }
   ],
   "source": [
    "b=[7,7.8, 7+5j,b\"1010\",\"hello\",[4,9],(89,5),{56,70}]\n",
    "b[3:6:1]\n"
   ]
  },
  {
   "cell_type": "code",
   "execution_count": 216,
   "metadata": {},
   "outputs": [
    {
     "data": {
      "text/plain": [
       "'bhav'"
      ]
     },
     "execution_count": 216,
     "metadata": {},
     "output_type": "execute_result"
    }
   ],
   "source": [
    "a=\"bhavani\"\n",
    "a[0:4:1]\n"
   ]
  },
  {
   "cell_type": "code",
   "execution_count": 217,
   "metadata": {},
   "outputs": [
    {
     "data": {
      "text/plain": [
       "[{56, 70}, (89, 5), [4, 9], 'hello', b'1010', (7+5j), 7.8, 7]"
      ]
     },
     "execution_count": 217,
     "metadata": {},
     "output_type": "execute_result"
    }
   ],
   "source": [
    "b=[7,7.8, 7+5j,b\"1010\",\"hello\",[4,9],(89,5),{56,70}]\n",
    "b[-1::-1]\n"
   ]
  },
  {
   "cell_type": "code",
   "execution_count": 218,
   "metadata": {},
   "outputs": [
    {
     "data": {
      "text/plain": [
       "'hellowolrd'"
      ]
     },
     "execution_count": 218,
     "metadata": {},
     "output_type": "execute_result"
    }
   ],
   "source": [
    "#WAS  to a print \"hello world\"by using shell\n",
    "\"hellowolrd\""
   ]
  },
  {
   "cell_type": "code",
   "execution_count": 219,
   "metadata": {},
   "outputs": [
    {
     "name": "stdout",
     "output_type": "stream",
     "text": [
      "hello world\n"
     ]
    }
   ],
   "source": [
    "# WAS to print \"hello world\" by using print function\n",
    "print(\"hello world\")"
   ]
  },
  {
   "cell_type": "code",
   "execution_count": 220,
   "metadata": {},
   "outputs": [],
   "source": [
    "# was to initilize varivable \n",
    "a=60\n",
    "b=60.0\n",
    "c=60+0j\n",
    "d=b'1010'\n",
    "e=True\n",
    "f=None \n",
    "g=\"hello\"\n",
    "h=[60,61,62]\n",
    "i=(60,4,6)\n",
    "j={60.5,8}\n",
    "k={ a:60,b:68}\n",
    "\n",
    "\n",
    "\n",
    "\n"
   ]
  },
  {
   "cell_type": "code",
   "execution_count": 221,
   "metadata": {},
   "outputs": [],
   "source": [
    "# was to initilize multivariable-values are 150,120,250\n",
    "a,b,c=150,120,250\n",
    "a=150\n",
    "b=120\n",
    "c=250"
   ]
  },
  {
   "cell_type": "code",
   "execution_count": 222,
   "metadata": {},
   "outputs": [
    {
     "name": "stdout",
     "output_type": "stream",
     "text": [
      "(150, 120, 250)\n"
     ]
    }
   ],
   "source": [
    "a=150,120,250\n",
    "print(a)"
   ]
  },
  {
   "cell_type": "code",
   "execution_count": 223,
   "metadata": {},
   "outputs": [
    {
     "data": {
      "text/plain": [
       "float"
      ]
     },
     "execution_count": 223,
     "metadata": {},
     "output_type": "execute_result"
    }
   ],
   "source": [
    "# was to print the type of the data in given value\n",
    "a=10\n",
    "type(a)\n",
    "b=15.7\n",
    "type(b)\n"
   ]
  },
  {
   "cell_type": "code",
   "execution_count": 224,
   "metadata": {},
   "outputs": [
    {
     "data": {
      "text/plain": [
       "2276609934496"
      ]
     },
     "execution_count": 224,
     "metadata": {},
     "output_type": "execute_result"
    }
   ],
   "source": [
    "# was to print  the address of the memory block in given value\n",
    "a={10,60}\n",
    "id(a)\n",
    "id({10,60})\n"
   ]
  },
  {
   "cell_type": "code",
   "execution_count": 230,
   "metadata": {},
   "outputs": [
    {
     "name": "stdout",
     "output_type": "stream",
     "text": [
      "rahul\n",
      "26\n",
      "rahul 26 5384780838 rahul@gmail.com 5.5 True\n"
     ]
    },
    {
     "data": {
      "text/plain": [
       "6389709103"
      ]
     },
     "execution_count": 230,
     "metadata": {},
     "output_type": "execute_result"
    }
   ],
   "source": [
    "# was to print your details ,first store your details extract the values and display\n",
    "name=\"rahul\"\n",
    "age=26\n",
    "phone=5384780838\n",
    "email=\"rahul@gmail.com\"\n",
    "height=5.5\n",
    "pancard=True\n",
    "print(name)\n",
    "print(age)\n",
    "print(name, age,phone,email,height,pancard)\n",
    "rahul=[\"rahul\",5384780838,\"rahul@gmail.com\",5.5,True]\n",
    "rahul[2]\n",
    "rahul[-1]\n",
    "rahul[1]\n",
    "\n",
    "\n",
    "rahul={name:'rahul',\"age\":26,\"phone\":6389709103,\"email\":'rahul@gamil.com','height':5.5,\"pancard\":True}\n",
    "rahul[\"email\"]\n",
    "rahul[\"phone\"]\n",
    "\n",
    "\n"
   ]
  },
  {
   "cell_type": "code",
   "execution_count": 235,
   "metadata": {},
   "outputs": [
    {
     "name": "stdout",
     "output_type": "stream",
     "text": [
      "bye\n",
      "hii\n"
     ]
    }
   ],
   "source": [
    "#was to swap the two values with a tempvariable\n",
    "a=\"hii\"\n",
    "b=\"bye\"\n",
    "temp=a\n",
    "a=b\n",
    "b=temp\n",
    "print(a)\n",
    "print(b)\n"
   ]
  },
  {
   "cell_type": "code",
   "execution_count": 236,
   "metadata": {},
   "outputs": [
    {
     "name": "stdout",
     "output_type": "stream",
     "text": [
      "{10, 50}\n",
      "[10, 50]\n"
     ]
    }
   ],
   "source": [
    "# wasto swap the two values without a temp variable \n",
    "m=[10,50]\n",
    "n={10,50}\n",
    "m,n=n,m\n",
    "print(m)\n",
    "print(n)\n"
   ]
  },
  {
   "cell_type": "code",
   "execution_count": null,
   "metadata": {},
   "outputs": [],
   "source": [
    "#was to initilize a value and print the value ,after print the value ,then reinitilize the new value to the existing variableand display the value\n",
    "# \n",
    "a={'a':'pyspider'}\n"
   ]
  }
 ],
 "metadata": {
  "kernelspec": {
   "display_name": "Python 3",
   "language": "python",
   "name": "python3"
  },
  "language_info": {
   "codemirror_mode": {
    "name": "ipython",
    "version": 3
   },
   "file_extension": ".py",
   "mimetype": "text/x-python",
   "name": "python",
   "nbconvert_exporter": "python",
   "pygments_lexer": "ipython3",
   "version": "3.10.5"
  },
  "orig_nbformat": 4
 },
 "nbformat": 4,
 "nbformat_minor": 2
}
