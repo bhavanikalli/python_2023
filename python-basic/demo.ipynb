{
 "cells": [
  {
   "cell_type": "code",
   "execution_count": 129,
   "metadata": {},
   "outputs": [
    {
     "name": "stdout",
     "output_type": "stream",
     "text": [
      "hello\n"
     ]
    }
   ],
   "source": [
    "print(\"hello\")\n"
   ]
  },
  {
   "cell_type": "code",
   "execution_count": 130,
   "metadata": {},
   "outputs": [
    {
     "name": "stdout",
     "output_type": "stream",
     "text": [
      "25\n"
     ]
    }
   ],
   "source": [
    "a=10\n",
    "b=15\n",
    "c=a+b\n",
    "print(c)\n",
    "\n",
    "\n"
   ]
  },
  {
   "cell_type": "code",
   "execution_count": 131,
   "metadata": {},
   "outputs": [
    {
     "name": "stdout",
     "output_type": "stream",
     "text": [
      "12\n"
     ]
    }
   ],
   "source": [
    "a=17\n",
    "b=5\n",
    "c=a-b\n",
    "print(c)\n"
   ]
  },
  {
   "cell_type": "code",
   "execution_count": 132,
   "metadata": {},
   "outputs": [
    {
     "data": {
      "text/plain": [
       "'v'"
      ]
     },
     "execution_count": 132,
     "metadata": {},
     "output_type": "execute_result"
    }
   ],
   "source": [
    "b=\"bhavani\"\n",
    "b[3]\n"
   ]
  },
  {
   "cell_type": "code",
   "execution_count": 133,
   "metadata": {},
   "outputs": [
    {
     "data": {
      "text/plain": [
       "'bhavan'"
      ]
     },
     "execution_count": 133,
     "metadata": {},
     "output_type": "execute_result"
    }
   ],
   "source": [
    "b=\"bhavani\"\n",
    "b[0:-1]"
   ]
  },
  {
   "cell_type": "code",
   "execution_count": 134,
   "metadata": {},
   "outputs": [
    {
     "data": {
      "text/plain": [
       "'inavahb'"
      ]
     },
     "execution_count": 134,
     "metadata": {},
     "output_type": "execute_result"
    }
   ],
   "source": [
    "b=\"bhavani\"\n",
    "b[-1::-1]"
   ]
  },
  {
   "cell_type": "code",
   "execution_count": 135,
   "metadata": {},
   "outputs": [
    {
     "data": {
      "text/plain": [
       "[b'1010', 'hello', [4, 9]]"
      ]
     },
     "execution_count": 135,
     "metadata": {},
     "output_type": "execute_result"
    }
   ],
   "source": [
    "b=[7,7.8, 7+5j,b\"1010\",\"hello\",[4,9],(89,5),{56,70}]\n",
    "b[3:6:1]\n"
   ]
  },
  {
   "cell_type": "code",
   "execution_count": 136,
   "metadata": {},
   "outputs": [
    {
     "data": {
      "text/plain": [
       "'bhav'"
      ]
     },
     "execution_count": 136,
     "metadata": {},
     "output_type": "execute_result"
    }
   ],
   "source": [
    "a=\"bhavani\"\n",
    "a[0:4:1]\n"
   ]
  },
  {
   "cell_type": "code",
   "execution_count": 137,
   "metadata": {},
   "outputs": [
    {
     "data": {
      "text/plain": [
       "[{56, 70}, (89, 5), [4, 9], 'hello', b'1010', (7+5j), 7.8, 7]"
      ]
     },
     "execution_count": 137,
     "metadata": {},
     "output_type": "execute_result"
    }
   ],
   "source": [
    "b=[7,7.8, 7+5j,b\"1010\",\"hello\",[4,9],(89,5),{56,70}]\n",
    "b[-1::-1]\n"
   ]
  },
  {
   "cell_type": "code",
   "execution_count": 138,
   "metadata": {},
   "outputs": [
    {
     "data": {
      "text/plain": [
       "'hellowolrd'"
      ]
     },
     "execution_count": 138,
     "metadata": {},
     "output_type": "execute_result"
    }
   ],
   "source": [
    "#WAS  to a print \"hello world\"by using shell\n",
    "\"hellowolrd\""
   ]
  },
  {
   "cell_type": "code",
   "execution_count": 139,
   "metadata": {},
   "outputs": [
    {
     "name": "stdout",
     "output_type": "stream",
     "text": [
      "hello world\n"
     ]
    }
   ],
   "source": [
    "# WAS to print \"hello world\" by using print function\n",
    "print(\"hello world\")"
   ]
  },
  {
   "cell_type": "code",
   "execution_count": 140,
   "metadata": {},
   "outputs": [],
   "source": [
    "# was to initilize varivable \n",
    "a=60\n",
    "b=60.0\n",
    "c=60+0j\n",
    "d=b'1010'\n",
    "e=True\n",
    "f=None \n",
    "g=\"hello\"\n",
    "h=[60,61,62]\n",
    "i=(60,4,6)\n",
    "j={60.5,8}\n",
    "k={ a:60,b:68}\n",
    "\n",
    "\n",
    "\n",
    "\n"
   ]
  },
  {
   "cell_type": "code",
   "execution_count": 141,
   "metadata": {},
   "outputs": [],
   "source": [
    "# was to initilize multivariable-values are 150,120,250\n",
    "a,b,c=150,120,250\n",
    "a=150\n",
    "b=120\n",
    "c=250"
   ]
  },
  {
   "cell_type": "code",
   "execution_count": 142,
   "metadata": {},
   "outputs": [
    {
     "name": "stdout",
     "output_type": "stream",
     "text": [
      "(150, 120, 250)\n"
     ]
    }
   ],
   "source": [
    "a=150,120,250\n",
    "print(a)"
   ]
  },
  {
   "cell_type": "code",
   "execution_count": 143,
   "metadata": {},
   "outputs": [
    {
     "data": {
      "text/plain": [
       "float"
      ]
     },
     "execution_count": 143,
     "metadata": {},
     "output_type": "execute_result"
    }
   ],
   "source": [
    "# was to print the type of the data in given value\n",
    "a=10\n",
    "type(a)\n",
    "b=15.7\n",
    "type(b)\n"
   ]
  },
  {
   "cell_type": "code",
   "execution_count": 144,
   "metadata": {},
   "outputs": [
    {
     "data": {
      "text/plain": [
       "2094091651776"
      ]
     },
     "execution_count": 144,
     "metadata": {},
     "output_type": "execute_result"
    }
   ],
   "source": [
    "# was to print  the address of the memory block in given value\n",
    "a={10,60}\n",
    "id(a)\n",
    "id({10,60})\n"
   ]
  },
  {
   "cell_type": "code",
   "execution_count": 145,
   "metadata": {},
   "outputs": [
    {
     "name": "stdout",
     "output_type": "stream",
     "text": [
      "rahul\n",
      "26\n",
      "rahul 26 5384780838 rahul@gmail.com 5.5 True\n"
     ]
    },
    {
     "data": {
      "text/plain": [
       "6389709103"
      ]
     },
     "execution_count": 145,
     "metadata": {},
     "output_type": "execute_result"
    }
   ],
   "source": [
    "# was to print your details ,first store your details extract the values and display\n",
    "name=\"rahul\"\n",
    "age=26\n",
    "phone=5384780838\n",
    "email=\"rahul@gmail.com\"\n",
    "height=5.5\n",
    "pancard=True\n",
    "print(name)\n",
    "print(age)\n",
    "print(name, age,phone,email,height,pancard)\n",
    "rahul=[\"rahul\",5384780838,\"rahul@gmail.com\",5.5,True]\n",
    "rahul[2]\n",
    "rahul[-1]\n",
    "rahul[1]\n",
    "\n",
    "\n",
    "rahul={name:'rahul',\"age\":26,\"phone\":6389709103,\"email\":'rahul@gamil.com','height':5.5,\"pancard\":True}\n",
    "rahul[\"email\"]\n",
    "rahul[\"phone\"]\n",
    "\n",
    "\n"
   ]
  },
  {
   "cell_type": "code",
   "execution_count": 146,
   "metadata": {},
   "outputs": [
    {
     "name": "stdout",
     "output_type": "stream",
     "text": [
      "bye\n",
      "hii\n"
     ]
    }
   ],
   "source": [
    "#was to swap the two values with a tempvariable\n",
    "a=\"hii\"\n",
    "b=\"bye\"\n",
    "temp=a\n",
    "a=b\n",
    "b=temp\n",
    "print(a)\n",
    "print(b)\n"
   ]
  },
  {
   "cell_type": "code",
   "execution_count": 147,
   "metadata": {},
   "outputs": [
    {
     "name": "stdout",
     "output_type": "stream",
     "text": [
      "{10, 50}\n",
      "[10, 50]\n"
     ]
    }
   ],
   "source": [
    "# wasto swap the two values without a temp variable \n",
    "m=[10,50]\n",
    "n={10,50}\n",
    "m,n=n,m\n",
    "print(m)\n",
    "print(n)\n"
   ]
  },
  {
   "cell_type": "code",
   "execution_count": 148,
   "metadata": {},
   "outputs": [
    {
     "name": "stdout",
     "output_type": "stream",
     "text": [
      "{'a': 'pyspider'}\n",
      "{'a': 'qspiders'}\n",
      "[10, 20, 30, 40, 50, 60]\n"
     ]
    }
   ],
   "source": [
    "#was to initilize a value and print the value ,after print the value ,then reinitilize the new value to the existing variableand display the value\n",
    "# initilization\n",
    "a={'a':'pyspider'}\n",
    "print(a)\n",
    "# fetch\n",
    "a['a']\n",
    "# modification\n",
    "a['a']='qspiders'\n",
    "print(a)\n",
    "# concatenation\n",
    "a=[10,20,30]\n",
    "a+=[40,50,60]\n",
    "print(a)\n",
    "# deletion\n",
    "del [a]\n",
    "\n",
    "\n"
   ]
  },
  {
   "cell_type": "code",
   "execution_count": 149,
   "metadata": {},
   "outputs": [
    {
     "name": "stdout",
     "output_type": "stream",
     "text": [
      "10\n",
      "['1', '0']\n",
      "['[', \"'\", '1', \"'\", ',', ' ', \"'\", '0', \"'\", ']']\n"
     ]
    }
   ],
   "source": [
    "# was to convert single to multivalue data type i/p=a=10  o/p ['1','0']\n",
    "a=10 \n",
    "a=str(a)\n",
    "print(a)\n",
    "a=list(a)\n",
    "print(a)\n",
    "\n",
    "\n",
    "print(list(str(a)))\n"
   ]
  },
  {
   "cell_type": "code",
   "execution_count": 150,
   "metadata": {},
   "outputs": [
    {
     "name": "stdout",
     "output_type": "stream",
     "text": [
      "helloworld\n",
      "[10, 20, 30, 40, 50, 60]\n",
      "[10, 20, 30, 'h', 'a', 'i']\n",
      "[10, 20, 30, 40, 50, 60]\n",
      "[10, 20, 30, 'abc']\n"
     ]
    }
   ],
   "source": [
    "# was to concat the two multi value data types (str,list,tuple)\n",
    "x='hello'\n",
    "x+='world' \n",
    "print(x)\n",
    "\n",
    "y=[10,20,30]\n",
    "y+=[40,50,60]\n",
    "print(y)\n",
    "\n",
    "y=[10,20,30]\n",
    "y+=\"hai\"\n",
    "print(y)\n",
    "\n",
    "\n",
    "y=[10,20,30]\n",
    "y+=(40,50,60)\n",
    "print(y)\n",
    "\n",
    "y=[10,20,30]\n",
    "y+={'a''b''c'}\n",
    "print(y)"
   ]
  },
  {
   "cell_type": "code",
   "execution_count": 151,
   "metadata": {},
   "outputs": [
    {
     "data": {
      "text/plain": [
       "4"
      ]
     },
     "execution_count": 151,
     "metadata": {},
     "output_type": "execute_result"
    }
   ],
   "source": [
    "# was to check the length of the collection?\n",
    "t=(10,20)\n",
    "len(t)\n",
    "x={10:20,30:40,'a':\"hai\", 'b':'bye'}\n",
    "len(x)\n"
   ]
  },
  {
   "cell_type": "code",
   "execution_count": 152,
   "metadata": {},
   "outputs": [
    {
     "data": {
      "text/plain": [
       "30"
      ]
     },
     "execution_count": 152,
     "metadata": {},
     "output_type": "execute_result"
    }
   ],
   "source": [
    "# wae to check find out the middle valueof the given collection\n",
    "d=[10,20,30,40,50,60]\n",
    "d[len(d)//2]\n",
    "\n",
    "l=[10,20,30,40]\n",
    "l[len(l)//2]"
   ]
  },
  {
   "cell_type": "code",
   "execution_count": 153,
   "metadata": {},
   "outputs": [
    {
     "name": "stdout",
     "output_type": "stream",
     "text": [
      "haiihow r u\n"
     ]
    }
   ],
   "source": [
    "# was to concat the new string into the string of the given string\n",
    "a=\"how r u\"\n",
    "b= \"haii\"\n",
    "a= b+a\n",
    "print(a)\n"
   ]
  },
  {
   "cell_type": "code",
   "execution_count": 154,
   "metadata": {},
   "outputs": [
    {
     "name": "stdout",
     "output_type": "stream",
     "text": [
      "how r uhaii\n"
     ]
    }
   ],
   "source": [
    "# was to concat the new string into the ending of the given string?\n",
    "a=\"how r u\"\n",
    "b=\"haii\"\n",
    "a+=b\n",
    "print(a)"
   ]
  },
  {
   "cell_type": "code",
   "execution_count": 155,
   "metadata": {},
   "outputs": [
    {
     "name": "stdout",
     "output_type": "stream",
     "text": [
      "haiihellohello\n"
     ]
    }
   ],
   "source": [
    "# was to concat the new string into the middle of the given string\n",
    "a=\"haii\"\n",
    "b=\"hello\" \n",
    "a=a+b\n",
    "a+=b\n",
    "print(a)"
   ]
  },
  {
   "cell_type": "code",
   "execution_count": 156,
   "metadata": {},
   "outputs": [
    {
     "data": {
      "text/plain": [
       "'pysplder'"
      ]
     },
     "execution_count": 156,
     "metadata": {},
     "output_type": "execute_result"
    }
   ],
   "source": [
    "# was to modify the new character into the middle of the given string\n",
    "s=\"pyspider\"\n",
    "s[len(s)//2]\n",
    "s[0:len(s)//2]+'l'+s[(len(s)//2)+1:]\n"
   ]
  },
  {
   "cell_type": "code",
   "execution_count": 157,
   "metadata": {},
   "outputs": [
    {
     "data": {
      "text/plain": [
       "'pysPIDers'"
      ]
     },
     "execution_count": 157,
     "metadata": {},
     "output_type": "execute_result"
    }
   ],
   "source": [
    "# was to modify the sequence of characterin given string\n",
    "s=\"pyspiders\"\n",
    "s[0:3]+'PID'+s[6:]\n"
   ]
  },
  {
   "cell_type": "code",
   "execution_count": 158,
   "metadata": {},
   "outputs": [
    {
     "data": {
      "text/plain": [
       "'pyspiDers'"
      ]
     },
     "execution_count": 158,
     "metadata": {},
     "output_type": "execute_result"
    }
   ],
   "source": [
    "# was to replace the old character into a new character of the given string\n",
    "s=\"pyspiders\"\n",
    "s[:-4]+'D'+s[-3:] "
   ]
  },
  {
   "cell_type": "code",
   "execution_count": 159,
   "metadata": {},
   "outputs": [
    {
     "data": {
      "text/plain": [
       "'pypider'"
      ]
     },
     "execution_count": 159,
     "metadata": {},
     "output_type": "execute_result"
    }
   ],
   "source": [
    "# was to delete the specific character in the given string\n",
    "s=\"pyspider\"\n",
    "s[0:2]+s[3:]"
   ]
  },
  {
   "cell_type": "code",
   "execution_count": 160,
   "metadata": {},
   "outputs": [
    {
     "data": {
      "text/plain": [
       "'pyser'"
      ]
     },
     "execution_count": 160,
     "metadata": {},
     "output_type": "execute_result"
    }
   ],
   "source": [
    "# was to delete the sequence of character in the given string\n",
    "s=\"pyspider\"\n",
    "s[:3]+s[6:]"
   ]
  },
  {
   "cell_type": "code",
   "execution_count": 161,
   "metadata": {},
   "outputs": [
    {
     "data": {
      "text/plain": [
       "'haii how are you'"
      ]
     },
     "execution_count": 161,
     "metadata": {},
     "output_type": "execute_result"
    }
   ],
   "source": [
    "# was to concate the new value to new string in the specific position of the given string\n",
    "r=\"haii are you\"\n",
    "r[0:4]+'how'+r[4:]\n",
    "\n",
    "r[0:4+1]+\"how\"+r[4:]\n",
    "\n"
   ]
  },
  {
   "cell_type": "code",
   "execution_count": 162,
   "metadata": {},
   "outputs": [
    {
     "name": "stdout",
     "output_type": "stream",
     "text": [
      "['a', 'b', 1, 2, 3]\n"
     ]
    }
   ],
   "source": [
    "# was to cancat the new value into the string of the given list\n",
    "l=[1,2,3] \n",
    "id(l)\n",
    "l=['a','b']+l\n",
    "id(l)\n",
    "print(l)\n",
    "\n",
    "l[0:0]=['a','b']\n",
    "\n"
   ]
  },
  {
   "cell_type": "code",
   "execution_count": 163,
   "metadata": {},
   "outputs": [
    {
     "name": "stdout",
     "output_type": "stream",
     "text": [
      "['a', 'b', 'c', 10, 20]\n",
      "['ramu', 'seetha', 'krishna', 'radha']\n"
     ]
    }
   ],
   "source": [
    "# was  to concat the new value into the ending of the given list\n",
    "r=['a','b','c']\n",
    "r=r+[10,20]\n",
    "print(r)\n",
    "\n",
    "y=['ramu', 'seetha']\n",
    "y+=['krishna','radha']\n",
    "print(y)"
   ]
  },
  {
   "cell_type": "code",
   "execution_count": 164,
   "metadata": {},
   "outputs": [
    {
     "name": "stdout",
     "output_type": "stream",
     "text": [
      "[10, 150.13, '10', '20', True, 'haii']\n"
     ]
    }
   ],
   "source": [
    "# was to concat the new value into the middle of the given list\n",
    "l=[10,150.13,True,\"haii\"]\n",
    "l[len(l)//2:len(l)//2]=['10','20']\n",
    "print(l)"
   ]
  },
  {
   "cell_type": "code",
   "execution_count": 165,
   "metadata": {},
   "outputs": [
    {
     "name": "stdout",
     "output_type": "stream",
     "text": [
      "[10, 153.4, 100, 200, True, 'haii']\n"
     ]
    }
   ],
   "source": [
    "# was to concat the new value into the specofic position of the given list\n",
    "l=[10,153.4,True,\"haii\"]\n",
    "l[2:2]=[100,200]\n",
    "print(l)\n"
   ]
  },
  {
   "cell_type": "code",
   "execution_count": 166,
   "metadata": {},
   "outputs": [
    {
     "name": "stdout",
     "output_type": "stream",
     "text": [
      "[10, (15+6j), True, 'haii']\n"
     ]
    }
   ],
   "source": [
    "# was to modify the new value into the specific position of given list\n",
    "l=[10,153.4,True,\"haii\"]\n",
    "l[1]=15+6j\n",
    "print(l)"
   ]
  },
  {
   "cell_type": "code",
   "execution_count": 167,
   "metadata": {},
   "outputs": [
    {
     "name": "stdout",
     "output_type": "stream",
     "text": [
      "[180, (15+6j), True, 'haii']\n"
     ]
    }
   ],
   "source": [
    "# was to modify the new value into the staring of the given list\n",
    "l=[10,15+6j,True,\"haii\"]\n",
    "l[0]=180\n",
    "print(l)"
   ]
  },
  {
   "cell_type": "code",
   "execution_count": 168,
   "metadata": {},
   "outputs": [
    {
     "name": "stdout",
     "output_type": "stream",
     "text": [
      "[10, (15+6j), True, 'hello world']\n"
     ]
    }
   ],
   "source": [
    "# was to modify the new value into the ending of the given list\n",
    "l=[10,15+6j,True,\"haii\"]\n",
    "l[-1]=\"hello world\"\n",
    "print(l)"
   ]
  },
  {
   "cell_type": "code",
   "execution_count": 169,
   "metadata": {},
   "outputs": [
    {
     "name": "stdout",
     "output_type": "stream",
     "text": [
      "[10, (15+6j), ['abc', 'cde'], 'haii']\n"
     ]
    }
   ],
   "source": [
    "# was to modify the new value into the middle of given list\n",
    "l=[10,15+6j,True,\"haii\"]\n",
    "l[len(l)//2]=[\"abc\",\"cde\"]\n",
    "print(l)"
   ]
  },
  {
   "cell_type": "code",
   "execution_count": 170,
   "metadata": {},
   "outputs": [
    {
     "name": "stdout",
     "output_type": "stream",
     "text": [
      "['a', 'b', 'c', 'd', 5, 6, 7, 8, 9]\n"
     ]
    }
   ],
   "source": [
    "# was to  modify the first 4 position values into a given list\n",
    "k=[1,2,3,4,5,6,7,8,9]\n",
    "k[0:4]=['a','b','c','d']\n",
    "print(k)"
   ]
  },
  {
   "cell_type": "code",
   "execution_count": 171,
   "metadata": {},
   "outputs": [
    {
     "name": "stdout",
     "output_type": "stream",
     "text": [
      "['a', 2, 'b', 4, 'c', 6, 'd', 8, 9]\n"
     ]
    }
   ],
   "source": [
    "# was to modufy the sequence of value into a given list\n",
    "k=[1,2,3,4,5,6,7,8,9]\n",
    "k[0:7:2]=['a','b','c','d']\n",
    "print(k)"
   ]
  },
  {
   "cell_type": "code",
   "execution_count": 172,
   "metadata": {},
   "outputs": [
    {
     "name": "stdout",
     "output_type": "stream",
     "text": [
      "[1, 2, 3, 4, 6, 7, 8, 9]\n"
     ]
    }
   ],
   "source": [
    "# was to delete the value in the specific  position of the given list\n",
    "k=[1,2,3,4,5,6,7,8,9]\n",
    "del k[4]\n",
    "print(k)"
   ]
  },
  {
   "cell_type": "code",
   "execution_count": 173,
   "metadata": {},
   "outputs": [
    {
     "name": "stdout",
     "output_type": "stream",
     "text": [
      "[1, 2, 3, 4, 5, 6, 7, 8]\n"
     ]
    }
   ],
   "source": [
    "# was to delete the value in the new value into the ending of the  list\n",
    "k=[1,2,3,4,5,6,7,8,9]\n",
    "del k[-1] \n",
    "print(k)"
   ]
  },
  {
   "cell_type": "code",
   "execution_count": 174,
   "metadata": {},
   "outputs": [
    {
     "name": "stdout",
     "output_type": "stream",
     "text": [
      "[1, 2, 3, 4, 6, 7, 8, 9]\n"
     ]
    }
   ],
   "source": [
    "# was to delete the middle of the list\n",
    "k=[1,2,3,4,5,6,7,8,9]\n",
    "del k[len(k)//2] \n",
    "print(k)"
   ]
  },
  {
   "cell_type": "code",
   "execution_count": 175,
   "metadata": {},
   "outputs": [
    {
     "name": "stdout",
     "output_type": "stream",
     "text": [
      "(7, 8, 1, 2, 4, 5, 6, 3)\n"
     ]
    }
   ],
   "source": [
    "# was to concat the value into string of the tuple\n",
    "b=(1,2,4,5,6,3)\n",
    "b=(7,8)+b\n",
    "print(b)"
   ]
  },
  {
   "cell_type": "code",
   "execution_count": 176,
   "metadata": {},
   "outputs": [],
   "source": [
    "# was to concat the value into middle of the tuple\n",
    "k=(1,2,3,4,5,6)\n",
    "len(k)//2\n",
    "k=k[:3]+(7,8)+k[3::]"
   ]
  },
  {
   "cell_type": "code",
   "execution_count": 177,
   "metadata": {},
   "outputs": [
    {
     "name": "stdout",
     "output_type": "stream",
     "text": [
      "(1, 2, 3, 4, 5, 6, 7, 8)\n"
     ]
    }
   ],
   "source": [
    "# was to cancate the value into  the ending of the tuple\n",
    "k=(1,2,3,4,5,6)\n",
    "k=k+(7,8)\n",
    "print(k)"
   ]
  },
  {
   "cell_type": "code",
   "execution_count": 178,
   "metadata": {},
   "outputs": [
    {
     "name": "stdout",
     "output_type": "stream",
     "text": [
      "(1, 2, 3, 7.8, 4, 5, 6)\n"
     ]
    }
   ],
   "source": [
    "# was to modify the sequence of values in given tuple\n",
    "k=(1,2,3,4,5,6)\n",
    "k=k[0:3]+(7.8,)+k[3:]\n",
    "print(k)"
   ]
  },
  {
   "cell_type": "code",
   "execution_count": 179,
   "metadata": {},
   "outputs": [
    {
     "name": "stdout",
     "output_type": "stream",
     "text": [
      "(1, 2, 3, 5, 6)\n"
     ]
    }
   ],
   "source": [
    "# was to delete the sequence of values in given tuple\n",
    "k=(1,2,3,4,5,6)\n",
    "k=k[0:3]+k[4:]\n",
    "print(k)"
   ]
  },
  {
   "cell_type": "code",
   "execution_count": 180,
   "metadata": {},
   "outputs": [
    {
     "name": "stdout",
     "output_type": "stream",
     "text": [
      "{1, 2, 3, 4, 5, 6, 10, 20, 'a'}\n"
     ]
    },
    {
     "data": {
      "text/plain": [
       "2094091652448"
      ]
     },
     "execution_count": 180,
     "metadata": {},
     "output_type": "execute_result"
    }
   ],
   "source": [
    "# was to cancat the new value  into the set\n",
    "s={1,2,3,4,5,6}\n",
    "id(s)\n",
    "s=s|{10,20,\"a\"}\n",
    "print(s)\n",
    "id(s)"
   ]
  },
  {
   "cell_type": "code",
   "execution_count": 181,
   "metadata": {},
   "outputs": [
    {
     "name": "stdout",
     "output_type": "stream",
     "text": [
      "{1, 2, 3, 10, 'A', 20}\n"
     ]
    }
   ],
   "source": [
    "# was to delete the specific value into the set\n",
    "s={1,2,3,4,5,6,10,20,\"A\"}\n",
    "id(s)\n",
    "s=s-{4,5,6}\n",
    "print(s)"
   ]
  },
  {
   "cell_type": "code",
   "execution_count": 182,
   "metadata": {},
   "outputs": [
    {
     "name": "stdout",
     "output_type": "stream",
     "text": [
      "{'hai': 'bye', 'good': 'bad', 'life': 'am', 'happy': 'sad'}\n"
     ]
    }
   ],
   "source": [
    "# was to concate the new key and value into the dict\n",
    "s={\"hai\":\"bye\",\"good\":\"bad\",\"life\":\"am\"}\n",
    "s[\"happy\"]=\"sad\"\n",
    "print(s)"
   ]
  },
  {
   "cell_type": "code",
   "execution_count": 183,
   "metadata": {},
   "outputs": [
    {
     "name": "stdout",
     "output_type": "stream",
     "text": [
      "{'a': 150, 'b': 750, 'd': 780}\n"
     ]
    }
   ],
   "source": [
    "# was to delete the specific key and value in the given dict \n",
    "d={'a':150, 'b':750,'c':500,'d':780}\n",
    "del d['c']\n",
    "print(d)\n"
   ]
  },
  {
   "cell_type": "code",
   "execution_count": 184,
   "metadata": {},
   "outputs": [
    {
     "name": "stdout",
     "output_type": "stream",
     "text": [
      "{'e': 100, 'b': 750, 'c': 500, 'd': 780}\n"
     ]
    }
   ],
   "source": [
    "# was to modify the specific value in the given dict\n",
    "d={'e':150, 'b':750,'c':500,'d':780}\n",
    "d[\"e\"]=100\n",
    "print(d)\n"
   ]
  },
  {
   "cell_type": "code",
   "execution_count": 185,
   "metadata": {},
   "outputs": [
    {
     "data": {
      "text/plain": [
       "['a', 'b', 'c', 10, 30, 40]"
      ]
     },
     "execution_count": 185,
     "metadata": {},
     "output_type": "execute_result"
    }
   ],
   "source": [
    "# was to concate the list value and tuple values by using tupe casting\n",
    "l=['a','b','c']\n",
    "t=(10,30,40)\n",
    "l+ list(t)"
   ]
  },
  {
   "cell_type": "code",
   "execution_count": 186,
   "metadata": {},
   "outputs": [
    {
     "name": "stdout",
     "output_type": "stream",
     "text": [
      "['a', 'b', 'c', 10, 30, 40]\n"
     ]
    }
   ],
   "source": [
    "# was to cancate the list value and tuple value without using typecasting\n",
    "l=['a','b','c']\n",
    "t=(10,30,40)\n",
    "l+=t\n",
    "print(l)"
   ]
  },
  {
   "cell_type": "code",
   "execution_count": 187,
   "metadata": {},
   "outputs": [
    {
     "name": "stdout",
     "output_type": "stream",
     "text": [
      "0\n"
     ]
    },
    {
     "data": {
      "text/plain": [
       "True"
      ]
     },
     "execution_count": 187,
     "metadata": {},
     "output_type": "execute_result"
    }
   ],
   "source": [
    "# was to check the given number is divisible by 3\n",
    "n=9\n",
    "res=n%3\n",
    "print(res)\n",
    "res==0"
   ]
  },
  {
   "cell_type": "code",
   "execution_count": 188,
   "metadata": {},
   "outputs": [
    {
     "name": "stdout",
     "output_type": "stream",
     "text": [
      "True\n"
     ]
    }
   ],
   "source": [
    "# was to check the given number ids divible by 2 and 6\n",
    "n=12\n",
    "print(n%2==0 and n%6==0)\n"
   ]
  },
  {
   "cell_type": "code",
   "execution_count": 189,
   "metadata": {},
   "outputs": [
    {
     "name": "stdout",
     "output_type": "stream",
     "text": [
      "True\n"
     ]
    }
   ],
   "source": [
    "# wae to check the last digit is divisible by 3from given integer number ,(with typecasting)\n",
    "n=1996\n",
    "print(((n%10)%3)==0)\n"
   ]
  },
  {
   "cell_type": "code",
   "execution_count": 190,
   "metadata": {},
   "outputs": [
    {
     "name": "stdout",
     "output_type": "stream",
     "text": [
      "True\n"
     ]
    }
   ],
   "source": [
    "# wae to check the last  digit is divisible by 3 given integer number (with type casting)\n",
    "n=2026\n",
    "print(int(str(n)[-1])%3==0)"
   ]
  },
  {
   "cell_type": "code",
   "execution_count": 191,
   "metadata": {},
   "outputs": [
    {
     "name": "stdout",
     "output_type": "stream",
     "text": [
      "True\n"
     ]
    }
   ],
   "source": [
    "# was to check the given number is greater than 150 \n",
    "a=200\n",
    "print(a>150)"
   ]
  },
  {
   "cell_type": "code",
   "execution_count": 192,
   "metadata": {},
   "outputs": [
    {
     "name": "stdout",
     "output_type": "stream",
     "text": [
      "True\n"
     ]
    }
   ],
   "source": [
    "# wae to check the given number is greater than or equal to 100\n",
    "a=200\n",
    "print(a>=100)"
   ]
  },
  {
   "cell_type": "code",
   "execution_count": 193,
   "metadata": {},
   "outputs": [
    {
     "name": "stdout",
     "output_type": "stream",
     "text": [
      "True\n"
     ]
    }
   ],
   "source": [
    "# wae to check the given number is less than 150,print result\n",
    "a=100\n",
    "print(a<150)\n"
   ]
  },
  {
   "cell_type": "code",
   "execution_count": 194,
   "metadata": {},
   "outputs": [
    {
     "name": "stdout",
     "output_type": "stream",
     "text": [
      "True\n"
     ]
    }
   ],
   "source": [
    "# was  to check the given number is less than or equal to 100\n",
    "a=100\n",
    "print(a<=100)\n",
    "\n"
   ]
  },
  {
   "cell_type": "code",
   "execution_count": 195,
   "metadata": {},
   "outputs": [
    {
     "name": "stdout",
     "output_type": "stream",
     "text": [
      "True\n"
     ]
    }
   ],
   "source": [
    "# was  to check  the given numberb is greater than 15&less than 24\n",
    "a=20\n",
    "print(a>15 &a<24)"
   ]
  },
  {
   "cell_type": "code",
   "execution_count": 196,
   "metadata": {},
   "outputs": [
    {
     "name": "stdout",
     "output_type": "stream",
     "text": [
      "True\n"
     ]
    }
   ],
   "source": [
    "# wae to check the given number is even\n",
    "a=10\n",
    "print(a%2==0)"
   ]
  },
  {
   "cell_type": "code",
   "execution_count": 197,
   "metadata": {},
   "outputs": [
    {
     "name": "stdout",
     "output_type": "stream",
     "text": [
      "True\n"
     ]
    }
   ],
   "source": [
    "# wae to check the given number is odd\n",
    "a=9\n",
    "print(a%2!=0)\n"
   ]
  },
  {
   "cell_type": "code",
   "execution_count": 198,
   "metadata": {},
   "outputs": [
    {
     "name": "stdout",
     "output_type": "stream",
     "text": [
      "abcabcabcabcabcabc\n"
     ]
    }
   ],
   "source": [
    "# wae to check perform the replication of a given string with 6\n",
    "a=\"abc\"\n",
    "print(a*6)\n"
   ]
  },
  {
   "cell_type": "code",
   "execution_count": 199,
   "metadata": {},
   "outputs": [
    {
     "name": "stdout",
     "output_type": "stream",
     "text": [
      "True\n"
     ]
    }
   ],
   "source": [
    "# wae to check given number is divisible by 3 and also the number should be greater than 22\n",
    "a=24\n",
    "print(a%3==0 and a>22)\n"
   ]
  },
  {
   "cell_type": "code",
   "execution_count": 200,
   "metadata": {},
   "outputs": [
    {
     "name": "stdout",
     "output_type": "stream",
     "text": [
      "False\n",
      "True\n"
     ]
    }
   ],
   "source": [
    "# wae to check perform the length if the collection is even or not\n",
    "g=\"pyspiders\"\n",
    "len(g)\n",
    "print(len(g)%2==0)\n",
    "\n",
    "g=\"pyspider\"\n",
    "len(g)\n",
    "print(len(g)%2==0)"
   ]
  },
  {
   "cell_type": "code",
   "execution_count": 201,
   "metadata": {},
   "outputs": [
    {
     "name": "stdout",
     "output_type": "stream",
     "text": [
      "True\n"
     ]
    }
   ],
   "source": [
    "# wae to check perform the length of the collection is less 55 and greater than 16\n",
    "a=\"abcdefghijklmnopqrstuvwxyz\"\n",
    "print(len(a)>16 and len(a)<55)"
   ]
  },
  {
   "cell_type": "code",
   "execution_count": 202,
   "metadata": {},
   "outputs": [
    {
     "name": "stdout",
     "output_type": "stream",
     "text": [
      "False\n"
     ]
    }
   ],
   "source": [
    "# wae  to check perform the length  of the collection is divisible by 5 and odd\n",
    "a=\"abcdefghijklmnopqrstuvwxyz\"\n",
    "print(len(a)%5==0 and len(a)%2!=0)"
   ]
  },
  {
   "cell_type": "code",
   "execution_count": 203,
   "metadata": {},
   "outputs": [],
   "source": [
    "# wae to check extrat the middle position of a goven collection os eother str,list ,tuple\n",
    "s=[10,('a','b'),[10,20]]\n",
    "res=type(s[len(s)//2])"
   ]
  },
  {
   "cell_type": "code",
   "execution_count": 204,
   "metadata": {},
   "outputs": [
    {
     "name": "stdout",
     "output_type": "stream",
     "text": [
      "True\n"
     ]
    }
   ],
   "source": [
    "# wae to check to the given number is greater than 20 and less than 30 and it should be even\n",
    "n=25\n",
    "print(n>20 & n<30)\n"
   ]
  },
  {
   "cell_type": "code",
   "execution_count": 205,
   "metadata": {},
   "outputs": [
    {
     "name": "stdout",
     "output_type": "stream",
     "text": [
      "True\n"
     ]
    }
   ],
   "source": [
    "# wae to check the given number is even and it should be less than 120\n",
    "n=100\n",
    "print(n%2==0 & n<120)"
   ]
  },
  {
   "cell_type": "code",
   "execution_count": 206,
   "metadata": {},
   "outputs": [
    {
     "name": "stdout",
     "output_type": "stream",
     "text": [
      "True\n"
     ]
    }
   ],
   "source": [
    "# wae  to check the given number is even and present from 40 to 70\n",
    "n=44\n",
    "print(n%2==0)"
   ]
  },
  {
   "cell_type": "code",
   "execution_count": 207,
   "metadata": {},
   "outputs": [
    {
     "name": "stdout",
     "output_type": "stream",
     "text": [
      "False\n"
     ]
    }
   ],
   "source": [
    "# wae to check the given number is odd and it should be greater than 97\n",
    "n=99\n",
    "print(n%2!=0 & n>97)"
   ]
  },
  {
   "cell_type": "code",
   "execution_count": 208,
   "metadata": {},
   "outputs": [
    {
     "name": "stdout",
     "output_type": "stream",
     "text": [
      "False\n"
     ]
    }
   ],
   "source": [
    "# wae to check the given number is less than 122 and greater than 48 and the number shuold be divisible by 4\n",
    "a=60\n",
    "print(a<122&a>48&a%4==0)"
   ]
  },
  {
   "cell_type": "code",
   "execution_count": 209,
   "metadata": {},
   "outputs": [
    {
     "name": "stdout",
     "output_type": "stream",
     "text": [
      "True\n"
     ]
    }
   ],
   "source": [
    "# was  to check the given number is divisible by 3 or 5 displaying the value\n",
    "n=30\n",
    "print(n%3==0 & n%5==0)"
   ]
  },
  {
   "cell_type": "code",
   "execution_count": 210,
   "metadata": {},
   "outputs": [
    {
     "name": "stdout",
     "output_type": "stream",
     "text": [
      "True\n"
     ]
    }
   ],
   "source": [
    "# wae to check the number in between 100 to 200 including the limit\n",
    "n=150\n",
    "print (100<=150 and 150<=200)"
   ]
  },
  {
   "cell_type": "code",
   "execution_count": 211,
   "metadata": {},
   "outputs": [
    {
     "name": "stdout",
     "output_type": "stream",
     "text": [
      "True\n"
     ]
    }
   ],
   "source": [
    "# was to check the given number is in between 100 to 200\n",
    "n=150\n",
    "print(100<150 and 150<200)"
   ]
  },
  {
   "cell_type": "code",
   "execution_count": 212,
   "metadata": {},
   "outputs": [
    {
     "name": "stdout",
     "output_type": "stream",
     "text": [
      "False\n"
     ]
    }
   ],
   "source": [
    "# wae to check  the given string last character ascii value should be divisible by 5 or not\n",
    "s='apple'\n",
    "print(ord(s[-1])%5==0)\n"
   ]
  },
  {
   "cell_type": "code",
   "execution_count": 213,
   "metadata": {},
   "outputs": [
    {
     "name": "stdout",
     "output_type": "stream",
     "text": [
      "False\n"
     ]
    }
   ],
   "source": [
    "# was  to check the given number is present 60 to 130 and the number should be divisible by 3 anf 4 and tha last digit shuld be greater than 9\n",
    "n=129\n",
    "print(60<=n<=130 and n%3==0 and n%4==0 and n%10>9) "
   ]
  },
  {
   "cell_type": "code",
   "execution_count": 214,
   "metadata": {},
   "outputs": [
    {
     "name": "stdout",
     "output_type": "stream",
     "text": [
      "True\n"
     ]
    }
   ],
   "source": [
    "# wae to check the given number is even or less than 25\n",
    "n=24\n",
    "print(n % 2==0 or n<25)"
   ]
  },
  {
   "cell_type": "code",
   "execution_count": 215,
   "metadata": {},
   "outputs": [
    {
     "name": "stdout",
     "output_type": "stream",
     "text": [
      "True\n"
     ]
    }
   ],
   "source": [
    "# wae to check the given number even is greater than 25\n",
    "n=30\n",
    "print(n%2==0 or n>25)"
   ]
  },
  {
   "cell_type": "code",
   "execution_count": 216,
   "metadata": {},
   "outputs": [
    {
     "name": "stdout",
     "output_type": "stream",
     "text": [
      "True\n"
     ]
    }
   ],
   "source": [
    "# wae to check the given number is divisible by either 3 or 5\n",
    "n=30\n",
    "print(n%3==0 or n%5==0)"
   ]
  },
  {
   "cell_type": "code",
   "execution_count": 217,
   "metadata": {},
   "outputs": [
    {
     "name": "stdout",
     "output_type": "stream",
     "text": [
      "True\n"
     ]
    }
   ],
   "source": [
    "# wae t0 check the given number is not an even number \n",
    "n=5\n",
    "print(n%2!=0) "
   ]
  },
  {
   "cell_type": "code",
   "execution_count": 218,
   "metadata": {},
   "outputs": [
    {
     "name": "stdout",
     "output_type": "stream",
     "text": [
      "True\n"
     ]
    }
   ],
   "source": [
    "# wae to check the given number is not an odd number\n",
    "n=10\n",
    "print(n%2==0)"
   ]
  },
  {
   "cell_type": "code",
   "execution_count": 219,
   "metadata": {},
   "outputs": [
    {
     "name": "stdout",
     "output_type": "stream",
     "text": [
      "True\n"
     ]
    }
   ],
   "source": [
    "# wae to check the given number is not a divisible by 3\n",
    "n=16\n",
    "print(n%3!=0)\n"
   ]
  },
  {
   "cell_type": "code",
   "execution_count": 220,
   "metadata": {},
   "outputs": [
    {
     "name": "stdout",
     "output_type": "stream",
     "text": [
      "True\n"
     ]
    }
   ],
   "source": [
    "# wae to check the given number is not a divisible by 3 and 5\n",
    "n=16\n",
    "print(n%3!=0 and n%5!=0)\n"
   ]
  },
  {
   "cell_type": "code",
   "execution_count": 221,
   "metadata": {},
   "outputs": [
    {
     "name": "stdout",
     "output_type": "stream",
     "text": [
      "True\n"
     ]
    }
   ],
   "source": [
    "# wae to check the given number not a divisible by 3 or 5\n",
    "n=16\n",
    "print(n%3!=0 or n%5!=0) "
   ]
  },
  {
   "cell_type": "code",
   "execution_count": 114,
   "metadata": {},
   "outputs": [
    {
     "name": "stdout",
     "output_type": "stream",
     "text": [
      "True\n"
     ]
    }
   ],
   "source": [
    "# wae  to check the given character ascii value is not divisible by 5\n",
    "n='B'\n",
    "print(ord('B')%5!=0)\n"
   ]
  },
  {
   "cell_type": "code",
   "execution_count": 115,
   "metadata": {},
   "outputs": [
    {
     "name": "stdout",
     "output_type": "stream",
     "text": [
      "A\n"
     ]
    }
   ],
   "source": [
    "#wae to check find out the ascii character in a given number\n",
    "n=65\n",
    "print(chr(n))"
   ]
  },
  {
   "cell_type": "code",
   "execution_count": 116,
   "metadata": {},
   "outputs": [
    {
     "name": "stdout",
     "output_type": "stream",
     "text": [
      "65\n"
     ]
    }
   ],
   "source": [
    "# wae to check to find out ascii values in a given character\n",
    "n=\"A\"\n",
    "print(ord(n))"
   ]
  },
  {
   "cell_type": "code",
   "execution_count": 222,
   "metadata": {},
   "outputs": [
    {
     "name": "stdout",
     "output_type": "stream",
     "text": [
      "False\n"
     ]
    }
   ],
   "source": [
    "# wae to check given character is upper case or not\n",
    "ch='G'\n",
    "print (not('A'<=ch<='Z'))"
   ]
  },
  {
   "cell_type": "code",
   "execution_count": 234,
   "metadata": {},
   "outputs": [
    {
     "name": "stdout",
     "output_type": "stream",
     "text": [
      "True\n"
     ]
    }
   ],
   "source": [
    "# wae to check the given character is the lowercase\n",
    "ch='a'\n",
    "print('a'<=ch<='z')"
   ]
  },
  {
   "cell_type": "code",
   "execution_count": 245,
   "metadata": {},
   "outputs": [
    {
     "name": "stdout",
     "output_type": "stream",
     "text": [
      "True\n"
     ]
    }
   ],
   "source": [
    "# wae to check the given character is the alphabet\n",
    "ch='s'\n",
    "print('A'<=ch<='Z'or 'a'<=ch<='z')"
   ]
  },
  {
   "cell_type": "code",
   "execution_count": 255,
   "metadata": {},
   "outputs": [
    {
     "name": "stdout",
     "output_type": "stream",
     "text": [
      "True\n"
     ]
    }
   ],
   "source": [
    "# wae to check the given character is the ascii number\n",
    "ch='5'\n",
    "print('0'<=ch<='9')"
   ]
  },
  {
   "cell_type": "code",
   "execution_count": 280,
   "metadata": {},
   "outputs": [
    {
     "name": "stdout",
     "output_type": "stream",
     "text": [
      "True\n"
     ]
    }
   ],
   "source": [
    "# wae to check the given character is the  a special charater\n",
    "ch='$'\n",
    "print (not('A'<= ch<='z'or 'a'<=ch<='z' or '0'<=ch<='9'))"
   ]
  },
  {
   "cell_type": "code",
   "execution_count": 336,
   "metadata": {},
   "outputs": [
    {
     "name": "stdout",
     "output_type": "stream",
     "text": [
      "False\n"
     ]
    }
   ],
   "source": [
    "# wae to check the given character should not be uppercase\n",
    "ch='A'\n",
    "print (not('A'<=ch<='Z'))"
   ]
  },
  {
   "cell_type": "code",
   "execution_count": 343,
   "metadata": {},
   "outputs": [
    {
     "name": "stdout",
     "output_type": "stream",
     "text": [
      "False\n"
     ]
    }
   ],
   "source": [
    "# wae to check  the given character should not be lowercase\n",
    "ch='s'\n",
    "print (not('a'<=ch<='z'))"
   ]
  },
  {
   "cell_type": "code",
   "execution_count": 349,
   "metadata": {},
   "outputs": [
    {
     "name": "stdout",
     "output_type": "stream",
     "text": [
      "False\n"
     ]
    }
   ],
   "source": [
    "#  wae to check  the given character should not be alphabet\n",
    "ch='a'\n",
    "print(not('A'<='Z'or 'a'<='z'))\n"
   ]
  },
  {
   "cell_type": "code",
   "execution_count": 358,
   "metadata": {},
   "outputs": [
    {
     "name": "stdout",
     "output_type": "stream",
     "text": [
      "False\n"
     ]
    }
   ],
   "source": [
    "#  wae to check  the given character should not be ascii number\n",
    "ch='6'\n",
    "print ( not('0'<=ch<='9'))\n"
   ]
  },
  {
   "cell_type": "code",
   "execution_count": 359,
   "metadata": {},
   "outputs": [
    {
     "name": "stdout",
     "output_type": "stream",
     "text": [
      "True\n"
     ]
    }
   ],
   "source": [
    "# wae to check  the given character should not be a special character\n",
    "ch='$'\n",
    "print (not('A'<=ch<='Z' or 'a'<=ch<='z'or '0'<=ch<='9'))"
   ]
  },
  {
   "cell_type": "code",
   "execution_count": 360,
   "metadata": {},
   "outputs": [
    {
     "name": "stdout",
     "output_type": "stream",
     "text": [
      "True\n"
     ]
    }
   ],
   "source": [
    "#wae to check  the given character is a vowel \n",
    "ch='A'\n",
    "print(ch=='A' or ch=='E' or ch=='I'or ch=='O' or ch=='U' or ch=='a'or ch=='e'or ch=='i' or ch=='o'or ch=='u' )"
   ]
  },
  {
   "cell_type": "code",
   "execution_count": 363,
   "metadata": {},
   "outputs": [
    {
     "name": "stdout",
     "output_type": "stream",
     "text": [
      "True\n"
     ]
    }
   ],
   "source": [
    "#  wae to check  the given character is consonant \n",
    "ch='r'\n",
    "print(not(ch in 'aeiouAEIOU'))"
   ]
  }
 ],
 "metadata": {
  "kernelspec": {
   "display_name": "Python 3",
   "language": "python",
   "name": "python3"
  },
  "language_info": {
   "codemirror_mode": {
    "name": "ipython",
    "version": 3
   },
   "file_extension": ".py",
   "mimetype": "text/x-python",
   "name": "python",
   "nbconvert_exporter": "python",
   "pygments_lexer": "ipython3",
   "version": "3.10.5"
  },
  "orig_nbformat": 4
 },
 "nbformat": 4,
 "nbformat_minor": 2
}
