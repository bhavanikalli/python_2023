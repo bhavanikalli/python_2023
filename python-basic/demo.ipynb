{
 "cells": [
  {
   "cell_type": "code",
   "execution_count": 546,
   "metadata": {},
   "outputs": [
    {
     "name": "stdout",
     "output_type": "stream",
     "text": [
      "hello\n"
     ]
    }
   ],
   "source": [
    "print(\"hello\")\n"
   ]
  },
  {
   "cell_type": "code",
   "execution_count": 547,
   "metadata": {},
   "outputs": [
    {
     "name": "stdout",
     "output_type": "stream",
     "text": [
      "25\n"
     ]
    }
   ],
   "source": [
    "a=10\n",
    "b=15\n",
    "c=a+b\n",
    "print(c)\n",
    "\n",
    "\n"
   ]
  },
  {
   "cell_type": "code",
   "execution_count": 548,
   "metadata": {},
   "outputs": [
    {
     "name": "stdout",
     "output_type": "stream",
     "text": [
      "12\n"
     ]
    }
   ],
   "source": [
    "a=17\n",
    "b=5\n",
    "c=a-b\n",
    "print(c)\n"
   ]
  },
  {
   "cell_type": "code",
   "execution_count": 549,
   "metadata": {},
   "outputs": [
    {
     "data": {
      "text/plain": [
       "'v'"
      ]
     },
     "execution_count": 549,
     "metadata": {},
     "output_type": "execute_result"
    }
   ],
   "source": [
    "b=\"bhavani\"\n",
    "b[3]\n"
   ]
  },
  {
   "cell_type": "code",
   "execution_count": 550,
   "metadata": {},
   "outputs": [
    {
     "data": {
      "text/plain": [
       "'bhavan'"
      ]
     },
     "execution_count": 550,
     "metadata": {},
     "output_type": "execute_result"
    }
   ],
   "source": [
    "b=\"bhavani\"\n",
    "b[0:-1]"
   ]
  },
  {
   "cell_type": "code",
   "execution_count": 551,
   "metadata": {},
   "outputs": [
    {
     "data": {
      "text/plain": [
       "'inavahb'"
      ]
     },
     "execution_count": 551,
     "metadata": {},
     "output_type": "execute_result"
    }
   ],
   "source": [
    "b=\"bhavani\"\n",
    "b[-1::-1]"
   ]
  },
  {
   "cell_type": "code",
   "execution_count": 552,
   "metadata": {},
   "outputs": [
    {
     "data": {
      "text/plain": [
       "[b'1010', 'hello', [4, 9]]"
      ]
     },
     "execution_count": 552,
     "metadata": {},
     "output_type": "execute_result"
    }
   ],
   "source": [
    "b=[7,7.8, 7+5j,b\"1010\",\"hello\",[4,9],(89,5),{56,70}]\n",
    "b[3:6:1]\n"
   ]
  },
  {
   "cell_type": "code",
   "execution_count": 553,
   "metadata": {},
   "outputs": [
    {
     "data": {
      "text/plain": [
       "'bhav'"
      ]
     },
     "execution_count": 553,
     "metadata": {},
     "output_type": "execute_result"
    }
   ],
   "source": [
    "a=\"bhavani\"\n",
    "a[0:4:1]\n"
   ]
  },
  {
   "cell_type": "code",
   "execution_count": 554,
   "metadata": {},
   "outputs": [
    {
     "data": {
      "text/plain": [
       "[{56, 70}, (89, 5), [4, 9], 'hello', b'1010', (7+5j), 7.8, 7]"
      ]
     },
     "execution_count": 554,
     "metadata": {},
     "output_type": "execute_result"
    }
   ],
   "source": [
    "b=[7,7.8, 7+5j,b\"1010\",\"hello\",[4,9],(89,5),{56,70}]\n",
    "b[-1::-1]\n"
   ]
  },
  {
   "cell_type": "code",
   "execution_count": 555,
   "metadata": {},
   "outputs": [
    {
     "data": {
      "text/plain": [
       "'hellowolrd'"
      ]
     },
     "execution_count": 555,
     "metadata": {},
     "output_type": "execute_result"
    }
   ],
   "source": [
    "#WAS  to a print \"hello world\"by using shell\n",
    "\"hellowolrd\""
   ]
  },
  {
   "cell_type": "code",
   "execution_count": 556,
   "metadata": {},
   "outputs": [
    {
     "name": "stdout",
     "output_type": "stream",
     "text": [
      "hello world\n"
     ]
    }
   ],
   "source": [
    "# WAS to print \"hello world\" by using print function\n",
    "print(\"hello world\")"
   ]
  },
  {
   "cell_type": "code",
   "execution_count": 557,
   "metadata": {},
   "outputs": [],
   "source": [
    "# was to initilize varivable \n",
    "a=60\n",
    "b=60.0\n",
    "c=60+0j\n",
    "d=b'1010'\n",
    "e=True\n",
    "f=None \n",
    "g=\"hello\"\n",
    "h=[60,61,62]\n",
    "i=(60,4,6)\n",
    "j={60.5,8}\n",
    "k={ a:60,b:68}\n",
    "\n",
    "\n",
    "\n",
    "\n"
   ]
  },
  {
   "cell_type": "code",
   "execution_count": 558,
   "metadata": {},
   "outputs": [],
   "source": [
    "# was to initilize multivariable-values are 150,120,250\n",
    "a,b,c=150,120,250\n",
    "a=150\n",
    "b=120\n",
    "c=250"
   ]
  },
  {
   "cell_type": "code",
   "execution_count": 559,
   "metadata": {},
   "outputs": [
    {
     "name": "stdout",
     "output_type": "stream",
     "text": [
      "(150, 120, 250)\n"
     ]
    }
   ],
   "source": [
    "a=150,120,250\n",
    "print(a)"
   ]
  },
  {
   "cell_type": "code",
   "execution_count": 560,
   "metadata": {},
   "outputs": [
    {
     "data": {
      "text/plain": [
       "float"
      ]
     },
     "execution_count": 560,
     "metadata": {},
     "output_type": "execute_result"
    }
   ],
   "source": [
    "# was to print the type of the data in given value\n",
    "a=10\n",
    "type(a)\n",
    "b=15.7\n",
    "type(b)\n"
   ]
  },
  {
   "cell_type": "code",
   "execution_count": 561,
   "metadata": {},
   "outputs": [
    {
     "data": {
      "text/plain": [
       "2511973880928"
      ]
     },
     "execution_count": 561,
     "metadata": {},
     "output_type": "execute_result"
    }
   ],
   "source": [
    "# was to print  the address of the memory block in given value\n",
    "a={10,60}\n",
    "id(a)\n",
    "id({10,60})\n"
   ]
  },
  {
   "cell_type": "code",
   "execution_count": 562,
   "metadata": {},
   "outputs": [
    {
     "name": "stdout",
     "output_type": "stream",
     "text": [
      "rahul\n",
      "26\n",
      "rahul 26 5384780838 rahul@gmail.com 5.5 True\n"
     ]
    },
    {
     "data": {
      "text/plain": [
       "6389709103"
      ]
     },
     "execution_count": 562,
     "metadata": {},
     "output_type": "execute_result"
    }
   ],
   "source": [
    "# was to print your details ,first store your details extract the values and display\n",
    "name=\"rahul\"\n",
    "age=26\n",
    "phone=5384780838\n",
    "email=\"rahul@gmail.com\"\n",
    "height=5.5\n",
    "pancard=True\n",
    "print(name)\n",
    "print(age)\n",
    "print(name, age,phone,email,height,pancard)\n",
    "rahul=[\"rahul\",5384780838,\"rahul@gmail.com\",5.5,True]\n",
    "rahul[2]\n",
    "rahul[-1]\n",
    "rahul[1]\n",
    "\n",
    "\n",
    "rahul={name:'rahul',\"age\":26,\"phone\":6389709103,\"email\":'rahul@gamil.com','height':5.5,\"pancard\":True}\n",
    "rahul[\"email\"]\n",
    "rahul[\"phone\"]\n",
    "\n",
    "\n"
   ]
  },
  {
   "cell_type": "code",
   "execution_count": 563,
   "metadata": {},
   "outputs": [
    {
     "name": "stdout",
     "output_type": "stream",
     "text": [
      "bye\n",
      "hii\n"
     ]
    }
   ],
   "source": [
    "#was to swap the two values with a tempvariable\n",
    "a=\"hii\"\n",
    "b=\"bye\"\n",
    "temp=a\n",
    "a=b\n",
    "b=temp\n",
    "print(a)\n",
    "print(b)\n"
   ]
  },
  {
   "cell_type": "code",
   "execution_count": 564,
   "metadata": {},
   "outputs": [
    {
     "name": "stdout",
     "output_type": "stream",
     "text": [
      "{10, 50}\n",
      "[10, 50]\n"
     ]
    }
   ],
   "source": [
    "# wasto swap the two values without a temp variable \n",
    "m=[10,50]\n",
    "n={10,50}\n",
    "m,n=n,m\n",
    "print(m)\n",
    "print(n)\n"
   ]
  },
  {
   "cell_type": "code",
   "execution_count": 565,
   "metadata": {},
   "outputs": [
    {
     "name": "stdout",
     "output_type": "stream",
     "text": [
      "{'a': 'pyspider'}\n",
      "{'a': 'qspiders'}\n",
      "[10, 20, 30, 40, 50, 60]\n"
     ]
    }
   ],
   "source": [
    "#was to initilize a value and print the value ,after print the value ,then reinitilize the new value to the existing variableand display the value\n",
    "# initilization\n",
    "a={'a':'pyspider'}\n",
    "print(a)\n",
    "# fetch\n",
    "a['a']\n",
    "# modification\n",
    "a['a']='qspiders'\n",
    "print(a)\n",
    "# concatenation\n",
    "a=[10,20,30]\n",
    "a+=[40,50,60]\n",
    "print(a)\n",
    "# deletion\n",
    "del [a]\n",
    "\n",
    "\n"
   ]
  },
  {
   "cell_type": "code",
   "execution_count": 566,
   "metadata": {},
   "outputs": [
    {
     "name": "stdout",
     "output_type": "stream",
     "text": [
      "10\n",
      "['1', '0']\n",
      "['[', \"'\", '1', \"'\", ',', ' ', \"'\", '0', \"'\", ']']\n"
     ]
    }
   ],
   "source": [
    "# was to convert single to multivalue data type i/p=a=10  o/p ['1','0']\n",
    "a=10 \n",
    "a=str(a)\n",
    "print(a)\n",
    "a=list(a)\n",
    "print(a)\n",
    "\n",
    "\n",
    "print(list(str(a)))\n"
   ]
  },
  {
   "cell_type": "code",
   "execution_count": 567,
   "metadata": {},
   "outputs": [
    {
     "name": "stdout",
     "output_type": "stream",
     "text": [
      "helloworld\n",
      "[10, 20, 30, 40, 50, 60]\n",
      "[10, 20, 30, 'h', 'a', 'i']\n",
      "[10, 20, 30, 40, 50, 60]\n",
      "[10, 20, 30, 'abc']\n"
     ]
    }
   ],
   "source": [
    "# was to concat the two multi value data types (str,list,tuple)\n",
    "x='hello'\n",
    "x+='world' \n",
    "print(x)\n",
    "\n",
    "y=[10,20,30]\n",
    "y+=[40,50,60]\n",
    "print(y)\n",
    "\n",
    "y=[10,20,30]\n",
    "y+=\"hai\"\n",
    "print(y)\n",
    "\n",
    "\n",
    "y=[10,20,30]\n",
    "y+=(40,50,60)\n",
    "print(y)\n",
    "\n",
    "y=[10,20,30]\n",
    "y+={'a''b''c'}\n",
    "print(y)"
   ]
  },
  {
   "cell_type": "code",
   "execution_count": 568,
   "metadata": {},
   "outputs": [
    {
     "data": {
      "text/plain": [
       "4"
      ]
     },
     "execution_count": 568,
     "metadata": {},
     "output_type": "execute_result"
    }
   ],
   "source": [
    "# was to check the length of the collection?\n",
    "t=(10,20)\n",
    "len(t)\n",
    "x={10:20,30:40,'a':\"hai\", 'b':'bye'}\n",
    "len(x)\n"
   ]
  },
  {
   "cell_type": "code",
   "execution_count": 569,
   "metadata": {},
   "outputs": [
    {
     "data": {
      "text/plain": [
       "30"
      ]
     },
     "execution_count": 569,
     "metadata": {},
     "output_type": "execute_result"
    }
   ],
   "source": [
    "# wae to check find out the middle valueof the given collection\n",
    "d=[10,20,30,40,50,60]\n",
    "d[len(d)//2]\n",
    "\n",
    "l=[10,20,30,40]\n",
    "l[len(l)//2]"
   ]
  },
  {
   "cell_type": "code",
   "execution_count": 570,
   "metadata": {},
   "outputs": [
    {
     "name": "stdout",
     "output_type": "stream",
     "text": [
      "haiihow r u\n"
     ]
    }
   ],
   "source": [
    "# was to concat the new string into the string of the given string\n",
    "a=\"how r u\"\n",
    "b= \"haii\"\n",
    "a= b+a\n",
    "print(a)\n"
   ]
  },
  {
   "cell_type": "code",
   "execution_count": 571,
   "metadata": {},
   "outputs": [
    {
     "name": "stdout",
     "output_type": "stream",
     "text": [
      "how r uhaii\n"
     ]
    }
   ],
   "source": [
    "# was to concat the new string into the ending of the given string?\n",
    "a=\"how r u\"\n",
    "b=\"haii\"\n",
    "a+=b\n",
    "print(a)"
   ]
  },
  {
   "cell_type": "code",
   "execution_count": 572,
   "metadata": {},
   "outputs": [
    {
     "name": "stdout",
     "output_type": "stream",
     "text": [
      "haiihellohello\n"
     ]
    }
   ],
   "source": [
    "# was to concat the new string into the middle of the given string\n",
    "a=\"haii\"\n",
    "b=\"hello\" \n",
    "a=a+b\n",
    "a+=b\n",
    "print(a)"
   ]
  },
  {
   "cell_type": "code",
   "execution_count": 573,
   "metadata": {},
   "outputs": [
    {
     "data": {
      "text/plain": [
       "'pysplder'"
      ]
     },
     "execution_count": 573,
     "metadata": {},
     "output_type": "execute_result"
    }
   ],
   "source": [
    "# was to modify the new character into the middle of the given string\n",
    "s=\"pyspider\"\n",
    "s[len(s)//2]\n",
    "s[0:len(s)//2]+'l'+s[(len(s)//2)+1:]\n"
   ]
  },
  {
   "cell_type": "code",
   "execution_count": 574,
   "metadata": {},
   "outputs": [
    {
     "data": {
      "text/plain": [
       "'pysPIDers'"
      ]
     },
     "execution_count": 574,
     "metadata": {},
     "output_type": "execute_result"
    }
   ],
   "source": [
    "# was to modify the sequence of characterin given string\n",
    "s=\"pyspiders\"\n",
    "s[0:3]+'PID'+s[6:]\n"
   ]
  },
  {
   "cell_type": "code",
   "execution_count": 575,
   "metadata": {},
   "outputs": [
    {
     "data": {
      "text/plain": [
       "'pyspiDers'"
      ]
     },
     "execution_count": 575,
     "metadata": {},
     "output_type": "execute_result"
    }
   ],
   "source": [
    "# was to replace the old character into a new character of the given string\n",
    "s=\"pyspiders\"\n",
    "s[:-4]+'D'+s[-3:] "
   ]
  },
  {
   "cell_type": "code",
   "execution_count": 576,
   "metadata": {},
   "outputs": [
    {
     "data": {
      "text/plain": [
       "'pypider'"
      ]
     },
     "execution_count": 576,
     "metadata": {},
     "output_type": "execute_result"
    }
   ],
   "source": [
    "# was to delete the specific character in the given string\n",
    "s=\"pyspider\"\n",
    "s[0:2]+s[3:]"
   ]
  },
  {
   "cell_type": "code",
   "execution_count": 577,
   "metadata": {},
   "outputs": [
    {
     "data": {
      "text/plain": [
       "'pyser'"
      ]
     },
     "execution_count": 577,
     "metadata": {},
     "output_type": "execute_result"
    }
   ],
   "source": [
    "# was to delete the sequence of character in the given string\n",
    "s=\"pyspider\"\n",
    "s[:3]+s[6:]"
   ]
  },
  {
   "cell_type": "code",
   "execution_count": 578,
   "metadata": {},
   "outputs": [
    {
     "data": {
      "text/plain": [
       "'haii how are you'"
      ]
     },
     "execution_count": 578,
     "metadata": {},
     "output_type": "execute_result"
    }
   ],
   "source": [
    "# was to concate the new value to new string in the specific position of the given string\n",
    "r=\"haii are you\"\n",
    "r[0:4]+'how'+r[4:]\n",
    "\n",
    "r[0:4+1]+\"how\"+r[4:]\n",
    "\n"
   ]
  },
  {
   "cell_type": "code",
   "execution_count": 579,
   "metadata": {},
   "outputs": [
    {
     "name": "stdout",
     "output_type": "stream",
     "text": [
      "['a', 'b', 1, 2, 3]\n"
     ]
    }
   ],
   "source": [
    "# was to cancat the new value into the string of the given list\n",
    "l=[1,2,3] \n",
    "id(l)\n",
    "l=['a','b']+l\n",
    "id(l)\n",
    "print(l)\n",
    "\n",
    "l[0:0]=['a','b']\n",
    "\n"
   ]
  },
  {
   "cell_type": "code",
   "execution_count": 580,
   "metadata": {},
   "outputs": [
    {
     "name": "stdout",
     "output_type": "stream",
     "text": [
      "['a', 'b', 'c', 10, 20]\n",
      "['ramu', 'seetha', 'krishna', 'radha']\n"
     ]
    }
   ],
   "source": [
    "# was  to concat the new value into the ending of the given list\n",
    "r=['a','b','c']\n",
    "r=r+[10,20]\n",
    "print(r)\n",
    "\n",
    "y=['ramu', 'seetha']\n",
    "y+=['krishna','radha']\n",
    "print(y)"
   ]
  },
  {
   "cell_type": "code",
   "execution_count": 581,
   "metadata": {},
   "outputs": [
    {
     "name": "stdout",
     "output_type": "stream",
     "text": [
      "[10, 150.13, '10', '20', True, 'haii']\n"
     ]
    }
   ],
   "source": [
    "# was to concat the new value into the middle of the given list\n",
    "l=[10,150.13,True,\"haii\"]\n",
    "l[len(l)//2:len(l)//2]=['10','20']\n",
    "print(l)"
   ]
  },
  {
   "cell_type": "code",
   "execution_count": 582,
   "metadata": {},
   "outputs": [
    {
     "name": "stdout",
     "output_type": "stream",
     "text": [
      "[10, 153.4, 100, 200, True, 'haii']\n"
     ]
    }
   ],
   "source": [
    "# was to concat the new value into the specofic position of the given list\n",
    "l=[10,153.4,True,\"haii\"]\n",
    "l[2:2]=[100,200]\n",
    "print(l)\n"
   ]
  },
  {
   "cell_type": "code",
   "execution_count": 583,
   "metadata": {},
   "outputs": [
    {
     "name": "stdout",
     "output_type": "stream",
     "text": [
      "[10, (15+6j), True, 'haii']\n"
     ]
    }
   ],
   "source": [
    "# was to modify the new value into the specific position of given list\n",
    "l=[10,153.4,True,\"haii\"]\n",
    "l[1]=15+6j\n",
    "print(l)"
   ]
  },
  {
   "cell_type": "code",
   "execution_count": 584,
   "metadata": {},
   "outputs": [
    {
     "name": "stdout",
     "output_type": "stream",
     "text": [
      "[180, (15+6j), True, 'haii']\n"
     ]
    }
   ],
   "source": [
    "# was to modify the new value into the staring of the given list\n",
    "l=[10,15+6j,True,\"haii\"]\n",
    "l[0]=180\n",
    "print(l)"
   ]
  },
  {
   "cell_type": "code",
   "execution_count": 585,
   "metadata": {},
   "outputs": [
    {
     "name": "stdout",
     "output_type": "stream",
     "text": [
      "[10, (15+6j), True, 'hello world']\n"
     ]
    }
   ],
   "source": [
    "# was to modify the new value into the ending of the given list\n",
    "l=[10,15+6j,True,\"haii\"]\n",
    "l[-1]=\"hello world\"\n",
    "print(l)"
   ]
  },
  {
   "cell_type": "code",
   "execution_count": 586,
   "metadata": {},
   "outputs": [
    {
     "name": "stdout",
     "output_type": "stream",
     "text": [
      "[10, (15+6j), ['abc', 'cde'], 'haii']\n"
     ]
    }
   ],
   "source": [
    "# was to modify the new value into the middle of given list\n",
    "l=[10,15+6j,True,\"haii\"]\n",
    "l[len(l)//2]=[\"abc\",\"cde\"]\n",
    "print(l)"
   ]
  },
  {
   "cell_type": "code",
   "execution_count": 587,
   "metadata": {},
   "outputs": [
    {
     "name": "stdout",
     "output_type": "stream",
     "text": [
      "['a', 'b', 'c', 'd', 5, 6, 7, 8, 9]\n"
     ]
    }
   ],
   "source": [
    "# was to  modify the first 4 position values into a given list\n",
    "k=[1,2,3,4,5,6,7,8,9]\n",
    "k[0:4]=['a','b','c','d']\n",
    "print(k)"
   ]
  },
  {
   "cell_type": "code",
   "execution_count": 588,
   "metadata": {},
   "outputs": [
    {
     "name": "stdout",
     "output_type": "stream",
     "text": [
      "['a', 2, 'b', 4, 'c', 6, 'd', 8, 9]\n"
     ]
    }
   ],
   "source": [
    "# was to modufy the sequence of value into a given list\n",
    "k=[1,2,3,4,5,6,7,8,9]\n",
    "k[0:7:2]=['a','b','c','d']\n",
    "print(k)"
   ]
  },
  {
   "cell_type": "code",
   "execution_count": 589,
   "metadata": {},
   "outputs": [
    {
     "name": "stdout",
     "output_type": "stream",
     "text": [
      "[1, 2, 3, 4, 6, 7, 8, 9]\n"
     ]
    }
   ],
   "source": [
    "# was to delete the value in the specific  position of the given list\n",
    "k=[1,2,3,4,5,6,7,8,9]\n",
    "del k[4]\n",
    "print(k)"
   ]
  },
  {
   "cell_type": "code",
   "execution_count": 590,
   "metadata": {},
   "outputs": [
    {
     "name": "stdout",
     "output_type": "stream",
     "text": [
      "[1, 2, 3, 4, 5, 6, 7, 8]\n"
     ]
    }
   ],
   "source": [
    "# was to delete the value in the new value into the ending of the  list\n",
    "k=[1,2,3,4,5,6,7,8,9]\n",
    "del k[-1] \n",
    "print(k)"
   ]
  },
  {
   "cell_type": "code",
   "execution_count": 542,
   "metadata": {},
   "outputs": [
    {
     "name": "stdout",
     "output_type": "stream",
     "text": [
      "[1, 2, 3, 4, 6, 7, 8, 9]\n"
     ]
    }
   ],
   "source": [
    "# was to delete the middle of the list\n",
    "k=[1,2,3,4,5,6,7,8,9]\n",
    "del k[len(k)//2] \n",
    "print(k)"
   ]
  },
  {
   "cell_type": "code",
   "execution_count": 543,
   "metadata": {},
   "outputs": [
    {
     "name": "stdout",
     "output_type": "stream",
     "text": [
      "(7, 8, 1, 2, 4, 5, 6, 3)\n"
     ]
    }
   ],
   "source": [
    "# was to concat the value into string of the tuple\n",
    "b=(1,2,4,5,6,3)\n",
    "b=(7,8)+b\n",
    "print(b)"
   ]
  },
  {
   "cell_type": "code",
   "execution_count": 544,
   "metadata": {},
   "outputs": [],
   "source": [
    "# was to concat the value into middle of the tuple\n",
    "k=(1,2,3,4,5,6)\n",
    "len(k)//2\n",
    "k=k[:3]+(7,8)+k[3::]"
   ]
  },
  {
   "cell_type": "code",
   "execution_count": 545,
   "metadata": {},
   "outputs": [
    {
     "name": "stdout",
     "output_type": "stream",
     "text": [
      "(1, 2, 3, 4, 5, 6, 7, 8)\n"
     ]
    }
   ],
   "source": [
    "# was to cancate the value into  the ending of the tuple\n",
    "k=(1,2,3,4,5,6)\n",
    "k=k+(7,8)\n",
    "print(k)"
   ]
  },
  {
   "cell_type": "code",
   "execution_count": 591,
   "metadata": {},
   "outputs": [
    {
     "name": "stdout",
     "output_type": "stream",
     "text": [
      "(1, 2, 3, 7.8, 4, 5, 6)\n"
     ]
    }
   ],
   "source": [
    "# was to modify the sequence of values in given tuple\n",
    "k=(1,2,3,4,5,6)\n",
    "k=k[0:3]+(7.8,)+k[3:]\n",
    "print(k)"
   ]
  },
  {
   "cell_type": "code",
   "execution_count": 593,
   "metadata": {},
   "outputs": [
    {
     "name": "stdout",
     "output_type": "stream",
     "text": [
      "(1, 2, 3, 5, 6)\n"
     ]
    }
   ],
   "source": [
    "# was to delete the sequence of values in given tuple\n",
    "k=(1,2,3,4,5,6)\n",
    "k=k[0:3]+k[4:]\n",
    "print(k)"
   ]
  },
  {
   "cell_type": "code",
   "execution_count": 598,
   "metadata": {},
   "outputs": [
    {
     "name": "stdout",
     "output_type": "stream",
     "text": [
      "{1, 2, 3, 4, 5, 6, 10, 20, 'a'}\n"
     ]
    },
    {
     "data": {
      "text/plain": [
       "2511973884064"
      ]
     },
     "execution_count": 598,
     "metadata": {},
     "output_type": "execute_result"
    }
   ],
   "source": [
    "# was to cancat the new value  into the set\n",
    "s={1,2,3,4,5,6}\n",
    "id(s)\n",
    "s=s|{10,20,\"a\"}\n",
    "print(s)\n",
    "id(s)"
   ]
  },
  {
   "cell_type": "code",
   "execution_count": 601,
   "metadata": {},
   "outputs": [
    {
     "name": "stdout",
     "output_type": "stream",
     "text": [
      "{1, 2, 3, 'A', 10, 20}\n"
     ]
    }
   ],
   "source": [
    "# was to delete the specific value into the set\n",
    "s={1,2,3,4,5,6,10,20,\"A\"}\n",
    "id(s)\n",
    "s=s-{4,5,6}\n",
    "print(s)"
   ]
  },
  {
   "cell_type": "code",
   "execution_count": 603,
   "metadata": {},
   "outputs": [
    {
     "name": "stdout",
     "output_type": "stream",
     "text": [
      "{'hai': 'bye', 'good': 'bad', 'life': 'am', 'happy': 'sad'}\n"
     ]
    }
   ],
   "source": [
    "# was to concate the new key and value into the dict\n",
    "s={\"hai\":\"bye\",\"good\":\"bad\",\"life\":\"am\"}\n",
    "s[\"happy\"]=\"sad\"\n",
    "print(s)"
   ]
  },
  {
   "cell_type": "code",
   "execution_count": 606,
   "metadata": {},
   "outputs": [
    {
     "name": "stdout",
     "output_type": "stream",
     "text": [
      "{'a': 150, 'b': 750, 'd': 780}\n"
     ]
    }
   ],
   "source": [
    "# was to delete the specific key and value in the given dict \n",
    "d={'a':150, 'b':750,'c':500,'d':780}\n",
    "del d['c']\n",
    "print(d)\n"
   ]
  },
  {
   "cell_type": "code",
   "execution_count": 608,
   "metadata": {},
   "outputs": [
    {
     "name": "stdout",
     "output_type": "stream",
     "text": [
      "{'e': 100, 'b': 750, 'c': 500, 'd': 780}\n"
     ]
    }
   ],
   "source": [
    "# was to modify the specific value in the given dict\n",
    "d={'e':150, 'b':750,'c':500,'d':780}\n",
    "d[\"e\"]=100\n",
    "print(d)\n"
   ]
  },
  {
   "cell_type": "code",
   "execution_count": 610,
   "metadata": {},
   "outputs": [
    {
     "data": {
      "text/plain": [
       "['a', 'b', 'c', 10, 30, 40]"
      ]
     },
     "execution_count": 610,
     "metadata": {},
     "output_type": "execute_result"
    }
   ],
   "source": [
    "# was to concate the list value and tuple values by using tupe casting\n",
    "l=['a','b','c']\n",
    "t=(10,30,40)\n",
    "l+ list(t)"
   ]
  },
  {
   "cell_type": "code",
   "execution_count": 612,
   "metadata": {},
   "outputs": [
    {
     "name": "stdout",
     "output_type": "stream",
     "text": [
      "['a', 'b', 'c', 10, 30, 40]\n"
     ]
    }
   ],
   "source": [
    "# was to cancate the list value and tuple value without using typecasting\n",
    "l=['a','b','c']\n",
    "t=(10,30,40)\n",
    "l+=t\n",
    "print(l)"
   ]
  },
  {
   "cell_type": "code",
   "execution_count": 615,
   "metadata": {},
   "outputs": [
    {
     "name": "stdout",
     "output_type": "stream",
     "text": [
      "0\n"
     ]
    },
    {
     "data": {
      "text/plain": [
       "True"
      ]
     },
     "execution_count": 615,
     "metadata": {},
     "output_type": "execute_result"
    }
   ],
   "source": [
    "# was to check the given number is divisible by 3\n",
    "n=9\n",
    "res=n%3\n",
    "print(res)\n",
    "res==0"
   ]
  },
  {
   "cell_type": "code",
   "execution_count": null,
   "metadata": {},
   "outputs": [],
   "source": [
    "# was to check the given number ids divible by 2 and 6"
   ]
  }
 ],
 "metadata": {
  "kernelspec": {
   "display_name": "Python 3",
   "language": "python",
   "name": "python3"
  },
  "language_info": {
   "codemirror_mode": {
    "name": "ipython",
    "version": 3
   },
   "file_extension": ".py",
   "mimetype": "text/x-python",
   "name": "python",
   "nbconvert_exporter": "python",
   "pygments_lexer": "ipython3",
   "version": "3.10.5"
  },
  "orig_nbformat": 4
 },
 "nbformat": 4,
 "nbformat_minor": 2
}
