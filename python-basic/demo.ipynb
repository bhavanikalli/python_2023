{
 "cells": [
  {
   "cell_type": "code",
   "execution_count": 704,
   "metadata": {},
   "outputs": [
    {
     "name": "stdout",
     "output_type": "stream",
     "text": [
      "hello\n"
     ]
    }
   ],
   "source": [
    "print(\"hello\")\n"
   ]
  },
  {
   "cell_type": "code",
   "execution_count": 705,
   "metadata": {},
   "outputs": [
    {
     "name": "stdout",
     "output_type": "stream",
     "text": [
      "25\n"
     ]
    }
   ],
   "source": [
    "a=10\n",
    "b=15\n",
    "c=a+b\n",
    "print(c)\n",
    "\n",
    "\n"
   ]
  },
  {
   "cell_type": "code",
   "execution_count": 706,
   "metadata": {},
   "outputs": [
    {
     "name": "stdout",
     "output_type": "stream",
     "text": [
      "12\n"
     ]
    }
   ],
   "source": [
    "a=17\n",
    "b=5\n",
    "c=a-b\n",
    "print(c)\n"
   ]
  },
  {
   "cell_type": "code",
   "execution_count": 707,
   "metadata": {},
   "outputs": [
    {
     "data": {
      "text/plain": [
       "'v'"
      ]
     },
     "execution_count": 707,
     "metadata": {},
     "output_type": "execute_result"
    }
   ],
   "source": [
    "b=\"bhavani\"\n",
    "b[3]\n"
   ]
  },
  {
   "cell_type": "code",
   "execution_count": 708,
   "metadata": {},
   "outputs": [
    {
     "data": {
      "text/plain": [
       "'bhavan'"
      ]
     },
     "execution_count": 708,
     "metadata": {},
     "output_type": "execute_result"
    }
   ],
   "source": [
    "b=\"bhavani\"\n",
    "b[0:-1]"
   ]
  },
  {
   "cell_type": "code",
   "execution_count": 709,
   "metadata": {},
   "outputs": [
    {
     "data": {
      "text/plain": [
       "'inavahb'"
      ]
     },
     "execution_count": 709,
     "metadata": {},
     "output_type": "execute_result"
    }
   ],
   "source": [
    "b=\"bhavani\"\n",
    "b[-1::-1]"
   ]
  },
  {
   "cell_type": "code",
   "execution_count": 710,
   "metadata": {},
   "outputs": [
    {
     "data": {
      "text/plain": [
       "[b'1010', 'hello', [4, 9]]"
      ]
     },
     "execution_count": 710,
     "metadata": {},
     "output_type": "execute_result"
    }
   ],
   "source": [
    "b=[7,7.8, 7+5j,b\"1010\",\"hello\",[4,9],(89,5),{56,70}]\n",
    "b[3:6:1]\n"
   ]
  },
  {
   "cell_type": "code",
   "execution_count": 711,
   "metadata": {},
   "outputs": [
    {
     "data": {
      "text/plain": [
       "'bhav'"
      ]
     },
     "execution_count": 711,
     "metadata": {},
     "output_type": "execute_result"
    }
   ],
   "source": [
    "a=\"bhavani\"\n",
    "a[0:4:1]\n"
   ]
  },
  {
   "cell_type": "code",
   "execution_count": 712,
   "metadata": {},
   "outputs": [
    {
     "data": {
      "text/plain": [
       "[{56, 70}, (89, 5), [4, 9], 'hello', b'1010', (7+5j), 7.8, 7]"
      ]
     },
     "execution_count": 712,
     "metadata": {},
     "output_type": "execute_result"
    }
   ],
   "source": [
    "b=[7,7.8, 7+5j,b\"1010\",\"hello\",[4,9],(89,5),{56,70}]\n",
    "b[-1::-1]\n"
   ]
  },
  {
   "cell_type": "code",
   "execution_count": 713,
   "metadata": {},
   "outputs": [
    {
     "data": {
      "text/plain": [
       "'hellowolrd'"
      ]
     },
     "execution_count": 713,
     "metadata": {},
     "output_type": "execute_result"
    }
   ],
   "source": [
    "#1 WAS  to a print \"hello world\"by using shell\n",
    "\"hellowolrd\""
   ]
  },
  {
   "cell_type": "code",
   "execution_count": 714,
   "metadata": {},
   "outputs": [
    {
     "name": "stdout",
     "output_type": "stream",
     "text": [
      "hello world\n"
     ]
    }
   ],
   "source": [
    "#2 WAS to print \"hello world\" by using print function\n",
    "print(\"hello world\")"
   ]
  },
  {
   "cell_type": "code",
   "execution_count": 715,
   "metadata": {},
   "outputs": [],
   "source": [
    "#3 was to initilize varivable \n",
    "a=60\n",
    "b=60.0\n",
    "c=60+0j\n",
    "d=b'1010'\n",
    "e=True\n",
    "f=None \n",
    "g=\"hello\"\n",
    "h=[60,61,62]\n",
    "i=(60,4,6)\n",
    "j={60.5,8}\n",
    "k={ a:60,b:68}\n",
    "\n",
    "\n",
    "\n",
    "\n"
   ]
  },
  {
   "cell_type": "code",
   "execution_count": 716,
   "metadata": {},
   "outputs": [],
   "source": [
    "#4 was to initilize multivariable-values are 150,120,250\n",
    "a,b,c=150,120,250\n",
    "a=150\n",
    "b=120\n",
    "c=250"
   ]
  },
  {
   "cell_type": "code",
   "execution_count": 717,
   "metadata": {},
   "outputs": [
    {
     "name": "stdout",
     "output_type": "stream",
     "text": [
      "(150, 120, 250)\n"
     ]
    }
   ],
   "source": [
    "a=150,120,250\n",
    "print(a)"
   ]
  },
  {
   "cell_type": "code",
   "execution_count": 718,
   "metadata": {},
   "outputs": [
    {
     "data": {
      "text/plain": [
       "float"
      ]
     },
     "execution_count": 718,
     "metadata": {},
     "output_type": "execute_result"
    }
   ],
   "source": [
    "#5was to print the type of the data in given value\n",
    "a=10\n",
    "type(a)\n",
    "b=15.7\n",
    "type(b)\n"
   ]
  },
  {
   "cell_type": "code",
   "execution_count": 719,
   "metadata": {},
   "outputs": [
    {
     "data": {
      "text/plain": [
       "1279051962336"
      ]
     },
     "execution_count": 719,
     "metadata": {},
     "output_type": "execute_result"
    }
   ],
   "source": [
    "#6 was to print  the address of the memory block in given value\n",
    "a={10,60}\n",
    "id(a)\n",
    "id({10,60})\n"
   ]
  },
  {
   "cell_type": "code",
   "execution_count": 720,
   "metadata": {},
   "outputs": [
    {
     "name": "stdout",
     "output_type": "stream",
     "text": [
      "rahul\n",
      "26\n",
      "rahul 26 5384780838 rahul@gmail.com 5.5 True\n"
     ]
    },
    {
     "data": {
      "text/plain": [
       "6389709103"
      ]
     },
     "execution_count": 720,
     "metadata": {},
     "output_type": "execute_result"
    }
   ],
   "source": [
    "#7 was to print your details ,first store your details extract the values and display\n",
    "name=\"rahul\"\n",
    "age=26\n",
    "phone=5384780838\n",
    "email=\"rahul@gmail.com\"\n",
    "height=5.5\n",
    "pancard=True\n",
    "print(name)\n",
    "print(age)\n",
    "print(name, age,phone,email,height,pancard)\n",
    "rahul=[\"rahul\",5384780838,\"rahul@gmail.com\",5.5,True]\n",
    "rahul[2]\n",
    "rahul[-1]\n",
    "rahul[1]\n",
    "\n",
    "\n",
    "rahul={name:'rahul',\"age\":26,\"phone\":6389709103,\"email\":'rahul@gamil.com','height':5.5,\"pancard\":True}\n",
    "rahul[\"email\"]\n",
    "rahul[\"phone\"]\n",
    "\n",
    "\n"
   ]
  },
  {
   "cell_type": "code",
   "execution_count": 721,
   "metadata": {},
   "outputs": [
    {
     "name": "stdout",
     "output_type": "stream",
     "text": [
      "bye\n",
      "hii\n"
     ]
    }
   ],
   "source": [
    "#8 was to swap the two values with a tempvariable\n",
    "a=\"hii\"\n",
    "b=\"bye\"\n",
    "temp=a\n",
    "a=b\n",
    "b=temp\n",
    "print(a)\n",
    "print(b)\n"
   ]
  },
  {
   "cell_type": "code",
   "execution_count": 722,
   "metadata": {},
   "outputs": [
    {
     "name": "stdout",
     "output_type": "stream",
     "text": [
      "{10, 50}\n",
      "[10, 50]\n"
     ]
    }
   ],
   "source": [
    "#9 wasto swap the two values without a temp variable \n",
    "m=[10,50]\n",
    "n={10,50}\n",
    "m,n=n,m\n",
    "print(m)\n",
    "print(n)\n"
   ]
  },
  {
   "cell_type": "code",
   "execution_count": 723,
   "metadata": {},
   "outputs": [
    {
     "name": "stdout",
     "output_type": "stream",
     "text": [
      "{'a': 'pyspider'}\n",
      "{'a': 'qspiders'}\n",
      "[10, 20, 30, 40, 50, 60]\n"
     ]
    }
   ],
   "source": [
    "#10 was to initilize a value and print the value ,after print the value ,then reinitilize the new value to the existing variableand display the value\n",
    "# initilization\n",
    "a={'a':'pyspider'}\n",
    "print(a)\n",
    "# fetch\n",
    "a['a']\n",
    "# modification\n",
    "a['a']='qspiders'\n",
    "print(a)\n",
    "# concatenation\n",
    "a=[10,20,30]\n",
    "a+=[40,50,60]\n",
    "print(a)\n",
    "# deletion\n",
    "del [a]\n",
    "\n",
    "\n"
   ]
  },
  {
   "cell_type": "code",
   "execution_count": 23,
   "metadata": {},
   "outputs": [
    {
     "name": "stdout",
     "output_type": "stream",
     "text": [
      "10\n",
      "['1', '0']\n",
      "['[', \"'\", '1', \"'\", ',', ' ', \"'\", '0', \"'\", ']']\n"
     ]
    }
   ],
   "source": [
    "#11 was to convert single to multivalue data type i/p=a=10  o/p ['1','0']\n",
    "a=10 \n",
    "a=str(a)\n",
    "print(a)\n",
    "a=list(a)\n",
    "print(a)\n",
    "\n",
    "\n",
    "print(list(str(a)))\n"
   ]
  },
  {
   "cell_type": "code",
   "execution_count": null,
   "metadata": {},
   "outputs": [
    {
     "name": "stdout",
     "output_type": "stream",
     "text": [
      "helloworld\n",
      "[10, 20, 30, 40, 50, 60]\n",
      "[10, 20, 30, 'h', 'a', 'i']\n",
      "[10, 20, 30, 40, 50, 60]\n",
      "[10, 20, 30, 'abc']\n"
     ]
    }
   ],
   "source": [
    "# 12was to concat the two multi value data types (str,list,tuple)\n",
    "x='hello'\n",
    "x+='world' \n",
    "print(x)\n",
    "\n",
    "y=[10,20,30]\n",
    "y+=[40,50,60]\n",
    "print(y)\n",
    "\n",
    "y=[10,20,30]\n",
    "y+=\"hai\"\n",
    "print(y)\n",
    "\n",
    "\n",
    "y=[10,20,30]\n",
    "y+=(40,50,60)\n",
    "print(y)\n",
    "\n",
    "y=[10,20,30]\n",
    "y+={'a''b''c'}\n",
    "print(y)"
   ]
  },
  {
   "cell_type": "code",
   "execution_count": null,
   "metadata": {},
   "outputs": [
    {
     "data": {
      "text/plain": [
       "4"
      ]
     },
     "execution_count": 588,
     "metadata": {},
     "output_type": "execute_result"
    }
   ],
   "source": [
    "#13 was to check the length of the collection?\n",
    "t=(10,20)\n",
    "len(t)\n",
    "x={10:20,30:40,'a':\"hai\", 'b':'bye'}\n",
    "len(x)\n"
   ]
  },
  {
   "cell_type": "code",
   "execution_count": null,
   "metadata": {},
   "outputs": [
    {
     "data": {
      "text/plain": [
       "30"
      ]
     },
     "execution_count": 589,
     "metadata": {},
     "output_type": "execute_result"
    }
   ],
   "source": [
    "#14 wae to check find out the middle valueof the given collection\n",
    "d=[10,20,30,40,50,60]\n",
    "d[len(d)//2]\n",
    "\n",
    "l=[10,20,30,40]\n",
    "l[len(l)//2]"
   ]
  },
  {
   "cell_type": "code",
   "execution_count": null,
   "metadata": {},
   "outputs": [
    {
     "name": "stdout",
     "output_type": "stream",
     "text": [
      "haiihow r u\n"
     ]
    }
   ],
   "source": [
    "# 15was to concat the new string into the string of the given string\n",
    "a=\"how r u\"\n",
    "b= \"haii\"\n",
    "a= b+a\n",
    "print(a)\n"
   ]
  },
  {
   "cell_type": "code",
   "execution_count": null,
   "metadata": {},
   "outputs": [
    {
     "name": "stdout",
     "output_type": "stream",
     "text": [
      "how r uhaii\n"
     ]
    }
   ],
   "source": [
    "#16 was to concat the new string into the ending of the given string?\n",
    "a=\"how r u\"\n",
    "b=\"haii\"\n",
    "a+=b\n",
    "print(a)"
   ]
  },
  {
   "cell_type": "code",
   "execution_count": null,
   "metadata": {},
   "outputs": [
    {
     "name": "stdout",
     "output_type": "stream",
     "text": [
      "haiihellohello\n"
     ]
    }
   ],
   "source": [
    "#17 was to concat the new string into the middle of the given string\n",
    "a=\"haii\"\n",
    "b=\"hello\" \n",
    "a=a+b\n",
    "a+=b\n",
    "print(a)"
   ]
  },
  {
   "cell_type": "code",
   "execution_count": null,
   "metadata": {},
   "outputs": [
    {
     "data": {
      "text/plain": [
       "'pysplder'"
      ]
     },
     "execution_count": 593,
     "metadata": {},
     "output_type": "execute_result"
    }
   ],
   "source": [
    "# 18 was to modify the new character into the middle of the given string\n",
    "s=\"pyspider\"\n",
    "s[len(s)//2]\n",
    "s[0:len(s)//2]+'l'+s[(len(s)//2)+1:]\n"
   ]
  },
  {
   "cell_type": "code",
   "execution_count": null,
   "metadata": {},
   "outputs": [
    {
     "data": {
      "text/plain": [
       "'pysPIDers'"
      ]
     },
     "execution_count": 594,
     "metadata": {},
     "output_type": "execute_result"
    }
   ],
   "source": [
    "#19 was to modify the sequence of characterin given string\n",
    "s=\"pyspiders\"\n",
    "s[0:3]+'PID'+s[6:]\n"
   ]
  },
  {
   "cell_type": "code",
   "execution_count": null,
   "metadata": {},
   "outputs": [
    {
     "data": {
      "text/plain": [
       "'pyspiDers'"
      ]
     },
     "execution_count": 595,
     "metadata": {},
     "output_type": "execute_result"
    }
   ],
   "source": [
    "#20 was to replace the old character into a new character of the given string\n",
    "s=\"pyspiders\"\n",
    "s[:-4]+'D'+s[-3:] "
   ]
  },
  {
   "cell_type": "code",
   "execution_count": null,
   "metadata": {},
   "outputs": [
    {
     "data": {
      "text/plain": [
       "'pypider'"
      ]
     },
     "execution_count": 596,
     "metadata": {},
     "output_type": "execute_result"
    }
   ],
   "source": [
    "# 21 was to delete the specific character in the given string\n",
    "s=\"pyspider\"\n",
    "s[0:2]+s[3:]"
   ]
  },
  {
   "cell_type": "code",
   "execution_count": null,
   "metadata": {},
   "outputs": [
    {
     "data": {
      "text/plain": [
       "'pyser'"
      ]
     },
     "execution_count": 597,
     "metadata": {},
     "output_type": "execute_result"
    }
   ],
   "source": [
    "#22 was to delete the sequence of character in the given string\n",
    "s=\"pyspider\"\n",
    "s[:3]+s[6:]"
   ]
  },
  {
   "cell_type": "code",
   "execution_count": null,
   "metadata": {},
   "outputs": [
    {
     "data": {
      "text/plain": [
       "'haii how are you'"
      ]
     },
     "execution_count": 598,
     "metadata": {},
     "output_type": "execute_result"
    }
   ],
   "source": [
    "#23 was to concate the new value to new string in the specific position of the given string\n",
    "r=\"haii are you\"\n",
    "r[0:4]+'how'+r[4:]\n",
    "\n",
    "r[0:4+1]+\"how\"+r[4:]\n",
    "\n"
   ]
  },
  {
   "cell_type": "code",
   "execution_count": null,
   "metadata": {},
   "outputs": [
    {
     "name": "stdout",
     "output_type": "stream",
     "text": [
      "['a', 'b', 1, 2, 3]\n"
     ]
    }
   ],
   "source": [
    "#24 was to cancat the new value into the string of the given list\n",
    "l=[1,2,3] \n",
    "id(l)\n",
    "l=['a','b']+l\n",
    "id(l)\n",
    "print(l)\n",
    "\n",
    "l[0:0]=['a','b']\n",
    "\n"
   ]
  },
  {
   "cell_type": "code",
   "execution_count": null,
   "metadata": {},
   "outputs": [
    {
     "name": "stdout",
     "output_type": "stream",
     "text": [
      "['a', 'b', 'c', 10, 20]\n",
      "['ramu', 'seetha', 'krishna', 'radha']\n"
     ]
    }
   ],
   "source": [
    "#25 was  to concat the new value into the ending of the given list\n",
    "r=['a','b','c']\n",
    "r=r+[10,20]\n",
    "print(r)\n",
    "\n",
    "y=['ramu', 'seetha']\n",
    "y+=['krishna','radha']\n",
    "print(y)"
   ]
  },
  {
   "cell_type": "code",
   "execution_count": null,
   "metadata": {},
   "outputs": [
    {
     "name": "stdout",
     "output_type": "stream",
     "text": [
      "[10, 150.13, '10', '20', True, 'haii']\n"
     ]
    }
   ],
   "source": [
    "#26 was to concat the new value into the middle of the given list\n",
    "l=[10,150.13,True,\"haii\"]\n",
    "l[len(l)//2:len(l)//2]=['10','20']\n",
    "print(l)"
   ]
  },
  {
   "cell_type": "code",
   "execution_count": null,
   "metadata": {},
   "outputs": [
    {
     "name": "stdout",
     "output_type": "stream",
     "text": [
      "[10, 153.4, 100, 200, True, 'haii']\n"
     ]
    }
   ],
   "source": [
    "# 27was to concat the new value into the specofic position of the given list\n",
    "l=[10,153.4,True,\"haii\"]\n",
    "l[2:2]=[100,200]\n",
    "print(l)\n"
   ]
  },
  {
   "cell_type": "code",
   "execution_count": null,
   "metadata": {},
   "outputs": [
    {
     "name": "stdout",
     "output_type": "stream",
     "text": [
      "[10, (15+6j), True, 'haii']\n"
     ]
    }
   ],
   "source": [
    "#28 was to modify the new value into the specific position of given list\n",
    "l=[10,153.4,True,\"haii\"]\n",
    "l[1]=15+6j\n",
    "print(l)"
   ]
  },
  {
   "cell_type": "code",
   "execution_count": null,
   "metadata": {},
   "outputs": [
    {
     "name": "stdout",
     "output_type": "stream",
     "text": [
      "[180, (15+6j), True, 'haii']\n"
     ]
    }
   ],
   "source": [
    "#29 was to modify the new value into the staring of the given list\n",
    "l=[10,15+6j,True,\"haii\"]\n",
    "l[0]=180\n",
    "print(l)"
   ]
  },
  {
   "cell_type": "code",
   "execution_count": null,
   "metadata": {},
   "outputs": [
    {
     "name": "stdout",
     "output_type": "stream",
     "text": [
      "[10, (15+6j), True, 'hello world']\n"
     ]
    }
   ],
   "source": [
    "# 30was to modify the new value into the ending of the given list\n",
    "l=[10,15+6j,True,\"haii\"]\n",
    "l[-1]=\"hello world\"\n",
    "print(l)"
   ]
  },
  {
   "cell_type": "code",
   "execution_count": null,
   "metadata": {},
   "outputs": [
    {
     "name": "stdout",
     "output_type": "stream",
     "text": [
      "[10, (15+6j), ['abc', 'cde'], 'haii']\n"
     ]
    }
   ],
   "source": [
    "#31 was to modify the new value into the middle of given list\n",
    "l=[10,15+6j,True,\"haii\"]\n",
    "l[len(l)//2]=[\"abc\",\"cde\"]\n",
    "print(l)"
   ]
  },
  {
   "cell_type": "code",
   "execution_count": null,
   "metadata": {},
   "outputs": [
    {
     "name": "stdout",
     "output_type": "stream",
     "text": [
      "['a', 'b', 'c', 'd', 5, 6, 7, 8, 9]\n"
     ]
    }
   ],
   "source": [
    "# 32was to  modify the first 4 position values into a given list\n",
    "k=[1,2,3,4,5,6,7,8,9]\n",
    "k[0:4]=['a','b','c','d']\n",
    "print(k)"
   ]
  },
  {
   "cell_type": "code",
   "execution_count": null,
   "metadata": {},
   "outputs": [
    {
     "name": "stdout",
     "output_type": "stream",
     "text": [
      "['a', 2, 'b', 4, 'c', 6, 'd', 8, 9]\n"
     ]
    }
   ],
   "source": [
    "# 33 was to modufy the sequence of value into a given list\n",
    "k=[1,2,3,4,5,6,7,8,9]\n",
    "k[0:7:2]=['a','b','c','d']\n",
    "print(k)"
   ]
  },
  {
   "cell_type": "code",
   "execution_count": null,
   "metadata": {},
   "outputs": [
    {
     "name": "stdout",
     "output_type": "stream",
     "text": [
      "[1, 2, 3, 4, 6, 7, 8, 9]\n"
     ]
    }
   ],
   "source": [
    "#34 was to delete the value in the specific  position of the given list\n",
    "k=[1,2,3,4,5,6,7,8,9]\n",
    "del k[4]\n",
    "print(k)"
   ]
  },
  {
   "cell_type": "code",
   "execution_count": null,
   "metadata": {},
   "outputs": [
    {
     "name": "stdout",
     "output_type": "stream",
     "text": [
      "[1, 2, 3, 4, 5, 6, 7, 8]\n"
     ]
    }
   ],
   "source": [
    "# 35was to delete the value in the new value into the ending of the  list\n",
    "k=[1,2,3,4,5,6,7,8,9]\n",
    "del k[-1] \n",
    "print(k)"
   ]
  },
  {
   "cell_type": "code",
   "execution_count": null,
   "metadata": {},
   "outputs": [
    {
     "name": "stdout",
     "output_type": "stream",
     "text": [
      "[1, 2, 3, 4, 6, 7, 8, 9]\n"
     ]
    }
   ],
   "source": [
    "# 36 was to delete the middle of the list\n",
    "k=[1,2,3,4,5,6,7,8,9]\n",
    "del k[len(k)//2] \n",
    "print(k)"
   ]
  },
  {
   "cell_type": "code",
   "execution_count": null,
   "metadata": {},
   "outputs": [
    {
     "name": "stdout",
     "output_type": "stream",
     "text": [
      "(7, 8, 1, 2, 4, 5, 6, 3)\n"
     ]
    }
   ],
   "source": [
    "# 37 was to concat the value into string of the tuple\n",
    "b=(1,2,4,5,6,3)\n",
    "b=(7,8)+b\n",
    "print(b)"
   ]
  },
  {
   "cell_type": "code",
   "execution_count": null,
   "metadata": {},
   "outputs": [],
   "source": [
    "#38  was to concat the value into middle of the tuple\n",
    "k=(1,2,3,4,5,6)\n",
    "len(k)//2\n",
    "k=k[:3]+(7,8)+k[3::]"
   ]
  },
  {
   "cell_type": "code",
   "execution_count": null,
   "metadata": {},
   "outputs": [
    {
     "name": "stdout",
     "output_type": "stream",
     "text": [
      "(1, 2, 3, 4, 5, 6, 7, 8)\n"
     ]
    }
   ],
   "source": [
    "#39 was to cancate the value into  the ending of the tuple\n",
    "k=(1,2,3,4,5,6)\n",
    "k=k+(7,8)\n",
    "print(k)"
   ]
  },
  {
   "cell_type": "code",
   "execution_count": null,
   "metadata": {},
   "outputs": [
    {
     "name": "stdout",
     "output_type": "stream",
     "text": [
      "(1, 2, 3, 7.8, 4, 5, 6)\n"
     ]
    }
   ],
   "source": [
    "#40 was to modify the sequence of values in given tuple\n",
    "k=(1,2,3,4,5,6)\n",
    "k=k[0:3]+(7.8,)+k[3:]\n",
    "print(k)"
   ]
  },
  {
   "cell_type": "code",
   "execution_count": null,
   "metadata": {},
   "outputs": [
    {
     "name": "stdout",
     "output_type": "stream",
     "text": [
      "(1, 2, 3, 5, 6)\n"
     ]
    }
   ],
   "source": [
    "#41 was to delete the sequence of values in given tuple\n",
    "k=(1,2,3,4,5,6)\n",
    "k=k[0:3]+k[4:]\n",
    "print(k)"
   ]
  },
  {
   "cell_type": "code",
   "execution_count": null,
   "metadata": {},
   "outputs": [
    {
     "name": "stdout",
     "output_type": "stream",
     "text": [
      "{1, 2, 3, 4, 5, 6, 10, 'a', 20}\n"
     ]
    },
    {
     "data": {
      "text/plain": [
       "1279051960992"
      ]
     },
     "execution_count": 617,
     "metadata": {},
     "output_type": "execute_result"
    }
   ],
   "source": [
    "#42 was to cancat the new value  into the set\n",
    "s={1,2,3,4,5,6}\n",
    "id(s)\n",
    "s=s|{10,20,\"a\"}\n",
    "print(s)\n",
    "id(s)"
   ]
  },
  {
   "cell_type": "code",
   "execution_count": null,
   "metadata": {},
   "outputs": [
    {
     "name": "stdout",
     "output_type": "stream",
     "text": [
      "{1, 2, 3, 'A', 10, 20}\n"
     ]
    }
   ],
   "source": [
    "# 43was to delete the specific value into the set\n",
    "s={1,2,3,4,5,6,10,20,\"A\"}\n",
    "id(s)\n",
    "s=s-{4,5,6}\n",
    "print(s)"
   ]
  },
  {
   "cell_type": "code",
   "execution_count": null,
   "metadata": {},
   "outputs": [
    {
     "name": "stdout",
     "output_type": "stream",
     "text": [
      "{'hai': 'bye', 'good': 'bad', 'life': 'am', 'happy': 'sad'}\n"
     ]
    }
   ],
   "source": [
    "# 44 was to concate the new key and value into the dict\n",
    "s={\"hai\":\"bye\",\"good\":\"bad\",\"life\":\"am\"}\n",
    "s[\"happy\"]=\"sad\"\n",
    "print(s)"
   ]
  },
  {
   "cell_type": "code",
   "execution_count": null,
   "metadata": {},
   "outputs": [
    {
     "name": "stdout",
     "output_type": "stream",
     "text": [
      "{'a': 150, 'b': 750, 'd': 780}\n"
     ]
    }
   ],
   "source": [
    "#47 was to delete the specific key and value in the given dict \n",
    "d={'a':150, 'b':750,'c':500,'d':780}\n",
    "del d['c']\n",
    "print(d)\n"
   ]
  },
  {
   "cell_type": "code",
   "execution_count": null,
   "metadata": {},
   "outputs": [
    {
     "name": "stdout",
     "output_type": "stream",
     "text": [
      "{'e': 100, 'b': 750, 'c': 500, 'd': 780}\n"
     ]
    }
   ],
   "source": [
    "#48 was to modify the specific value in the given dict\n",
    "d={'e':150, 'b':750,'c':500,'d':780}\n",
    "d[\"e\"]=100\n",
    "print(d)\n"
   ]
  },
  {
   "cell_type": "code",
   "execution_count": null,
   "metadata": {},
   "outputs": [
    {
     "data": {
      "text/plain": [
       "['a', 'b', 'c', 10, 30, 40]"
      ]
     },
     "execution_count": 622,
     "metadata": {},
     "output_type": "execute_result"
    }
   ],
   "source": [
    "#49 was to concate the list value and tuple values by using tupe casting\n",
    "l=['a','b','c']\n",
    "t=(10,30,40)\n",
    "l+ list(t)"
   ]
  },
  {
   "cell_type": "code",
   "execution_count": null,
   "metadata": {},
   "outputs": [
    {
     "name": "stdout",
     "output_type": "stream",
     "text": [
      "['a', 'b', 'c', 10, 30, 40]\n"
     ]
    }
   ],
   "source": [
    "#50 was to cancate the list value and tuple value without using typecasting\n",
    "l=['a','b','c']\n",
    "t=(10,30,40)\n",
    "l+=t\n",
    "print(l)"
   ]
  },
  {
   "cell_type": "code",
   "execution_count": null,
   "metadata": {},
   "outputs": [
    {
     "name": "stdout",
     "output_type": "stream",
     "text": [
      "0\n"
     ]
    },
    {
     "data": {
      "text/plain": [
       "True"
      ]
     },
     "execution_count": 624,
     "metadata": {},
     "output_type": "execute_result"
    }
   ],
   "source": [
    "#51 was to check the given number is divisible by 3\n",
    "n=9\n",
    "res=n%3\n",
    "print(res)\n",
    "res==0"
   ]
  },
  {
   "cell_type": "code",
   "execution_count": null,
   "metadata": {},
   "outputs": [
    {
     "name": "stdout",
     "output_type": "stream",
     "text": [
      "True\n"
     ]
    }
   ],
   "source": [
    "# 52was to check the given number ids divible by 2 and 6\n",
    "n=12\n",
    "print(n%2==0 and n%6==0)\n"
   ]
  },
  {
   "cell_type": "code",
   "execution_count": null,
   "metadata": {},
   "outputs": [
    {
     "name": "stdout",
     "output_type": "stream",
     "text": [
      "True\n"
     ]
    }
   ],
   "source": [
    "# 53wae to check the last digit is divisible by 3from given integer number ,(with typecasting)\n",
    "n=1996\n",
    "print(((n%10)%3)==0)\n"
   ]
  },
  {
   "cell_type": "code",
   "execution_count": null,
   "metadata": {},
   "outputs": [
    {
     "name": "stdout",
     "output_type": "stream",
     "text": [
      "True\n"
     ]
    }
   ],
   "source": [
    "# 54wae to check the last  digit is divisible by 3 given integer number (with type casting)\n",
    "n=2026\n",
    "print(int(str(n)[-1])%3==0)"
   ]
  },
  {
   "cell_type": "code",
   "execution_count": null,
   "metadata": {},
   "outputs": [
    {
     "name": "stdout",
     "output_type": "stream",
     "text": [
      "True\n"
     ]
    }
   ],
   "source": [
    "#55 was to check the given number is greater than 150 \n",
    "a=200\n",
    "print(a>150)"
   ]
  },
  {
   "cell_type": "code",
   "execution_count": null,
   "metadata": {},
   "outputs": [
    {
     "name": "stdout",
     "output_type": "stream",
     "text": [
      "True\n"
     ]
    }
   ],
   "source": [
    "#56 wae to check the given number is greater than or equal to 100\n",
    "a=200\n",
    "print(a>=100)"
   ]
  },
  {
   "cell_type": "code",
   "execution_count": null,
   "metadata": {},
   "outputs": [
    {
     "name": "stdout",
     "output_type": "stream",
     "text": [
      "True\n"
     ]
    }
   ],
   "source": [
    "#57 wae to check the given number is less than 150,print result\n",
    "a=100\n",
    "print(a<150)\n"
   ]
  },
  {
   "cell_type": "code",
   "execution_count": null,
   "metadata": {},
   "outputs": [
    {
     "name": "stdout",
     "output_type": "stream",
     "text": [
      "True\n"
     ]
    }
   ],
   "source": [
    "# 58was  to check the given number is less than or equal to 100\n",
    "a=100\n",
    "print(a<=100)\n",
    "\n"
   ]
  },
  {
   "cell_type": "code",
   "execution_count": null,
   "metadata": {},
   "outputs": [
    {
     "name": "stdout",
     "output_type": "stream",
     "text": [
      "True\n"
     ]
    }
   ],
   "source": [
    "# 59was  to check  the given numberb is greater than 15&less than 24\n",
    "a=20\n",
    "print(a>15 &a<24)"
   ]
  },
  {
   "cell_type": "code",
   "execution_count": null,
   "metadata": {},
   "outputs": [
    {
     "name": "stdout",
     "output_type": "stream",
     "text": [
      "True\n"
     ]
    }
   ],
   "source": [
    "#60 wae to check the given number is even\n",
    "a=10\n",
    "print(a%2==0)"
   ]
  },
  {
   "cell_type": "code",
   "execution_count": null,
   "metadata": {},
   "outputs": [
    {
     "name": "stdout",
     "output_type": "stream",
     "text": [
      "True\n"
     ]
    }
   ],
   "source": [
    "#61 wae to check the given number is odd\n",
    "a=9\n",
    "print(a%2!=0)\n"
   ]
  },
  {
   "cell_type": "code",
   "execution_count": null,
   "metadata": {},
   "outputs": [
    {
     "name": "stdout",
     "output_type": "stream",
     "text": [
      "abcabcabcabcabcabc\n"
     ]
    }
   ],
   "source": [
    "#62 wae to check perform the replication of a given string with 6\n",
    "a=\"abc\"\n",
    "print(a*6)\n"
   ]
  },
  {
   "cell_type": "code",
   "execution_count": null,
   "metadata": {},
   "outputs": [
    {
     "name": "stdout",
     "output_type": "stream",
     "text": [
      "True\n"
     ]
    }
   ],
   "source": [
    "#63 wae to check given number is divisible by 3 and also the number should be greater than 22\n",
    "a=24\n",
    "print(a%3==0 and a>22)\n"
   ]
  },
  {
   "cell_type": "code",
   "execution_count": null,
   "metadata": {},
   "outputs": [
    {
     "name": "stdout",
     "output_type": "stream",
     "text": [
      "False\n",
      "True\n"
     ]
    }
   ],
   "source": [
    "# 64 wae to check perform the length if the collection is even or not\n",
    "g=\"pyspiders\"\n",
    "len(g)\n",
    "print(len(g)%2==0)\n",
    "\n",
    "g=\"pyspider\"\n",
    "len(g)\n",
    "print(len(g)%2==0)"
   ]
  },
  {
   "cell_type": "code",
   "execution_count": null,
   "metadata": {},
   "outputs": [
    {
     "name": "stdout",
     "output_type": "stream",
     "text": [
      "True\n"
     ]
    }
   ],
   "source": [
    "#65 wae to check perform the length of the collection is less 55 and greater than 16\n",
    "a=\"abcdefghijklmnopqrstuvwxyz\"\n",
    "print(len(a)>16 and len(a)<55)"
   ]
  },
  {
   "cell_type": "code",
   "execution_count": null,
   "metadata": {},
   "outputs": [
    {
     "name": "stdout",
     "output_type": "stream",
     "text": [
      "False\n"
     ]
    }
   ],
   "source": [
    "#66 wae  to check perform the length  of the collection is divisible by 5 and odd\n",
    "a=\"abcdefghijklmnopqrstuvwxyz\"\n",
    "print(len(a)%5==0 and len(a)%2!=0)"
   ]
  },
  {
   "cell_type": "code",
   "execution_count": null,
   "metadata": {},
   "outputs": [],
   "source": [
    "#67 wae to check extrat the middle position of a goven collection os eother str,list ,tuple\n",
    "s=[10,('a','b'),[10,20]]\n",
    "res=type(s[len(s)//2])"
   ]
  },
  {
   "cell_type": "code",
   "execution_count": null,
   "metadata": {},
   "outputs": [
    {
     "name": "stdout",
     "output_type": "stream",
     "text": [
      "True\n"
     ]
    }
   ],
   "source": [
    "#68 wae to check to the given number is greater than 20 and less than 30 and it should be even\n",
    "n=25\n",
    "print(n>20 & n<30)\n"
   ]
  },
  {
   "cell_type": "code",
   "execution_count": null,
   "metadata": {},
   "outputs": [
    {
     "name": "stdout",
     "output_type": "stream",
     "text": [
      "True\n"
     ]
    }
   ],
   "source": [
    "#69 wae to check the given number is even and it should be less than 120\n",
    "n=100\n",
    "print(n%2==0 & n<120)"
   ]
  },
  {
   "cell_type": "code",
   "execution_count": null,
   "metadata": {},
   "outputs": [
    {
     "name": "stdout",
     "output_type": "stream",
     "text": [
      "True\n"
     ]
    }
   ],
   "source": [
    "#70 wae  to check the given number is even and present from 40 to 70\n",
    "n=44\n",
    "print(n%2==0)"
   ]
  },
  {
   "cell_type": "code",
   "execution_count": null,
   "metadata": {},
   "outputs": [
    {
     "name": "stdout",
     "output_type": "stream",
     "text": [
      "False\n"
     ]
    }
   ],
   "source": [
    "#71 wae to check the given number is odd and it should be greater than 97\n",
    "n=99\n",
    "print(n%2!=0 & n>97)"
   ]
  },
  {
   "cell_type": "code",
   "execution_count": null,
   "metadata": {},
   "outputs": [
    {
     "name": "stdout",
     "output_type": "stream",
     "text": [
      "False\n"
     ]
    }
   ],
   "source": [
    "#72 wae to check the given number is less than 122 and greater than 48 and the number shuold be divisible by 4\n",
    "a=60\n",
    "print(a<122&a>48&a%4==0)"
   ]
  },
  {
   "cell_type": "code",
   "execution_count": null,
   "metadata": {},
   "outputs": [
    {
     "name": "stdout",
     "output_type": "stream",
     "text": [
      "True\n"
     ]
    }
   ],
   "source": [
    "#73 was  to check the given number is divisible by 3 or 5 displaying the value\n",
    "n=30\n",
    "print(n%3==0 & n%5==0)"
   ]
  },
  {
   "cell_type": "code",
   "execution_count": null,
   "metadata": {},
   "outputs": [
    {
     "name": "stdout",
     "output_type": "stream",
     "text": [
      "True\n"
     ]
    }
   ],
   "source": [
    "#74 wae to check the number in between 100 to 200 including the limit\n",
    "n=150\n",
    "print (100<=150 and 150<=200)"
   ]
  },
  {
   "cell_type": "code",
   "execution_count": null,
   "metadata": {},
   "outputs": [
    {
     "name": "stdout",
     "output_type": "stream",
     "text": [
      "True\n"
     ]
    }
   ],
   "source": [
    "# 75was to check the given number is in between 100 to 200\n",
    "n=150\n",
    "print(100<150 and 150<200)"
   ]
  },
  {
   "cell_type": "code",
   "execution_count": null,
   "metadata": {},
   "outputs": [
    {
     "name": "stdout",
     "output_type": "stream",
     "text": [
      "False\n"
     ]
    }
   ],
   "source": [
    "#76 wae to check  the given string last character ascii value should be divisible by 5 or not\n",
    "s='apple'\n",
    "print(ord(s[-1])%5==0)\n"
   ]
  },
  {
   "cell_type": "code",
   "execution_count": null,
   "metadata": {},
   "outputs": [
    {
     "name": "stdout",
     "output_type": "stream",
     "text": [
      "False\n"
     ]
    }
   ],
   "source": [
    "#77 was  to check the given number is present 60 to 130 and the number should be divisible by 3 anf 4 and tha last digit shuld be greater than 9\n",
    "n=129\n",
    "print(60<=n<=130 and n%3==0 and n%4==0 and n%10>9) "
   ]
  },
  {
   "cell_type": "code",
   "execution_count": null,
   "metadata": {},
   "outputs": [
    {
     "name": "stdout",
     "output_type": "stream",
     "text": [
      "True\n"
     ]
    }
   ],
   "source": [
    "#78 wae to check the given number is even or less than 25\n",
    "n=24\n",
    "print(n % 2==0 or n<25)"
   ]
  },
  {
   "cell_type": "code",
   "execution_count": null,
   "metadata": {},
   "outputs": [
    {
     "name": "stdout",
     "output_type": "stream",
     "text": [
      "True\n"
     ]
    }
   ],
   "source": [
    "#79 wae to check the given number even is greater than 25\n",
    "n=30\n",
    "print(n%2==0 or n>25)"
   ]
  },
  {
   "cell_type": "code",
   "execution_count": null,
   "metadata": {},
   "outputs": [
    {
     "name": "stdout",
     "output_type": "stream",
     "text": [
      "True\n"
     ]
    }
   ],
   "source": [
    "#80 wae to check the given number is divisible by either 3 or 5\n",
    "n=30\n",
    "print(n%3==0 or n%5==0)"
   ]
  },
  {
   "cell_type": "code",
   "execution_count": null,
   "metadata": {},
   "outputs": [
    {
     "name": "stdout",
     "output_type": "stream",
     "text": [
      "True\n"
     ]
    }
   ],
   "source": [
    "#81 wae t0 check the given number is not an even number \n",
    "n=5\n",
    "print(n%2!=0) "
   ]
  },
  {
   "cell_type": "code",
   "execution_count": null,
   "metadata": {},
   "outputs": [
    {
     "name": "stdout",
     "output_type": "stream",
     "text": [
      "True\n"
     ]
    }
   ],
   "source": [
    "#82 wae to check the given number is not an odd number\n",
    "n=10\n",
    "print(n%2==0)"
   ]
  },
  {
   "cell_type": "code",
   "execution_count": null,
   "metadata": {},
   "outputs": [
    {
     "name": "stdout",
     "output_type": "stream",
     "text": [
      "True\n"
     ]
    }
   ],
   "source": [
    "#83 wae to check the given number is not a divisible by 3\n",
    "n=16\n",
    "print(n%3!=0)\n"
   ]
  },
  {
   "cell_type": "code",
   "execution_count": null,
   "metadata": {},
   "outputs": [
    {
     "name": "stdout",
     "output_type": "stream",
     "text": [
      "True\n"
     ]
    }
   ],
   "source": [
    "#84 wae to check the given number is not a divisible by 3 and 5\n",
    "n=16\n",
    "print(n%3!=0 and n%5!=0)\n"
   ]
  },
  {
   "cell_type": "code",
   "execution_count": null,
   "metadata": {},
   "outputs": [
    {
     "name": "stdout",
     "output_type": "stream",
     "text": [
      "True\n"
     ]
    }
   ],
   "source": [
    "#85 wae to check the given number not a divisible by 3 or 5\n",
    "n=16\n",
    "print(n%3!=0 or n%5!=0) "
   ]
  },
  {
   "cell_type": "code",
   "execution_count": null,
   "metadata": {},
   "outputs": [
    {
     "name": "stdout",
     "output_type": "stream",
     "text": [
      "True\n"
     ]
    }
   ],
   "source": [
    "#86 wae  to check the given character ascii value is not divisible by 5\n",
    "n='B'\n",
    "print(ord('B')%5!=0)\n"
   ]
  },
  {
   "cell_type": "code",
   "execution_count": null,
   "metadata": {},
   "outputs": [
    {
     "name": "stdout",
     "output_type": "stream",
     "text": [
      "A\n"
     ]
    }
   ],
   "source": [
    "# 87 wae to check find out the ascii character in a given number\n",
    "n=65\n",
    "print(chr(n))"
   ]
  },
  {
   "cell_type": "code",
   "execution_count": null,
   "metadata": {},
   "outputs": [
    {
     "name": "stdout",
     "output_type": "stream",
     "text": [
      "65\n"
     ]
    }
   ],
   "source": [
    "#88 wae to check to find out ascii values in a given character\n",
    "n=\"A\"\n",
    "print(ord(n))"
   ]
  },
  {
   "cell_type": "code",
   "execution_count": null,
   "metadata": {},
   "outputs": [
    {
     "name": "stdout",
     "output_type": "stream",
     "text": [
      "False\n"
     ]
    }
   ],
   "source": [
    "#89 wae to check given character is upper case or not\n",
    "ch='G'\n",
    "print (not('A'<=ch<='Z'))"
   ]
  },
  {
   "cell_type": "code",
   "execution_count": null,
   "metadata": {},
   "outputs": [
    {
     "name": "stdout",
     "output_type": "stream",
     "text": [
      "True\n"
     ]
    }
   ],
   "source": [
    "#90 wae to check the given character is the lowercase\n",
    "ch='a'\n",
    "print('a'<=ch<='z')"
   ]
  },
  {
   "cell_type": "code",
   "execution_count": null,
   "metadata": {},
   "outputs": [
    {
     "name": "stdout",
     "output_type": "stream",
     "text": [
      "True\n"
     ]
    }
   ],
   "source": [
    "#91 wae to check the given character is the alphabet\n",
    "ch='s'\n",
    "print('A'<=ch<='Z'or 'a'<=ch<='z')"
   ]
  },
  {
   "cell_type": "code",
   "execution_count": null,
   "metadata": {},
   "outputs": [
    {
     "name": "stdout",
     "output_type": "stream",
     "text": [
      "True\n"
     ]
    }
   ],
   "source": [
    "#92 wae to check the given character is the ascii number\n",
    "ch='5'\n",
    "print('0'<=ch<='9')"
   ]
  },
  {
   "cell_type": "code",
   "execution_count": null,
   "metadata": {},
   "outputs": [
    {
     "name": "stdout",
     "output_type": "stream",
     "text": [
      "True\n"
     ]
    }
   ],
   "source": [
    "#93 wae to check the given character is the  a special charater\n",
    "ch='$'\n",
    "print (not('A'<= ch<='z'or 'a'<=ch<='z' or '0'<=ch<='9'))"
   ]
  },
  {
   "cell_type": "code",
   "execution_count": null,
   "metadata": {},
   "outputs": [
    {
     "name": "stdout",
     "output_type": "stream",
     "text": [
      "False\n"
     ]
    }
   ],
   "source": [
    "#94 wae to check the given character should not be uppercase\n",
    "ch='A'\n",
    "print (not('A'<=ch<='Z'))"
   ]
  },
  {
   "cell_type": "code",
   "execution_count": null,
   "metadata": {},
   "outputs": [
    {
     "name": "stdout",
     "output_type": "stream",
     "text": [
      "False\n"
     ]
    }
   ],
   "source": [
    "#95 wae to check  the given character should not be lowercase\n",
    "ch='s'\n",
    "print (not('a'<=ch<='z'))"
   ]
  },
  {
   "cell_type": "code",
   "execution_count": null,
   "metadata": {},
   "outputs": [
    {
     "name": "stdout",
     "output_type": "stream",
     "text": [
      "False\n"
     ]
    }
   ],
   "source": [
    "#96  wae to check  the given character should not be alphabet\n",
    "ch='a'\n",
    "print(not('A'<='Z'or 'a'<='z'))\n"
   ]
  },
  {
   "cell_type": "code",
   "execution_count": null,
   "metadata": {},
   "outputs": [
    {
     "name": "stdout",
     "output_type": "stream",
     "text": [
      "False\n"
     ]
    }
   ],
   "source": [
    "# 97 wae to check  the given character should not be ascii number\n",
    "ch='6'\n",
    "print ( not('0'<=ch<='9'))\n"
   ]
  },
  {
   "cell_type": "code",
   "execution_count": null,
   "metadata": {},
   "outputs": [
    {
     "name": "stdout",
     "output_type": "stream",
     "text": [
      "True\n"
     ]
    }
   ],
   "source": [
    "#98 wae to check  the given character should not be a special character\n",
    "ch='$'\n",
    "print (not('A'<=ch<='Z' or 'a'<=ch<='z'or '0'<=ch<='9'))"
   ]
  },
  {
   "cell_type": "code",
   "execution_count": null,
   "metadata": {},
   "outputs": [
    {
     "name": "stdout",
     "output_type": "stream",
     "text": [
      "True\n"
     ]
    }
   ],
   "source": [
    "#99 wae to check  the given character is a vowel \n",
    "ch='A'\n",
    "print(ch=='A' or ch=='E' or ch=='I'or ch=='O' or ch=='U' or ch=='a'or ch=='e'or ch=='i' or ch=='o'or ch=='u' )"
   ]
  },
  {
   "cell_type": "code",
   "execution_count": null,
   "metadata": {},
   "outputs": [
    {
     "name": "stdout",
     "output_type": "stream",
     "text": [
      "True\n"
     ]
    }
   ],
   "source": [
    "# 100 wae to check  the given character is consonant \n",
    "ch='r'\n",
    "print(not(ch in 'aeiouAEIOU'))"
   ]
  },
  {
   "cell_type": "code",
   "execution_count": null,
   "metadata": {},
   "outputs": [
    {
     "data": {
      "text/plain": [
       "'a'"
      ]
     },
     "execution_count": 674,
     "metadata": {},
     "output_type": "execute_result"
    }
   ],
   "source": [
    " #101 was to convert uppercase to lowercase in given character\n",
    "ch='A'\n",
    "chr(ord(ch)+32)"
   ]
  },
  {
   "cell_type": "code",
   "execution_count": null,
   "metadata": {},
   "outputs": [
    {
     "data": {
      "text/plain": [
       "'A'"
      ]
     },
     "execution_count": 675,
     "metadata": {},
     "output_type": "execute_result"
    }
   ],
   "source": [
    "# 102 was to convert lowercase to uppercase in a given character\n",
    "ch='a'\n",
    "chr(ord(ch)-32)"
   ]
  },
  {
   "cell_type": "code",
   "execution_count": null,
   "metadata": {},
   "outputs": [
    {
     "data": {
      "text/plain": [
       "'A'"
      ]
     },
     "execution_count": 676,
     "metadata": {},
     "output_type": "execute_result"
    }
   ],
   "source": [
    "# 103 was to extract the previous character in the given character\n",
    "ch='B'\n",
    "chr(ord(ch)-1)"
   ]
  },
  {
   "cell_type": "code",
   "execution_count": null,
   "metadata": {},
   "outputs": [
    {
     "data": {
      "text/plain": [
       "'C'"
      ]
     },
     "execution_count": 677,
     "metadata": {},
     "output_type": "execute_result"
    }
   ],
   "source": [
    "# 104 was to extract the next character in the given character\n",
    "ch='B'\n",
    "chr(ord(ch)+1)"
   ]
  },
  {
   "cell_type": "code",
   "execution_count": null,
   "metadata": {},
   "outputs": [
    {
     "data": {
      "text/plain": [
       "True"
      ]
     },
     "execution_count": 678,
     "metadata": {},
     "output_type": "execute_result"
    }
   ],
   "source": [
    "# 105 wae to check the given character is converted to ASCII value and the value is even as well as the character should be lowercase\n",
    "ch='d'\n",
    "len(ch)==1 and ord(ch)%2==0 and 'a'<=ch<'z'"
   ]
  },
  {
   "cell_type": "code",
   "execution_count": null,
   "metadata": {},
   "outputs": [
    {
     "data": {
      "text/plain": [
       "True"
      ]
     },
     "execution_count": 679,
     "metadata": {},
     "output_type": "execute_result"
    }
   ],
   "source": [
    "# 106 wae to check the given character is converted to ASCII value and the value is even as well as the character should be uppercase\n",
    "ch='B'\n",
    "len(ch)==1 and ord(ch)%2==0 and 'A'<=ch<='Z'"
   ]
  },
  {
   "cell_type": "code",
   "execution_count": null,
   "metadata": {},
   "outputs": [
    {
     "data": {
      "text/plain": [
       "False"
      ]
     },
     "execution_count": 680,
     "metadata": {},
     "output_type": "execute_result"
    }
   ],
   "source": [
    "# 107 wae to check  which the given  number is converted to character is not a special symbol or not  \n",
    "n=58\n",
    "'A'<=chr(n)<='z' or 'a'<=chr(n)<='z' or '0'<=chr(n)<='9'"
   ]
  },
  {
   "cell_type": "code",
   "execution_count": null,
   "metadata": {},
   "outputs": [
    {
     "data": {
      "text/plain": [
       "True"
      ]
     },
     "execution_count": 702,
     "metadata": {},
     "output_type": "execute_result"
    }
   ],
   "source": [
    "# 108 wae to check the given number of the ASCII character is a vowel or not\n",
    "n=65\n",
    "chr(n) in 'AEIOUaeiou'"
   ]
  },
  {
   "cell_type": "code",
   "execution_count": 730,
   "metadata": {},
   "outputs": [
    {
     "data": {
      "text/plain": [
       "True"
      ]
     },
     "execution_count": 730,
     "metadata": {},
     "output_type": "execute_result"
    }
   ],
   "source": [
    "# 109 wae to check if the  first and second characters are sequence or not in a given string\n",
    "str='ABCD'\n",
    "ord(str[0])+1==ord(str[1])"
   ]
  },
  {
   "cell_type": "code",
   "execution_count": 731,
   "metadata": {},
   "outputs": [
    {
     "data": {
      "text/plain": [
       "True"
      ]
     },
     "execution_count": 731,
     "metadata": {},
     "output_type": "execute_result"
    }
   ],
   "source": [
    "# 110 wae to check the given character ASCII value should either greater than 50 or greater than 25 or less than 112\n",
    "ch='0'\n",
    "ord(ch)>25 or ord(ch)<112"
   ]
  },
  {
   "cell_type": "code",
   "execution_count": 732,
   "metadata": {},
   "outputs": [],
   "source": [
    "# 111 wae to given number is increased by 1\n",
    "m=10\n",
    "m+=1"
   ]
  },
  {
   "cell_type": "code",
   "execution_count": 733,
   "metadata": {},
   "outputs": [
    {
     "name": "stdout",
     "output_type": "stream",
     "text": [
      "12\n"
     ]
    }
   ],
   "source": [
    "# 112 wae to given number is incresed  by 2\n",
    "m=10\n",
    "m+=2\n",
    "print(m)"
   ]
  },
  {
   "cell_type": "code",
   "execution_count": 736,
   "metadata": {},
   "outputs": [
    {
     "name": "stdout",
     "output_type": "stream",
     "text": [
      "9\n"
     ]
    }
   ],
   "source": [
    "# 113 wae to given number is decreased by 1\n",
    "m=10\n",
    "m-=1 \n",
    "print(m)"
   ]
  },
  {
   "cell_type": "code",
   "execution_count": 737,
   "metadata": {},
   "outputs": [
    {
     "name": "stdout",
     "output_type": "stream",
     "text": [
      "7\n"
     ]
    }
   ],
   "source": [
    "# 114 wae to given number is decresed by 3\n",
    "m=10\n",
    "m-=3\n",
    "print(m)"
   ]
  },
  {
   "cell_type": "code",
   "execution_count": 738,
   "metadata": {},
   "outputs": [
    {
     "data": {
      "text/plain": [
       "True"
      ]
     },
     "execution_count": 738,
     "metadata": {},
     "output_type": "execute_result"
    }
   ],
   "source": [
    "# 115 wae to check the given integer number is present in the collection\n",
    "n=10\n",
    "coll=[10,50,60,70,20]\n",
    "n in coll"
   ]
  },
  {
   "cell_type": "code",
   "execution_count": 741,
   "metadata": {},
   "outputs": [
    {
     "name": "stdout",
     "output_type": "stream",
     "text": [
      "110\n"
     ]
    }
   ],
   "source": [
    "# 116 wae to check perform the addition operation on A and B value and final result should be updated to A\n",
    "a=50\n",
    "b=60\n",
    "a=a+b\n",
    "print(a)"
   ]
  },
  {
   "cell_type": "code",
   "execution_count": 742,
   "metadata": {},
   "outputs": [
    {
     "data": {
      "text/plain": [
       "False"
      ]
     },
     "execution_count": 742,
     "metadata": {},
     "output_type": "execute_result"
    }
   ],
   "source": [
    "# 117 wae to check the given value is present in the collection\n",
    "st=\"p\"\n",
    "coll=\"PYSPIDERS\"\n",
    "st in coll"
   ]
  },
  {
   "cell_type": "code",
   "execution_count": 744,
   "metadata": {},
   "outputs": [
    {
     "data": {
      "text/plain": [
       "True"
      ]
     },
     "execution_count": 744,
     "metadata": {},
     "output_type": "execute_result"
    }
   ],
   "source": [
    "# 118 wae to check the given list is present in the list \n",
    "st=[10,\"hai\"]\n",
    "coll=[10,'hai',{10,20},[10,'hai']]\n",
    "st in coll"
   ]
  },
  {
   "cell_type": "code",
   "execution_count": 55,
   "metadata": {},
   "outputs": [
    {
     "data": {
      "text/plain": [
       "False"
      ]
     },
     "execution_count": 55,
     "metadata": {},
     "output_type": "execute_result"
    }
   ],
   "source": [
    "# 119 wae to check the given dict value is present tuple\n",
    "d=(\n",
    "    {'a':(10,29),'b':(5)}\n",
    ")\n",
    "(5) in d\n",
    "\n"
   ]
  },
  {
   "cell_type": "code",
   "execution_count": null,
   "metadata": {},
   "outputs": [],
   "source": [
    "# 120  wae to check given value as integer value or not\n",
    "b=15\n",
    "type(15)\n",
    "type(b)==int"
   ]
  },
  {
   "cell_type": "code",
   "execution_count": 762,
   "metadata": {},
   "outputs": [
    {
     "data": {
      "text/plain": [
       "False"
      ]
     },
     "execution_count": 762,
     "metadata": {},
     "output_type": "execute_result"
    }
   ],
   "source": [
    "#121 wae to check given value as string value or not\n",
    "b=\"hai\"\n",
    "type(b)\n",
    "type(b)==str"
   ]
  },
  {
   "cell_type": "code",
   "execution_count": 764,
   "metadata": {},
   "outputs": [
    {
     "data": {
      "text/plain": [
       "True"
      ]
     },
     "execution_count": 764,
     "metadata": {},
     "output_type": "execute_result"
    }
   ],
   "source": [
    "# 122 wae to check given is single value or not\n",
    "c=b'1010'\n",
    "type(c) in [int,float,complex,bool,bytes,type(None)]"
   ]
  },
  {
   "cell_type": "code",
   "execution_count": 765,
   "metadata": {},
   "outputs": [
    {
     "data": {
      "text/plain": [
       "True"
      ]
     },
     "execution_count": 765,
     "metadata": {},
     "output_type": "execute_result"
    }
   ],
   "source": [
    "# 123  wae to check given is value should not be a single value\n",
    "c='pys'\n",
    "type(c) not in [int,float,complex,bool, bytes,type(None)]"
   ]
  },
  {
   "cell_type": "code",
   "execution_count": 768,
   "metadata": {},
   "outputs": [
    {
     "data": {
      "text/plain": [
       "True"
      ]
     },
     "execution_count": 768,
     "metadata": {},
     "output_type": "execute_result"
    }
   ],
   "source": [
    "# 124  wae to check given  value multi  value or not \n",
    "c=[10,50]\n",
    "type(c) in [str,list, tuple,set, dict]"
   ]
  },
  {
   "cell_type": "code",
   "execution_count": 769,
   "metadata": {},
   "outputs": [
    {
     "data": {
      "text/plain": [
       "False"
      ]
     },
     "execution_count": 769,
     "metadata": {},
     "output_type": "execute_result"
    }
   ],
   "source": [
    "# 125 wae to check  given value is a mutable value or not \n",
    "c='pys'\n",
    "type(c) in [list ,set,dict]"
   ]
  },
  {
   "cell_type": "code",
   "execution_count": 1,
   "metadata": {},
   "outputs": [
    {
     "data": {
      "text/plain": [
       "True"
      ]
     },
     "execution_count": 1,
     "metadata": {},
     "output_type": "execute_result"
    }
   ],
   "source": [
    "# 126 wae  to check the given value  is am immutable value  or not \n",
    "c=\"pys\"\n",
    "type(c) in [int,float,complex,bool,bytes,str,tuple ]"
   ]
  },
  {
   "cell_type": "code",
   "execution_count": 3,
   "metadata": {},
   "outputs": [
    {
     "data": {
      "text/plain": [
       "True"
      ]
     },
     "execution_count": 3,
     "metadata": {},
     "output_type": "execute_result"
    }
   ],
   "source": [
    "# 127 wae ti check if a given value is divisible  by 6 as well as that value present in the collection or not\n",
    "c=36 \n",
    "c%6==0 and c in [10,26,48,36,105]"
   ]
  },
  {
   "cell_type": "code",
   "execution_count": 6,
   "metadata": {},
   "outputs": [
    {
     "data": {
      "text/plain": [
       "3"
      ]
     },
     "execution_count": 6,
     "metadata": {},
     "output_type": "execute_result"
    }
   ],
   "source": [
    "# 128 wae to check perform the bitwise and operation given value are 15 and 19\n",
    "m=15\n",
    "n=19\n",
    "m&n"
   ]
  },
  {
   "cell_type": "code",
   "execution_count": 7,
   "metadata": {},
   "outputs": [
    {
     "data": {
      "text/plain": [
       "127"
      ]
     },
     "execution_count": 7,
     "metadata": {},
     "output_type": "execute_result"
    }
   ],
   "source": [
    "# 129wae to check perform the bitwise or operation given value are 115 and 79\n",
    "m=115\n",
    "n=79\n",
    "m|n"
   ]
  },
  {
   "cell_type": "code",
   "execution_count": 8,
   "metadata": {},
   "outputs": [
    {
     "data": {
      "text/plain": [
       "46"
      ]
     },
     "execution_count": 8,
     "metadata": {},
     "output_type": "execute_result"
    }
   ],
   "source": [
    "# 130 wae to check perform the bitwise xor operation given value are 56 and 22\n",
    "m=56\n",
    "n=22\n",
    "m^n"
   ]
  },
  {
   "cell_type": "code",
   "execution_count": 9,
   "metadata": {},
   "outputs": [
    {
     "data": {
      "text/plain": [
       "-16"
      ]
     },
     "execution_count": 9,
     "metadata": {},
     "output_type": "execute_result"
    }
   ],
   "source": [
    "# 131 wae to perform the bitwise not operation given value are 15 \n",
    "m=15\n",
    "~m"
   ]
  },
  {
   "cell_type": "code",
   "execution_count": 10,
   "metadata": {},
   "outputs": [
    {
     "data": {
      "text/plain": [
       "256"
      ]
     },
     "execution_count": 10,
     "metadata": {},
     "output_type": "execute_result"
    }
   ],
   "source": [
    "# 132 wae to perform the bitwise leftshift with 32 and skipping value is 3\n",
    "m=32\n",
    "n=3\n",
    "m<<n\n"
   ]
  },
  {
   "cell_type": "code",
   "execution_count": 11,
   "metadata": {},
   "outputs": [
    {
     "data": {
      "text/plain": [
       "6"
      ]
     },
     "execution_count": 11,
     "metadata": {},
     "output_type": "execute_result"
    }
   ],
   "source": [
    "#133  wae to perform the bitwise rightshift with 25 and skipping value is 2\n",
    "m=25\n",
    "n=2\n",
    "m>>n"
   ]
  },
  {
   "cell_type": "code",
   "execution_count": 12,
   "metadata": {},
   "outputs": [
    {
     "data": {
      "text/plain": [
       "1000"
      ]
     },
     "execution_count": 12,
     "metadata": {},
     "output_type": "execute_result"
    }
   ],
   "source": [
    "# 134 to find out the output of a given condition\n",
    "(10+20*80 and 10**3)or({10,20}or not([15-6]))"
   ]
  },
  {
   "cell_type": "code",
   "execution_count": 15,
   "metadata": {},
   "outputs": [
    {
     "name": "stdout",
     "output_type": "stream",
     "text": [
      "{'a': 10, 'haii': 'bye', (100,): (10, 20)}\n"
     ]
    }
   ],
   "source": [
    "# 135  wae to check if given key is present in dict or not\n",
    "d={'a':10,'haii':'bye',(100,):(10,20)}\n",
    "k='a'\n",
    "k in d\n",
    "print(d)"
   ]
  },
  {
   "cell_type": "code",
   "execution_count": 16,
   "metadata": {},
   "outputs": [
    {
     "data": {
      "text/plain": [
       "False"
      ]
     },
     "execution_count": 16,
     "metadata": {},
     "output_type": "execute_result"
    }
   ],
   "source": [
    "# 136 wae to check  if value present in the dict or not\n",
    "d={'a':10,'haii':'bye',(100,):(10,20)}\n",
    "k=10\n",
    "k in d"
   ]
  },
  {
   "cell_type": "code",
   "execution_count": 17,
   "metadata": {},
   "outputs": [
    {
     "data": {
      "text/plain": [
       "False"
      ]
     },
     "execution_count": 17,
     "metadata": {},
     "output_type": "execute_result"
    }
   ],
   "source": [
    "# 137 wae to check  if  key is not  present in the dict or not\n",
    "d={'a':10,'haii':'bye',(100,):(10,20)}\n",
    "k=(100,)\n",
    "k not in d\n"
   ]
  },
  {
   "cell_type": "code",
   "execution_count": 20,
   "metadata": {},
   "outputs": [
    {
     "data": {
      "text/plain": [
       "False"
      ]
     },
     "execution_count": 20,
     "metadata": {},
     "output_type": "execute_result"
    }
   ],
   "source": [
    "# 138  wae to check  if  key  value pair is  present in the dict or not\n",
    "\n",
    "d={'a':10,'haii':'bye',(100,):(10,20)}\n",
    "k=('a',10)\n",
    "k in d"
   ]
  },
  {
   "cell_type": "code",
   "execution_count": 21,
   "metadata": {},
   "outputs": [
    {
     "data": {
      "text/plain": [
       "True"
      ]
     },
     "execution_count": 21,
     "metadata": {},
     "output_type": "execute_result"
    }
   ],
   "source": [
    "# 139 wae to check if two value are pointing to the same address oe not\n",
    "a=15\n",
    "b=15\n",
    "a is b "
   ]
  },
  {
   "cell_type": "code",
   "execution_count": 22,
   "metadata": {},
   "outputs": [
    {
     "data": {
      "text/plain": [
       "True"
      ]
     },
     "execution_count": 22,
     "metadata": {},
     "output_type": "execute_result"
    }
   ],
   "source": [
    "# 140 wae to check both the  value  should be integer and both value are pointing to the same address or not\n",
    "a=256\n",
    "b=256\n",
    "type(a)==int and type(b)==int and a is b"
   ]
  }
 ],
 "metadata": {
  "kernelspec": {
   "display_name": "Python 3",
   "language": "python",
   "name": "python3"
  },
  "language_info": {
   "codemirror_mode": {
    "name": "ipython",
    "version": 3
   },
   "file_extension": ".py",
   "mimetype": "text/x-python",
   "name": "python",
   "nbconvert_exporter": "python",
   "pygments_lexer": "ipython3",
   "version": "3.10.5"
  },
  "orig_nbformat": 4
 },
 "nbformat": 4,
 "nbformat_minor": 2
}
