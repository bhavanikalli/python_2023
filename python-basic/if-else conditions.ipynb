{
 "cells": [
  {
   "cell_type": "code",
   "execution_count": 12,
   "metadata": {},
   "outputs": [
    {
     "name": "stdout",
     "output_type": "stream",
     "text": [
      "positive\n"
     ]
    }
   ],
   "source": [
    "# 1 WAP to check whether a number is positive or negative. If Positive print positive\n",
    "# message or else print Negative Number.\n",
    "n=6\n",
    "if n>=0 :\n",
    "    print(\"positive\")\n",
    "else:\n",
    "    print(\"negative\")"
   ]
  },
  {
   "cell_type": "code",
   "execution_count": 13,
   "metadata": {},
   "outputs": [
    {
     "name": "stdout",
     "output_type": "stream",
     "text": [
      "6 is even\n"
     ]
    }
   ],
   "source": [
    "# 2 WAP to check whether a number is even or odd. If even, print message an even\n",
    "# or else print message as odd.\n",
    "n=6\n",
    "if n%2==0:\n",
    "    print(f\"{n} is even\")\n",
    "else:\n",
    "    print(f\"{n} is odd\")"
   ]
  },
  {
   "cell_type": "code",
   "execution_count": 14,
   "metadata": {},
   "outputs": [
    {
     "name": "stdout",
     "output_type": "stream",
     "text": [
      "greater\n"
     ]
    }
   ],
   "source": [
    "# 3Write a program to check whether a given number is greater than 10 or not. if it\n",
    "# is greater than 10 print message as greater or else print that number with not a\n",
    "# greater than.\n",
    "n=894\n",
    "if n>10:\n",
    "    print(\"greater\")\n",
    "else:\n",
    "    print(\"that number with not a greater than\")"
   ]
  },
  {
   "cell_type": "code",
   "execution_count": 15,
   "metadata": {},
   "outputs": [
    {
     "name": "stdout",
     "output_type": "stream",
     "text": [
      "good morning\n"
     ]
    }
   ],
   "source": [
    "\n",
    "# 4 WAP to check whether the given two input numbers are divisible by 3 and 5. If it\n",
    "# is divisible, print “Good Morning”, if it is not divisible print “Good Evening”.\n",
    "n=15\n",
    "n=30\n",
    "if n%3==0 and n%5==0:\n",
    "    print(\"good morning\")\n",
    "else:\n",
    "    print(\"good evening\")\n"
   ]
  },
  {
   "cell_type": "code",
   "execution_count": 16,
   "metadata": {},
   "outputs": [
    {
     "name": "stdout",
     "output_type": "stream",
     "text": [
      "25\n"
     ]
    }
   ],
   "source": [
    "# 5WAP to accept two integers and check whether those two values are equal or not.\n",
    "# If equal, multiply to value or else to display the quotation value.\n",
    "n=5\n",
    "m=5\n",
    "if m==n:\n",
    "    print(m*n)\n",
    "else:\n",
    "    print(\"two integres are not same\")\n",
    " "
   ]
  },
  {
   "cell_type": "code",
   "execution_count": 17,
   "metadata": {},
   "outputs": [
    {
     "name": "stdout",
     "output_type": "stream",
     "text": [
      "n is largest number\n"
     ]
    }
   ],
   "source": [
    "# 6 WAP to find the largest of two numbers.\n",
    "n=88\n",
    "m=9\n",
    "if m>n :\n",
    "    print(\" m islargest number\")\n",
    "else:\n",
    "    print(\"n is largest number\")"
   ]
  },
  {
   "cell_type": "code",
   "execution_count": 18,
   "metadata": {},
   "outputs": [
    {
     "name": "stdout",
     "output_type": "stream",
     "text": [
      "12\n"
     ]
    }
   ],
   "source": [
    "# 7  wap to the given number integer, if n is greater than 21,print the absolute\n",
    "# difference between n and 21 otherwise print twice the absolute difference.\n",
    "n=15\n",
    "if  type(n)==int and n>21:\n",
    "    m=abs(n-21)\n",
    "    print(m)\n",
    "else:\n",
    "    m=abs(n-21)\n",
    "    k=2*m\n",
    "    print(k)"
   ]
  },
  {
   "cell_type": "code",
   "execution_count": 19,
   "metadata": {},
   "outputs": [
    {
     "name": "stdout",
     "output_type": "stream",
     "text": [
      "m is smallest \n"
     ]
    }
   ],
   "source": [
    "# 8 WAP to find the smallest of two numbers.\n",
    "n=7\n",
    "m=5\n",
    "if m<n:\n",
    "    print(\"m is smallest \")\n",
    "else:\n",
    "    print(\"n is smallest \")"
   ]
  },
  {
   "cell_type": "code",
   "execution_count": 20,
   "metadata": {},
   "outputs": [
    {
     "name": "stdout",
     "output_type": "stream",
     "text": [
      "6\n"
     ]
    }
   ],
   "source": [
    "# 9 WAP to check whether the given number is even or odd. If it is even then make\n",
    "# it as an add number, if it is an odd number then make it as even number.\n",
    "n=7\n",
    "if n%2==0:\n",
    "     m=n+1\n",
    "     print(m)\n",
    "else:\n",
    "     m=n-1\n",
    "     print(m)"
   ]
  },
  {
   "cell_type": "code",
   "execution_count": 21,
   "metadata": {},
   "outputs": [
    {
     "name": "stdout",
     "output_type": "stream",
     "text": [
      "512\n"
     ]
    }
   ],
   "source": [
    "# 10 WAP to check whether the given number is divisible by 3 or not if yes, print the\n",
    "# number or else print the cube of the numbers\n",
    "n=8\n",
    "if n%3==0:\n",
    "    print(n)\n",
    "else:\n",
    "    print(n**3)"
   ]
  },
  {
   "cell_type": "code",
   "execution_count": 22,
   "metadata": {},
   "outputs": [
    {
     "name": "stdout",
     "output_type": "stream",
     "text": [
      "19 <class 'str'>\n"
     ]
    }
   ],
   "source": [
    "# 11 WAP to check whether the given input is divisible by 3 and 5. If yes print the\n",
    "# actual number or else print string of that number\n",
    "n=19\n",
    "if n%3==0 and n%5==0:\n",
    "    print(n)\n",
    "else:\n",
    "    m=str(n)\n",
    "    print(m, type(m))"
   ]
  },
  {
   "cell_type": "code",
   "execution_count": 23,
   "metadata": {},
   "outputs": [
    {
     "name": "stdout",
     "output_type": "stream",
     "text": [
      "8000\n"
     ]
    }
   ],
   "source": [
    "# 12 WAP to check whether the given number lies between 1 to 19, if it is true square\n",
    "# that number or else false cube that number and display the number.\n",
    "n=20\n",
    "if 1<=n<=19:\n",
    " print(n**2)\n",
    "else:\n",
    "   print(n**3)"
   ]
  },
  {
   "cell_type": "code",
   "execution_count": 24,
   "metadata": {},
   "outputs": [
    {
     "name": "stdout",
     "output_type": "stream",
     "text": [
      "FAIL 40\n"
     ]
    }
   ],
   "source": [
    "# 13 WAP to check whether the student has passed or failed. If the student got more\n",
    "# than 40 marks, print ‘PASS’ along with those marks, if it is not printed ‘FAIL’ along\n",
    "# with those marks.\n",
    "m=40\n",
    "if m>40:\n",
    "    print(\"PASS\",(m))\n",
    "else:\n",
    "    print(\"FAIL\",(m))\n"
   ]
  },
  {
   "cell_type": "code",
   "execution_count": 25,
   "metadata": {},
   "outputs": [
    {
     "name": "stdout",
     "output_type": "stream",
     "text": [
      "2\n"
     ]
    }
   ],
   "source": [
    "# # 14 WAP to check whether a given value is even and in range of 47 to 58 and not in 0\n",
    "# or odd. if condition is True, to perform display the ascii character. or else to\n",
    "# perform floor division with 5 and display it.\n",
    "n=50\n",
    "if n%2==0 and 47<=n and n<58 and n!=0 or n%2!=0:\n",
    "        t=chr(n)\n",
    "        print(t)\n",
    "else:\n",
    "      m=n//5\n",
    "      print(m)"
   ]
  },
  {
   "cell_type": "code",
   "execution_count": 26,
   "metadata": {},
   "outputs": [
    {
     "name": "stdout",
     "output_type": "stream",
     "text": [
      "[10, 20, 39]\n"
     ]
    }
   ],
   "source": [
    "# 15 WAP to check whether a given value is less than 125 and in between 47 to 125 or\n",
    "# not. if condition is True, to perform store the given value as key and value as a\n",
    "# character into the dict or else to append the value in list and display it.\n",
    "n=125\n",
    "m={'a':10}\n",
    "if n<125 and 47<n<125 :\n",
    "    m[n]=chr(n)\n",
    "    print(m)\n",
    "else:\n",
    "    m=[10,20]\n",
    "    m+=[39]\n",
    "    print(m)\n",
    "    \n"
   ]
  },
  {
   "cell_type": "code",
   "execution_count": 27,
   "metadata": {},
   "outputs": [
    {
     "name": "stdout",
     "output_type": "stream",
     "text": [
      "alphabet b\n"
     ]
    }
   ],
   "source": [
    "# 16 WAP to check whether a given character is in the alphabet or not. if alphabet,\n",
    "# display the alphabet with character or else display the not alphabet with\n",
    "# character.\n",
    "n='b'\n",
    "if 'A'<=n<='Z' or 'a'<=n<='z':\n",
    "        print(\"alphabet\",n)\n",
    "else:\n",
    "      print(\"not alphabet\",n)"
   ]
  },
  {
   "cell_type": "code",
   "execution_count": 28,
   "metadata": {},
   "outputs": [
    {
     "name": "stdout",
     "output_type": "stream",
     "text": [
      " other charater 2\n"
     ]
    }
   ],
   "source": [
    "# 17 WAP to check whether a given character is uppercase or other character. if\n",
    "# uppercase, display the uppercase with character or else display the other\n",
    "# character with character.\n",
    "n='2'\n",
    "if 'A'<=n<='Z' or not('a'<=n<='z' or 'A'<=n<='Z' or '0'<=n<='9'):\n",
    "    print(\"uppercase\",n)\n",
    "else: print(' other charater',n)"
   ]
  },
  {
   "cell_type": "code",
   "execution_count": 29,
   "metadata": {},
   "outputs": [
    {
     "name": "stdout",
     "output_type": "stream",
     "text": [
      "lowercase a\n"
     ]
    }
   ],
   "source": [
    "# 18 WAP to check whether a given character is lowercase or other character. if\n",
    "# lowercase, display the lowercase with character or else display the other\n",
    "# character with character.\n",
    "n='a'\n",
    "if 'a'<=n<='z' or not('a'<=n<='z' or 'A'<=n<='Z' or '0'<=n<='9'):\n",
    "    print(\"lowercase\",n)\n",
    "else: print(' other charater',n)"
   ]
  },
  {
   "cell_type": "code",
   "execution_count": 30,
   "metadata": {},
   "outputs": [
    {
     "name": "stdout",
     "output_type": "stream",
     "text": [
      "55\n"
     ]
    }
   ],
   "source": [
    "# 19  WAP to check whether a given character is uppercase or other character. if\n",
    "# uppercase, convert to lowercase .or else display the ascii number.\n",
    "n='7'\n",
    "if 'A'<=n<='Z' or not('a'<=n<='z' or 'A'<=n<='Z' or '0'<=n<='9'):\n",
    "        print(chr(ord(n)+32))\n",
    "else: print(ord(n))\n"
   ]
  },
  {
   "cell_type": "code",
   "execution_count": 31,
   "metadata": {},
   "outputs": [
    {
     "name": "stdout",
     "output_type": "stream",
     "text": [
      "W\n"
     ]
    }
   ],
   "source": [
    "# 20 WAP to check whether the given character is in lowercase or uppercase. If it is\n",
    "# in lowercase, convert it into uppercase, or else it is in uppercase and convert it\n",
    "# into lowercase. Display the value.\n",
    "n='7'\n",
    "if 'A'<=n<='Z'or 'a'<=n<='z':\n",
    "     print(chr(ord(n)-32))\n",
    "else: \n",
    "    print(chr(ord(n)+32))\n"
   ]
  },
  {
   "cell_type": "code",
   "execution_count": 32,
   "metadata": {},
   "outputs": [
    {
     "name": "stdout",
     "output_type": "stream",
     "text": [
      "v\n"
     ]
    }
   ],
   "source": [
    "# 21 WAP to check whether the given string of the first character is a special symbol\n",
    "# or not. If a special symbol, to extract and display the middle character or else to\n",
    "# reverse the string and display the half of the string.\n",
    "n=\"*bhavani\"\n",
    "s=n[0]\n",
    "if not('A'<=s<='Z'or 'a'<=s<='z'or '0'<=s<='9'):\n",
    "        m=n[len(n)//2]\n",
    "        print(m)\n",
    "else: \n",
    "      m=n[::-1]\n",
    "      h=len(n)//2\n",
    "      p=m[:h]\n",
    "      print(p)\n",
    "      \n",
    "    \n",
    "\n",
    "\n",
    "    "
   ]
  },
  {
   "cell_type": "code",
   "execution_count": 33,
   "metadata": {},
   "outputs": [
    {
     "name": "stdout",
     "output_type": "stream",
     "text": [
      "CONSONANT\n"
     ]
    }
   ],
   "source": [
    "# 22 WAP to check whether the input character is a vowel or not. If it is vowel print\n",
    "# ‘VOWEL’ along with that character, if it is not just print ‘CONSONANT’.\n",
    "n='y'\n",
    "if n in 'AEIOUaeiou':\n",
    "    print(\"VOWEL\",(n))\n",
    "else:\n",
    "    print(\"CONSONANT\")\n",
    "\n",
    "\n",
    "    "
   ]
  },
  {
   "cell_type": "code",
   "execution_count": 34,
   "metadata": {},
   "outputs": [
    {
     "name": "stdout",
     "output_type": "stream",
     "text": [
      "x\n"
     ]
    }
   ],
   "source": [
    "# 23WAP to check whether a given character is a vowel or consonant. if vowel, to\n",
    "# print the next character of a given character or else print previous characters\n",
    "n='y'\n",
    "if n in 'AEIOUaeoiu':\n",
    "    p=chr(ord(n)+1)\n",
    "    print(p)\n",
    "else:\n",
    "     p=chr(ord(n)-1)\n",
    "     print(p)"
   ]
  },
  {
   "cell_type": "code",
   "execution_count": 35,
   "metadata": {},
   "outputs": [
    {
     "name": "stdout",
     "output_type": "stream",
     "text": [
      "dknfjkg\n"
     ]
    }
   ],
   "source": [
    "# 24 WAP to check whether a given string of first character is alphabet or not\n",
    "# if the alphabet prints, reverse the string or else print the middle character.\n",
    "n='gkjfnkd'\n",
    "if 'A'<=n<='Z' or 'a'<=n<='z':\n",
    "    m=n[::-1]\n",
    "    print(m)\n",
    "else:\n",
    "    n=len(n)//2\n",
    "    print(n)"
   ]
  },
  {
   "cell_type": "code",
   "execution_count": 36,
   "metadata": {},
   "outputs": [
    {
     "name": "stdout",
     "output_type": "stream",
     "text": [
      "ani\n"
     ]
    }
   ],
   "source": [
    "# 25 WAP to check whether a given string is less than 3 characters, to print the entire\n",
    "# string otherwise to print after third positions to the remaining string.\n",
    "n=\"bhvani\"\n",
    "if len(n)<3:\n",
    "    print(n)\n",
    "else:\n",
    "    m=n[3::]\n",
    "    print(m)\n"
   ]
  },
  {
   "cell_type": "code",
   "execution_count": 37,
   "metadata": {},
   "outputs": [
    {
     "name": "stdout",
     "output_type": "stream",
     "text": [
      "b i\n"
     ]
    }
   ],
   "source": [
    "# 26 WAP to check whether a given length of the string is even or not. if even, to\n",
    "# append the new string called \"bye\" or else print the first and last characters.\n",
    "n='bhavani'\n",
    "if len(n)%2==0:\n",
    "    n+=\"bye\"\n",
    "    print(n)\n",
    "else: \n",
    "    m=n[0]\n",
    "    b=n[-1]\n",
    "    print(m,b)"
   ]
  },
  {
   "cell_type": "code",
   "execution_count": 38,
   "metadata": {},
   "outputs": [
    {
     "name": "stdout",
     "output_type": "stream",
     "text": [
      "hava\n"
     ]
    }
   ],
   "source": [
    "# 27 WAP to check whether a given length of the string is odd or not. if odd, to append\n",
    "# the new string(\"Haii\") from the starting of the given string, or else to avoid the\n",
    "# starting character and ending character of the given\n",
    "# string and to display the remaining characters\n",
    "n='bhavai'\n",
    "if len(n)%2!=0:\n",
    "      n+=\"Haii\"\n",
    "      print(n)\n",
    "else:\n",
    "     m=n[1:-1:1]\n",
    "     print(m)\n",
    "      "
   ]
  },
  {
   "cell_type": "code",
   "execution_count": 39,
   "metadata": {},
   "outputs": [
    {
     "name": "stdout",
     "output_type": "stream",
     "text": [
      "v\n"
     ]
    }
   ],
   "source": [
    "# 28 WAP to check whether the last of the given string is a special character or not, if\n",
    "# the special character prints reverse the string except the last character or else to\n",
    "# check if the length of the string is odd or not, if odd to extract the middle\n",
    "# character to the end of the string.\n",
    "n=\"bhavani\"\n",
    "m=n[-1]\n",
    "if not('A'<=m<='Z'or 'a'<=m<='z'or '0'<=m<='9'):\n",
    "   print(n[:0:-1])\n",
    "else:\n",
    "      len(n)%2!=0\n",
    "      print(n[len(n)//2])"
   ]
  },
  {
   "cell_type": "code",
   "execution_count": 40,
   "metadata": {},
   "outputs": [
    {
     "name": "stdout",
     "output_type": "stream",
     "text": [
      " leap year\n"
     ]
    }
   ],
   "source": [
    "# 29 WAP to check whether a given year is a leap year or not. if leap year, print leap\n",
    "# year or else not a leap year.\n",
    "year=2000\n",
    "if year % 4 == 0 and year % 100 != 0 or year % 400 == 0:\n",
    "     print(\" leap year\")\n",
    "else:\n",
    "     print(\"not leap year\")\n",
    "     "
   ]
  },
  {
   "cell_type": "code",
   "execution_count": 41,
   "metadata": {},
   "outputs": [
    {
     "name": "stdout",
     "output_type": "stream",
     "text": [
      "10 greatest number\n"
     ]
    }
   ],
   "source": [
    "# 30 WAP to find out the greatest of two numbers and display the greatest number. if\n",
    "# the greatest number, display the greatest message with value.\n",
    "n=10\n",
    "m=9\n",
    "if m>n:\n",
    "    print(f\"{m} greatest number \")\n",
    "else: print(f\"{n} greatest number\")"
   ]
  },
  {
   "cell_type": "code",
   "execution_count": 42,
   "metadata": {},
   "outputs": [
    {
     "name": "stdout",
     "output_type": "stream",
     "text": [
      "30 is available\n"
     ]
    }
   ],
   "source": [
    "# 31 WAP to check whether the given value is present inside the given collection or\n",
    "# not.if value is present, display the value is available or else the value is not\n",
    "# present.\n",
    "m=30\n",
    "n=[10,30,40,50]\n",
    "if m in n:\n",
    "    print(f\"{m} is available\")\n",
    "else:\n",
    "      print(\"value is not present\")"
   ]
  },
  {
   "cell_type": "code",
   "execution_count": 43,
   "metadata": {},
   "outputs": [
    {
     "name": "stdout",
     "output_type": "stream",
     "text": [
      "ihavanb\n"
     ]
    }
   ],
   "source": [
    "# 32 WAP whether a given string, if string length is more than 2, then it displays a new\n",
    "# string with the first and last characters switched, otherwise the display the 3\n",
    "# copies of given string.\n",
    "n=\"bhavani\"\n",
    "if len(n)>2:\n",
    "    m=n[-1]+n[1:-1]+n[0]\n",
    "    print(m)\n",
    "else:\n",
    "    n=\"bhavani\"\n",
    "    m=n*3\n",
    "    print(m)\n",
    "\n",
    "    \n",
    "    \n"
   ]
  },
  {
   "cell_type": "code",
   "execution_count": 44,
   "metadata": {},
   "outputs": [
    {
     "name": "stdout",
     "output_type": "stream",
     "text": [
      "[3.3333333333333335, 20, 30, 40, -51]\n"
     ]
    }
   ],
   "source": [
    "#33 WAP to check whether a given value is a list and first and last values should be\n",
    "# integer if condition is satisfied first value is True division by 3 and perform the\n",
    "# bitwise not for last value and those result values are stored in same positions in\n",
    "# given list or else, to perform length of the collection power by 2 and display\n",
    "# value\n",
    "n=[10,20,30,40,50]\n",
    "m=n[0]\n",
    "b=n[-1]\n",
    "if type(m)==int and type(b)==int:\n",
    "    v=m/3\n",
    "    b=~n[-1]\n",
    "    n[0]=v\n",
    "    n[-1]=b\n",
    "    print(n)\n",
    "else:\n",
    "    s=len(n)**2\n",
    "    print(s)"
   ]
  },
  {
   "cell_type": "code",
   "execution_count": 45,
   "metadata": {},
   "outputs": [
    {
     "name": "stdout",
     "output_type": "stream",
     "text": [
      "bhavanibhavanibhavani\n"
     ]
    }
   ],
   "source": [
    "# 34 WAP to check whether a given value is a string or not and length of the value\n",
    "# should be more than 7, if condition is satisfied to append the new string in the\n",
    "# middle of the given string or else to perform the replications with 3 and display\n",
    "# the result.\n",
    "n='bhavani'\n",
    "if type(n)==str and len(n)>7:\n",
    "    m=n[0:len(n)//2]+'kalli'+n[len(n)//2+1:]\n",
    "    print(m)\n",
    "else: m=n*3\n",
    "print(m)\n",
    "     \n"
   ]
  },
  {
   "cell_type": "code",
   "execution_count": 46,
   "metadata": {},
   "outputs": [
    {
     "name": "stdout",
     "output_type": "stream",
     "text": [
      "value is not found\n"
     ]
    }
   ],
   "source": [
    "# 36 WAP to check whether a given value is present inside the collection or not. If\n",
    "# present, print the value or else print value is not found.\n",
    "n=50\n",
    "l=[10,20,30]\n",
    "if n in l:\n",
    "    print(n)\n",
    "else:\n",
    "    print(\"value is not found\")"
   ]
  },
  {
   "cell_type": "code",
   "execution_count": 47,
   "metadata": {},
   "outputs": [
    {
     "name": "stdout",
     "output_type": "stream",
     "text": [
      "{'a': 100, 'b': 200, 'c': 300, 'e': 500}\n"
     ]
    }
   ],
   "source": [
    "# 37 WAP to check whether a given key is present in the dict or not. if key is present:\n",
    "# display the value or else add key and new value inside the dict.\n",
    "n='e'\n",
    "m={'a':100,'b':200,'c':300}\n",
    "if n in m:\n",
    "    b=m['a']\n",
    "    print(b)\n",
    "else:\n",
    "      m[n]=500\n",
    "      print(m)\n"
   ]
  },
  {
   "cell_type": "code",
   "execution_count": 48,
   "metadata": {},
   "outputs": [
    {
     "name": "stdout",
     "output_type": "stream",
     "text": [
      "{40, 10, 20, 30}\n"
     ]
    }
   ],
   "source": [
    "# 38 WAP to check whether a given collection is set or not. if set, append the new\n",
    "# value, or else eliminate the duplicate values in collection. final results should be\n",
    "# set type.\n",
    "n=10,20,30,10,30,40\n",
    "if type(n)==set :\n",
    "    n|={50}\n",
    "    print(n)\n",
    "else:\n",
    "    b=set(n)\n",
    "    print(b)\n"
   ]
  },
  {
   "cell_type": "code",
   "execution_count": 49,
   "metadata": {},
   "outputs": [
    {
     "name": "stdout",
     "output_type": "stream",
     "text": [
      "not eligible\n"
     ]
    }
   ],
   "source": [
    "# 39 WAP to read the age of a candidate and determine whether it is eligible for\n",
    "# his/her own vote or not.it eligible print age and eligible messages or else print\n",
    "# not eligible.\n",
    "age=1\n",
    "if age>18:\n",
    "    print(f\"{age} eligible to vote\")\n",
    "else:print(\"not eligible\")\n"
   ]
  },
  {
   "cell_type": "code",
   "execution_count": 50,
   "metadata": {},
   "outputs": [
    {
     "name": "stdout",
     "output_type": "stream",
     "text": [
      "3\n"
     ]
    }
   ],
   "source": [
    "# 40 WAP to check whether a given value is even and in between 47 to 58 and not in\n",
    "# 0 or odd. if condition is True, to perform display the ascii character or else to\n",
    "# perform floor division with 5 and display it.\n",
    "n=51\n",
    "if n%2==0 and 47<n and n<58 and n!=0 or n%2!=0:\n",
    "     m=chr(n) \n",
    "     print(m)\n",
    "else: \n",
    "    m=n//5\n",
    "    print(m)"
   ]
  },
  {
   "cell_type": "code",
   "execution_count": 51,
   "metadata": {},
   "outputs": [
    {
     "name": "stdout",
     "output_type": "stream",
     "text": [
      "not palindrom\n"
     ]
    }
   ],
   "source": [
    "# 41 WAP to check whether the given string is palindrome or not if it is a palindrome\n",
    "# string palindrome along with the string if it is not a palindrome print not\n",
    "# palindrome.\n",
    "n='mada'\n",
    "if n[::-1]==n[::]:\n",
    "    print(n[::-1],n)\n",
    "else:\n",
    "    print(\"not palindrom\")"
   ]
  },
  {
   "cell_type": "code",
   "execution_count": 52,
   "metadata": {},
   "outputs": [
    {
     "name": "stdout",
     "output_type": "stream",
     "text": [
      "4 haii\n",
      "3 hel\n"
     ]
    }
   ],
   "source": [
    "#42 WAP to check length of both string collections are equal or not. if both are equal\n",
    "# print the concat the two strings and display, or else if any one of the collection\n",
    "# not equal print both the collections with lengths.\n",
    "n=\"haii\"\n",
    "m=\"hel\"\n",
    "if len(n)==len(m):\n",
    "    n+=m\n",
    "    print(n)\n",
    "else:\n",
    "    print(len(n),n)\n",
    "    print(len(m),m)"
   ]
  },
  {
   "cell_type": "code",
   "execution_count": 53,
   "metadata": {},
   "outputs": [
    {
     "name": "stdout",
     "output_type": "stream",
     "text": [
      "5 9 2144283601216\n"
     ]
    }
   ],
   "source": [
    "# 43WAP to check whether both given values point to the same memory location or\n",
    "# not. if it is true print the middle item of the second collection, or else if it is false\n",
    "# print the first item and last item of the first collection along with the memory\n",
    "# address.\n",
    "n=[5,7,8,9]\n",
    "m=[5,7,8,9]\n",
    "if n is m:\n",
    "      b=len(m)//2\n",
    "      print(b)\n",
    "else:\n",
    "      b=n[0]\n",
    "      i=n[-1]\n",
    "      v=id(n)\n",
    "      print(b,i,v)\n"
   ]
  },
  {
   "cell_type": "code",
   "execution_count": 54,
   "metadata": {},
   "outputs": [
    {
     "name": "stdout",
     "output_type": "stream",
     "text": [
      "bhavanireddykallibhavanireddykallibhavanireddykalli\n"
     ]
    }
   ],
   "source": [
    "# 44 WAP to check whether a given string collection is more than ten, and the first +\n",
    "# last character of the ascii values should be divisible by 5, if condition is satisfied\n",
    "# print first, middle, last characters ASCII values or else print the string three\n",
    "# times.\n",
    "n=\"bhavanireddykalli\"\n",
    "if len(n)>10 and  (ord(n[0])+ord(n[-1]))%5==0:\n",
    "    m=ord(n[0])\n",
    "    b=ord(n[len(n)//2])\n",
    "    v=ord(n[-1])\n",
    "    print(m,b,v)\n",
    "else:\n",
    "    print(n*3)\n",
    "\n"
   ]
  },
  {
   "cell_type": "code",
   "execution_count": 55,
   "metadata": {},
   "outputs": [
    {
     "name": "stdout",
     "output_type": "stream",
     "text": [
      "haii\n"
     ]
    }
   ],
   "source": [
    "# 45 WAP to check whether the middle of the item present in the list is string data type\n",
    "# or not if it is string print that list or else if it is not string then print that middle\n",
    "# item.\n",
    "n=[10,20,'haii',30,40]\n",
    "if type(len(n)//2)==str:\n",
    "    print(n)\n",
    "else:\n",
    "    p=n[len(n)//2]\n",
    "    print(p)"
   ]
  },
  {
   "cell_type": "code",
   "execution_count": 56,
   "metadata": {},
   "outputs": [
    {
     "name": "stdout",
     "output_type": "stream",
     "text": [
      "hello\n",
      "oellh\n"
     ]
    }
   ],
   "source": [
    "# 46  WAP Given a string, return a new string where the first and last characters have\n",
    "# been exchanged.\n",
    "n='hello'\n",
    "if len(n)>=0:\n",
    "    print(n)\n",
    "    b=n[0]\n",
    "    v=n[-1]\n",
    "    c=n[1:-1]\n",
    "    m=v+c+b\n",
    "    print(m)"
   ]
  },
  {
   "cell_type": "code",
   "execution_count": 57,
   "metadata": {},
   "outputs": [
    {
     "name": "stdout",
     "output_type": "stream",
     "text": [
      "200\n"
     ]
    }
   ],
   "source": [
    "# 47 Write a program to find out such numbers which are divisible by 7 but are not a\n",
    "# multiple of 5. Both the conditional is satisfied and print actual value. if one\n",
    "# condition is not satisfied actual number is multiply by 4 and print result.\n",
    "n=50\n",
    "if n%7==0 and n*5!=0:\n",
    "    print(n)\n",
    "else: \n",
    "    m=n*4\n",
    "    print(m)"
   ]
  },
  {
   "cell_type": "code",
   "execution_count": 58,
   "metadata": {},
   "outputs": [
    {
     "name": "stdout",
     "output_type": "stream",
     "text": [
      "2144283105552 2144283105680\n"
     ]
    }
   ],
   "source": [
    "# 48 WAP to check whether two values are pointing to the same memory address or\n",
    "# not. If the same memory displays the address or else displays the two values\n",
    "# addresses.\n",
    "n=258\n",
    "m=258\n",
    "if n is m:\n",
    "    id(n) \n",
    "    id(m)\n",
    "    print(id(m),id(n))\n",
    "else: \n",
    "    print(id(n),id(m))"
   ]
  },
  {
   "cell_type": "code",
   "execution_count": 59,
   "metadata": {},
   "outputs": [
    {
     "name": "stdout",
     "output_type": "stream",
     "text": [
      "hhhhh\n"
     ]
    }
   ],
   "source": [
    "# 49 WAP to check whether a given input character is a special symbol or not if it is a\n",
    "# special symbol then print that character three times and tell print that character\n",
    "# 5 times.\n",
    "n='h'\n",
    "if  not('A'<=n<='Z' or 'a'<=n<='z' or '0'<=n<='9'):\n",
    "    print(n*3)\n",
    "else:\n",
    "    print(n*5)"
   ]
  },
  {
   "cell_type": "code",
   "execution_count": 60,
   "metadata": {},
   "outputs": [
    {
     "name": "stdout",
     "output_type": "stream",
     "text": [
      "helo haiii\n"
     ]
    }
   ],
   "source": [
    "# 50  WAP to check length of both string collections equal or not if it is equal print the\n",
    "# connection of any one of the collections if it is not equal print both the collection\n",
    "n=\"haiii\"\n",
    "m=\"helo\"\n",
    "if len(n)==len(m):\n",
    "    b=m+n\n",
    "    print(b)\n",
    "else:\n",
    "    print(m,n)"
   ]
  },
  {
   "cell_type": "code",
   "execution_count": 61,
   "metadata": {},
   "outputs": [
    {
     "name": "stdout",
     "output_type": "stream",
     "text": [
      "h 2144182234480\n"
     ]
    }
   ],
   "source": [
    "# 51  WAP To check whether both input variables point to the same memory location\n",
    "# or not if it is true print the last item of the second collection, if it is false print the\n",
    "# first item of the first collection along with the memory address.\n",
    "n=\"haii\"\n",
    "m=\"hai\"\n",
    "if n is m:\n",
    "    b=m[-1]\n",
    "    print(b,id(b))\n",
    "    \n",
    "else:\n",
    "    b=n[0]\n",
    "    print(b,id(b))"
   ]
  },
  {
   "cell_type": "code",
   "execution_count": 62,
   "metadata": {},
   "outputs": [
    {
     "name": "stdout",
     "output_type": "stream",
     "text": [
      "hellohiihellohiihellohii\n"
     ]
    }
   ],
   "source": [
    "# 52 WAP to print the string collection five times when the length of the string\n",
    "# collection should be more than 3 and the middle character of the string should\n",
    "# be vowel and the first character ASCII value should be even, to print the previous\n",
    "# character of middle character, or else if ASCII value is odd then print the string\n",
    "# three times as print that string.\n",
    "n=\"hellohii\"\n",
    "if  len(n)>3 and chr(len(n)//2) in 'AEIOUaeiou' and ord(n[0])%2==0:\n",
    "    print(n*5)\n",
    "    b=n[(len(n)//2)-1]\n",
    "else: \n",
    "    ord(n[0])%2!=0\n",
    "    print(n*3)\n"
   ]
  },
  {
   "cell_type": "code",
   "execution_count": 63,
   "metadata": {},
   "outputs": [
    {
     "name": "stdout",
     "output_type": "stream",
     "text": [
      "if pen is avalable in shop ravi will buy the pen\n"
     ]
    }
   ],
   "source": [
    "# 53 Ravi would like to buy a new cello or red pen. The cost of the pen should be 10.\n",
    "# If the pen is available in the shop, he will buy the pen. If it is not there he will\n",
    "# come out of the shop.\n",
    "penavailable = True\n",
    "\n",
    "if penavailable:\n",
    "   pencost=10\n",
    "   print(\"if pen is avalable in shop ravi will buy the pen\")\n",
    "else:\n",
    "   print(\"if it is not there ravi will come out of the shop\")"
   ]
  },
  {
   "cell_type": "code",
   "execution_count": 64,
   "metadata": {},
   "outputs": [
    {
     "name": "stdout",
     "output_type": "stream",
     "text": [
      "-37\n"
     ]
    }
   ],
   "source": [
    "# 54 WAP to perform addition and subtraction operation by using list collection if the\n",
    "# first and middle data items number are even performing addition operation, or\n",
    "# else performing subtraction.\n",
    "n=[10,29,47,6,77]\n",
    "if n[0]%2==0 and n[len(n)//2]%2==0:\n",
    "       b=n[0]+n[len(n)//2]\n",
    "       print(b)\n",
    "else:\n",
    "       b=n[0]-n[len(n)//2]\n",
    "       print(b)"
   ]
  },
  {
   "cell_type": "code",
   "execution_count": 65,
   "metadata": {},
   "outputs": [
    {
     "name": "stdout",
     "output_type": "stream",
     "text": [
      "[4, 5, 7, 8, 90, 10, 2, 3, 4, 5]\n"
     ]
    }
   ],
   "source": [
    "# 55 WAP to check whether the first item of these two lists is either integer or not.\n",
    "# If it is an integer, concatenate these two lists or else print the memory\n",
    "# address of these two lists\n",
    "n=[10,2,3,4,5]\n",
    "m=[4,5,7,8,90]\n",
    "if type(n[0])==int and type(m[0])==int:\n",
    "    b=m+n\n",
    "    print(b)\n",
    "else:\n",
    "    print(id(n),id(m))"
   ]
  },
  {
   "cell_type": "code",
   "execution_count": 66,
   "metadata": {},
   "outputs": [
    {
     "name": "stdout",
     "output_type": "stream",
     "text": [
      "b'10101'b'1010'\n"
     ]
    }
   ],
   "source": [
    "# wap  to check given two value are same collection or not if it is same collection to check it is a list or not ,if it is a list to concat both the collection without change the first collection address , if given collection is a dict to modify the first dictionary  by the help of second dictionary with out change the first dictionary address, if both the collection are not same to concat both the collection if in case both the values are numbers to perform multipication . if any of one value is boolean or none to perform that both values are converted into string and displays the both the values, if both the values are complex to extract only imaginary values that output should be complex  if both of values is bytes to display the ascii values without using ord or else invalid value.\n",
    "n=b'1010'\n",
    "m=b'10101'\n",
    "if type(m)==type(n):\n",
    "    if type(n)==list and type(m)==list:\n",
    "        m+=n\n",
    "        print(m)\n",
    "    elif type(n)==dict and type(m)==dict:\n",
    "         n['a']={m}\n",
    "         id(n)\n",
    "         print(n)\n",
    "         id(n)\n",
    "    else: \n",
    "        type(m)!=type(n)\n",
    "        k=str(m)\n",
    "        l=str(n)\n",
    "        k+=l\n",
    "        print(k)\n",
    "else:\n",
    "    # if type(n) in [int, float,complex,bytes] and  type(m) in [int,  float, complex,bytes]:\n",
    "    #     print( n*m)\n",
    "    if type(n)==bool and type(m)==bool or type(n)  ==type(None) and type(n)== type(None):\n",
    "        k=str(n)\n",
    "        j=str(m)\n",
    "        y=k+\"\"+j\n",
    "        print(type(y),y)\n",
    "        \n",
    "    elif type(n)==complex and type(m) ==complex:  \n",
    "        k=n.imag\n",
    "        l=m.imag\n",
    "        print(k,l)\n",
    "\n",
    "    elif type(n)==bytes and type(m)==bytes:\n",
    "         n=list(n)\n",
    "         m=list(m)\n",
    "         print(n,m)\n",
    "    \n",
    "\n",
    "\n",
    "\n",
    "\n",
    "          \n",
    "    \n",
    "         \n",
    "    "
   ]
  },
  {
   "cell_type": "code",
   "execution_count": 67,
   "metadata": {},
   "outputs": [],
   "source": [
    "# WAP TO CHECK whether a given character is alphabet ot not , if alphabet to check the given alphabet character is uppercase r not , if uppercase, to check vowel or not , if vowel to display the next character of given chaeacter, if lowercase, to convert to uppercase and display the character ,or else the given character is not an alphate  "
   ]
  },
  {
   "cell_type": "code",
   "execution_count": 11,
   "metadata": {},
   "outputs": [
    {
     "name": "stdout",
     "output_type": "stream",
     "text": [
      "0\n"
     ]
    }
   ],
   "source": [
    "n=5\n",
    "m=1\n",
    "while m<=n:\n",
    "        prod*=m\n",
    "        m+=1\n",
    "n=n//10\n",
    "print(n)"
   ]
  },
  {
   "cell_type": "code",
   "execution_count": 70,
   "metadata": {},
   "outputs": [
    {
     "name": "stdout",
     "output_type": "stream",
     "text": [
      "1\n",
      "4\n",
      "5\n",
      "6\n",
      "8\n"
     ]
    }
   ],
   "source": [
    "# fetch the each digit from using type casting \n",
    "n=14568\n",
    "n=str(n)\n",
    "i=0\n",
    "while i<len(n):\n",
    "     print(n[i])\n",
    "     i+=1"
   ]
  },
  {
   "cell_type": "code",
   "execution_count": 73,
   "metadata": {},
   "outputs": [
    {
     "name": "stdout",
     "output_type": "stream",
     "text": [
      "8\n",
      "6\n",
      "5\n",
      "4\n",
      "1\n"
     ]
    }
   ],
   "source": [
    "# fetch the rach digit from right to left\n",
    "n=14568\n",
    "n=str(n)\n",
    "i=-1\n",
    "while i>-(len(n)+1):\n",
    "     print(n[i])\n",
    "     i-=1"
   ]
  },
  {
   "cell_type": "code",
   "execution_count": null,
   "metadata": {},
   "outputs": [],
   "source": [
    "# "
   ]
  }
 ],
 "metadata": {
  "kernelspec": {
   "display_name": "Python 3",
   "language": "python",
   "name": "python3"
  },
  "language_info": {
   "codemirror_mode": {
    "name": "ipython",
    "version": 3
   },
   "file_extension": ".py",
   "mimetype": "text/x-python",
   "name": "python",
   "nbconvert_exporter": "python",
   "pygments_lexer": "ipython3",
   "version": "3.10.5"
  },
  "orig_nbformat": 4
 },
 "nbformat": 4,
 "nbformat_minor": 2
}
