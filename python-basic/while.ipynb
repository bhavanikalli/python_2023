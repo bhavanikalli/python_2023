{
 "cells": [
  {
   "cell_type": "code",
   "execution_count": 1,
   "metadata": {},
   "outputs": [
    {
     "name": "stdout",
     "output_type": "stream",
     "text": [
      "1\n",
      "4\n",
      "5\n",
      "6\n",
      "8\n"
     ]
    }
   ],
   "source": [
    "# fetch the each digit from using type casting \n",
    "n=14568\n",
    "n=str(n)\n",
    "i=0\n",
    "while i<len(n):\n",
    "     print(n[i])\n",
    "     i+=1"
   ]
  },
  {
   "cell_type": "code",
   "execution_count": 2,
   "metadata": {},
   "outputs": [
    {
     "name": "stdout",
     "output_type": "stream",
     "text": [
      "8\n",
      "6\n",
      "5\n",
      "4\n",
      "1\n"
     ]
    }
   ],
   "source": [
    "# fetch the rach digit from right to left\n",
    "n=14568\n",
    "n=str(n)\n",
    "i=-1\n",
    "while i>-(len(n)+1):\n",
    "     print(n[i])\n",
    "     i-=1"
   ]
  },
  {
   "cell_type": "code",
   "execution_count": 6,
   "metadata": {},
   "outputs": [
    {
     "name": "stdout",
     "output_type": "stream",
     "text": [
      "9\n"
     ]
    }
   ],
   "source": [
    "# wap to find out largest digit in given number\n",
    "n=146263928\n",
    "i=0\n",
    "while n:\n",
    "    m=n%10\n",
    "    if i<m:\n",
    "        i=m\n",
    "    n=n//10  \n",
    "print(i)      \n",
    "        \n"
   ]
  },
  {
   "cell_type": "code",
   "execution_count": 9,
   "metadata": {},
   "outputs": [
    {
     "name": "stdout",
     "output_type": "stream",
     "text": [
      "1\n"
     ]
    }
   ],
   "source": [
    "# wap to find out the smallest digit in given number\n",
    "n=63193698\n",
    "i=9\n",
    "while n:\n",
    "    m=n%10\n",
    "    if i>m:\n",
    "        i=m\n",
    "    n=n//10\n",
    "print(i)"
   ]
  },
  {
   "cell_type": "code",
   "execution_count": 15,
   "metadata": {},
   "outputs": [
    {
     "name": "stdout",
     "output_type": "stream",
     "text": [
      "8\n"
     ]
    }
   ],
   "source": [
    "# wap to findout the even largest digit in given number\n",
    "n=4769757855\n",
    "i=0\n",
    "while n:\n",
    "    m=n%10\n",
    "    if i<m and m%2==0:\n",
    "        i=m\n",
    "    n=n//10\n",
    "print(i)    \n"
   ]
  },
  {
   "cell_type": "code",
   "execution_count": 18,
   "metadata": {},
   "outputs": [
    {
     "name": "stdout",
     "output_type": "stream",
     "text": [
      "28\n"
     ]
    }
   ],
   "source": [
    "# wap sum of all the digit given number\n",
    "n=637408\n",
    "i=0\n",
    "while n:\n",
    "    m=n%10\n",
    "    i=i+m\n",
    "    n=n//10\n",
    "print(i)\n",
    "\n"
   ]
  },
  {
   "cell_type": "code",
   "execution_count": 8,
   "metadata": {},
   "outputs": [
    {
     "name": "stdout",
     "output_type": "stream",
     "text": [
      "-1\n"
     ]
    }
   ],
   "source": [
    "# wap to find out the difference value from given number \n",
    "n=1594128\n",
    "i=n%10\n",
    "while n:\n",
    "    m=n%10\n",
    "    i=-m \n",
    "    n=n//10\n",
    "print(i)\n"
   ]
  },
  {
   "cell_type": "code",
   "execution_count": 7,
   "metadata": {},
   "outputs": [
    {
     "name": "stdout",
     "output_type": "stream",
     "text": [
      "bhavani\n"
     ]
    },
    {
     "ename": "TypeError",
     "evalue": "can only concatenate str (not \"int\") to str",
     "output_type": "error",
     "traceback": [
      "\u001b[1;31m---------------------------------------------------------------------------\u001b[0m",
      "\u001b[1;31mTypeError\u001b[0m                                 Traceback (most recent call last)",
      "Cell \u001b[1;32mIn[7], line 8\u001b[0m\n\u001b[0;32m      6\u001b[0m \u001b[39mwhile\u001b[39;00m start\u001b[39m<\u001b[39m\u001b[39m=\u001b[39m\u001b[39mlen\u001b[39m(st):\n\u001b[0;32m      7\u001b[0m     \u001b[39mprint\u001b[39m(st)\n\u001b[1;32m----> 8\u001b[0m     st\u001b[39m+\u001b[39m\u001b[39m=\u001b[39m\u001b[39m1\u001b[39m\n",
      "\u001b[1;31mTypeError\u001b[0m: can only concatenate str (not \"int\") to str"
     ]
    }
   ],
   "source": [
    "#59 wap to print all the items present in the string between the range from m to n\n",
    "m='a'\n",
    "n=\"z\"\n",
    "start=0\n",
    "st=\"bhavani\"\n",
    "while start<=len(st):\n",
    "    print(st)\n",
    "    st+=1\n"
   ]
  },
  {
   "cell_type": "code",
   "execution_count": 9,
   "metadata": {},
   "outputs": [
    {
     "name": "stdout",
     "output_type": "stream",
     "text": [
      "HFTIM\n"
     ]
    }
   ],
   "source": [
    "#60 wap to print the uppercase character in a given string\n",
    "st=\"bhaHFTIMan\"\n",
    "start=0\n",
    "res=\"\"\n",
    "while start<len(st):\n",
    "    if 'A'<=st[start]<='Z':\n",
    "        res+=st[start]\n",
    "    start+=1\n",
    "print(res)\n"
   ]
  },
  {
   "cell_type": "code",
   "execution_count": 10,
   "metadata": {},
   "outputs": [
    {
     "name": "stdout",
     "output_type": "stream",
     "text": [
      "bhaan\n"
     ]
    }
   ],
   "source": [
    "#61wap to print the lowercase character in a given string\n",
    "t=\"bhaHFTIMan\"\n",
    "start=0\n",
    "res=\"\"\n",
    "while start<len(st):\n",
    "    if 'a'<=st[start]<='z':\n",
    "        res+=st[start]\n",
    "    start+=1\n",
    "print(res)"
   ]
  },
  {
   "cell_type": "code",
   "execution_count": 18,
   "metadata": {},
   "outputs": [
    {
     "name": "stdout",
     "output_type": "stream",
     "text": [
      "42085\n"
     ]
    }
   ],
   "source": [
    "#62wap to print the ascii number(digit)character in a given string \n",
    "st=\"bhaHFTI42085n\"\n",
    "start=0\n",
    "res=\"\"\n",
    "while start<len(st):\n",
    "    if '0'<=st[start]<='9':\n",
    "        res+=st[start]\n",
    "    start+=1\n",
    "print(res)"
   ]
  },
  {
   "cell_type": "code",
   "execution_count": 19,
   "metadata": {},
   "outputs": [
    {
     "name": "stdout",
     "output_type": "stream",
     "text": [
      "@#$$%^^&&&*\n"
     ]
    }
   ],
   "source": [
    "# 63wap to print the special character in a given string \n",
    "st=\"bhaHFTI42085n@#$$%^^&&&*\"\n",
    "start=0\n",
    "res=\"\"\n",
    "while start<len(st):\n",
    "    if not('0'<=st[start]<='9'or 'a'<=st[start]<='z'or'A'<=st[start]<='Z'):\n",
    "        res+=st[start]\n",
    "    start+=1\n",
    "print(res)"
   ]
  },
  {
   "cell_type": "code",
   "execution_count": 24,
   "metadata": {},
   "outputs": [
    {
     "name": "stdout",
     "output_type": "stream",
     "text": [
      "aIieoe\n"
     ]
    }
   ],
   "source": [
    "# 64 wap to print the vowels in the given string\n",
    "st=\"bhaHFTI42085n@#$$%^^&&&*bfdfhqijepokemd\"\n",
    "start=0\n",
    "res=\"\"\n",
    "m=\"aeiouAEIOU\"\n",
    "while start<len(st):\n",
    "    if  st[start]in m:\n",
    "        res+=st[start]\n",
    "    start+=1\n",
    "print(res)"
   ]
  },
  {
   "cell_type": "code",
   "execution_count": 29,
   "metadata": {},
   "outputs": [
    {
     "name": "stdout",
     "output_type": "stream",
     "text": [
      "bhbfdfhqjpkmd\n"
     ]
    }
   ],
   "source": [
    "# 65 wap to print the consonants in the given string\n",
    "st=\"bhabfdfhqijepokemd\"\n",
    "start=0\n",
    "res=\"\"\n",
    "m=(\"aeiouAEIOU\")\n",
    "while start<len(st):\n",
    "    if  st[start]not in (m):\n",
    "        res+=st[start]\n",
    "    start+=1\n",
    "print(res)"
   ]
  },
  {
   "cell_type": "code",
   "execution_count": null,
   "metadata": {},
   "outputs": [],
   "source": [
    "# 66 "
   ]
  }
 ],
 "metadata": {
  "kernelspec": {
   "display_name": "Python 3",
   "language": "python",
   "name": "python3"
  },
  "language_info": {
   "codemirror_mode": {
    "name": "ipython",
    "version": 3
   },
   "file_extension": ".py",
   "mimetype": "text/x-python",
   "name": "python",
   "nbconvert_exporter": "python",
   "pygments_lexer": "ipython3",
   "version": "3.10.5"
  },
  "orig_nbformat": 4
 },
 "nbformat": 4,
 "nbformat_minor": 2
}
