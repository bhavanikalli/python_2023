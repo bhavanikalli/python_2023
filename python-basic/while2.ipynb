{
 "cells": [
  {
   "cell_type": "code",
   "execution_count": null,
   "metadata": {},
   "outputs": [],
   "source": [
    "m=1\n",
    "n=100000\n",
    "te =n\n",
    "\n",
    "while m<=n:\n",
    "    count=0\n",
    "    temp=te\n",
    "    while temp:\n",
    "        count+=1\n",
    "        temp=temp//10\n",
    "    x=n\n",
    "    sum=0\n",
    "    while x:\n",
    "        ld=x % 10\n",
    "        sum+=ld**count\n",
    "        x=x//10\n",
    "    if sum==m:\n",
    "        print(m)\n",
    "    m+=1\n",
    "    \n"
   ]
  },
  {
   "cell_type": "code",
   "execution_count": null,
   "metadata": {},
   "outputs": [],
   "source": [
    "strat=1\n",
    "end=10000\n",
    "\n",
    "while strat<=end:\n",
    "    n=strat\n",
    "    temp=n\n",
    "    sum=0\n",
    "    prod=1\n",
    "    while n:\n",
    "        ld=n%10\n",
    "        sum+=ld\n",
    "        prod*=ld\n",
    "        n=n//10\n",
    "    if sum==prod:\n",
    "      print(temp)\n",
    "    strat+=1\n"
   ]
  },
  {
   "cell_type": "code",
   "execution_count": null,
   "metadata": {},
   "outputs": [],
   "source": [
    "m=1 \n",
    "n=10\n",
    "while m<=n:\n",
    "    te=m\n",
    "    rev=0\n",
    "    temp=te\n",
    "    \n",
    "    while te:\n",
    "        ld=te%10\n",
    "        rev=(rev*10)+ld\n",
    "        te=te//10\n",
    "    if rev==temp:\n",
    "     print(m)\n",
    "    m+=1"
   ]
  },
  {
   "cell_type": "code",
   "execution_count": null,
   "metadata": {},
   "outputs": [],
   "source": [
    "n=1998\n",
    "while n>9:\n",
    "    sum=0\n",
    "    remp=n\n",
    "    while n:\n",
    "        ld=n%10\n",
    "        sum+=ld\n",
    "        n=n//10\n",
    "    print(sum)\n",
    "    n=sum\n",
    "\n"
   ]
  },
  {
   "cell_type": "code",
   "execution_count": null,
   "metadata": {},
   "outputs": [],
   "source": [
    "n=5465869880\n",
    "t=n\n",
    "count=0\n",
    "while n:\n",
    "    count+=1\n",
    "    n=n//10\n",
    "print(count)\n",
    "count=count//2\n",
    "while count:\n",
    "        t=t//10\n",
    "        count-=1\n",
    "ld=t%10\n",
    "print(ld)"
   ]
  },
  {
   "cell_type": "code",
   "execution_count": null,
   "metadata": {},
   "outputs": [],
   "source": [
    "num=1594128\n",
    "res=num%10\n",
    "while num%10:\n",
    "    m=num%10\n",
    "    res-=m\n",
    "    num=num//10\n",
    "print(res)\n"
   ]
  },
  {
   "cell_type": "code",
   "execution_count": null,
   "metadata": {},
   "outputs": [],
   "source": [
    "m=1 \n",
    "n=143\n",
    "count=0\n",
    "while m<=n:\n",
    "    if n%m==0:\n",
    "      count+=1\n",
    "      m+=1\n",
    "print(count)\n",
    "if count==2:\n",
    "  print(\"prime num\")\n",
    "else:\n",
    "   print(\"not prime num\")"
   ]
  },
  {
   "cell_type": "code",
   "execution_count": null,
   "metadata": {},
   "outputs": [],
   "source": [
    "n=121\n",
    "temp=n\n",
    "rev=0\n",
    "while n:\n",
    "    ld=n%10\n",
    "    rev=(rev*10)+ld\n",
    "    n=n//10\n",
    "print(rev)\n",
    "if rev==temp:\n",
    "    print(\"panidrom\")\n",
    "else:\n",
    "    print(\"not\")"
   ]
  },
  {
   "cell_type": "code",
   "execution_count": null,
   "metadata": {},
   "outputs": [],
   "source": [
    "#1 wap to print the \"helloworld\" for 5 times by using a while loop.\n",
    "n=5\n",
    "i=0\n",
    "while i<n:\n",
    "    print(\"hello world\")\n",
    "    i+=1"
   ]
  },
  {
   "cell_type": "code",
   "execution_count": null,
   "metadata": {},
   "outputs": [],
   "source": [
    "# 2 wap to print the number from 1 to 10 by using a while loop\n",
    "n=10\n",
    "i=0\n",
    "while i<=n:\n",
    "     print(i)\n",
    "     i+=1"
   ]
  },
  {
   "cell_type": "code",
   "execution_count": null,
   "metadata": {},
   "outputs": [],
   "source": [
    "# 3 wap to print the natural number until 1 to nth times by using a while loop.\n",
    "n=17\n",
    "m=1\n",
    "while m<=n:\n",
    "    print(m)\n",
    "    m+=1   "
   ]
  },
  {
   "cell_type": "code",
   "execution_count": null,
   "metadata": {},
   "outputs": [],
   "source": [
    "# 4 wap to print the reverse of the natural number nth to 0 times by using while loop.\n",
    "m=0\n",
    "n=int(input()) \n",
    "while n>=m:\n",
    "    print(n)\n",
    "    n-=1\n",
    "    \n"
   ]
  },
  {
   "cell_type": "code",
   "execution_count": null,
   "metadata": {},
   "outputs": [],
   "source": [
    "# 5 wap to print the whole number until nth times  by using while loop.\n",
    "n=int(input())\n",
    "i=0\n",
    "while i<=n:\n",
    "    print(i)\n",
    "    i+=1\n",
    "    \n",
    "    \n",
    "    \n",
    " "
   ]
  },
  {
   "cell_type": "code",
   "execution_count": null,
   "metadata": {},
   "outputs": [],
   "source": [
    "#6wap to print the  reverse of the whole number until nth times  by using while loop.\n",
    "n=int(input())\n",
    "i=0\n",
    "while n>=i:\n",
    "    print(n)\n",
    "    n-=1"
   ]
  },
  {
   "cell_type": "code",
   "execution_count": null,
   "metadata": {},
   "outputs": [],
   "source": [
    "#7 wap to print the  even number until nth times  by using while loop.\n",
    "n=int(input())\n",
    "i=0\n",
    "while i<=n:\n",
    "    if i%2==0:\n",
    "      print(i)\n",
    "    i+=1\n",
    "      "
   ]
  },
  {
   "cell_type": "code",
   "execution_count": null,
   "metadata": {},
   "outputs": [],
   "source": [
    "#8wap to print the reverse even number until nth times  by using while loop.\n",
    "n=int(input())\n",
    "i=0\n",
    "while n>=i:\n",
    "    if n%2==0:\n",
    "        print(n)\n",
    "    n-=1\n",
    " "
   ]
  },
  {
   "cell_type": "code",
   "execution_count": null,
   "metadata": {},
   "outputs": [],
   "source": [
    "#9wap to print the odd number until nth times  by using while loop.\n",
    "i=0\n",
    "n=int(input())\n",
    "while i<=n:\n",
    "     if i%2!=0:\n",
    "         print(i)\n",
    "     i+=1    \n",
    "        "
   ]
  },
  {
   "cell_type": "code",
   "execution_count": null,
   "metadata": {},
   "outputs": [],
   "source": [
    "# 10wap to print the  reverse odd number until nth times  by using while loop.\n",
    "n=int(input())\n",
    "i=0\n",
    "while n>=i:\n",
    "    if n%2!=0:\n",
    "        print(n)\n",
    "    n-=1"
   ]
  },
  {
   "cell_type": "code",
   "execution_count": null,
   "metadata": {},
   "outputs": [],
   "source": [
    "# 11 wap to print the nth table 1 to 20 , format 5*1=5....5*20=100\n",
    "i=1\n",
    "n=int(input())\n",
    "while i<=20:\n",
    "       res=n*i\n",
    "       print(res)\n",
    "       i+=1\n"
   ]
  },
  {
   "cell_type": "code",
   "execution_count": null,
   "metadata": {},
   "outputs": [],
   "source": [
    "# 12 wap to print the nth table 20 to 1 , format 5*1=5....5*20=100\n",
    "i=1\n",
    "n=int(input())\n",
    "while i<=20 :\n",
    "       res=n*i\n",
    "       print(res)\n",
    "       i+=1\n"
   ]
  },
  {
   "cell_type": "code",
   "execution_count": null,
   "metadata": {},
   "outputs": [],
   "source": [
    "# 13 wap to print the numbers which are divisible by 3 from 25 to 66.\n",
    "n=25\n",
    "while 25<=n<=66 :\n",
    "    if n%3==0:\n",
    "        print(n)\n",
    "    n+=1\n",
    "\n"
   ]
  },
  {
   "cell_type": "code",
   "execution_count": null,
   "metadata": {},
   "outputs": [],
   "source": [
    "# 14 wap to print the numbers which are divisible by 3 and 5 from 15 to 76\n",
    "n=15\n",
    "while 15<=n<=76:\n",
    "    if n%3==0 and n%5==0:\n",
    "        print(n)\n",
    "    n+=1\n"
   ]
  },
  {
   "cell_type": "code",
   "execution_count": null,
   "metadata": {},
   "outputs": [],
   "source": [
    "# 15 wap to print the numbers which are divisiable by 5 and 7 from 77 to 22\n",
    "n=22\n",
    "while 22<=n<=77:\n",
    "    if n%5==0 and n%7==0:\n",
    "        print(n)\n",
    "    n+=1"
   ]
  },
  {
   "cell_type": "code",
   "execution_count": null,
   "metadata": {},
   "outputs": [],
   "source": [
    "# 16 wap to print the \"i love you\" if value is divisible by 3, or print \"hate you \"value is divisible by 5 , to print \"i like you \" if divisible by 3 and 5 , from 1 to 30.\n",
    "n=3\n",
    "while 1<=n<=30:\n",
    "    if n%3==0:\n",
    "        print(\"i love you\")\n",
    "    elif n%5==0:\n",
    "        print(\"hate you\")\n",
    "    elif n%3==0 and  n%5==0:\n",
    "        print(\"i like you\")\n",
    "    else:\n",
    "        print(\"\")\n",
    "    n+=1\n",
    "    \n",
    "    \n",
    "        \n"
   ]
  },
  {
   "cell_type": "code",
   "execution_count": null,
   "metadata": {},
   "outputs": [],
   "source": [
    "# 17 wap to print sum of the 1 to nth natural number\n"
   ]
  },
  {
   "cell_type": "code",
   "execution_count": null,
   "metadata": {},
   "outputs": [],
   "source": [
    "st=\"haii hello world i love india i  like python\"\n",
    "i=0\n",
    "sp='/n'\n",
    "res=\"\"\n",
    "l=[]\n",
    "while i<=len(st):\n",
    "    if st[i]!=sp:\n",
    "        res+=st[i]\n",
    "    else:\n",
    "        if len[res]!=0:\n",
    "            l+=[res]\n",
    "            res=\"\"\n",
    "    i+=1\n",
    "if len(res)!=0:\n",
    "    l+=[res]\n",
    "print(l)\n",
    "            \n",
    "           \n"
   ]
  },
  {
   "cell_type": "code",
   "execution_count": 8,
   "metadata": {},
   "outputs": [
    {
     "name": "stdout",
     "output_type": "stream",
     "text": [
      "[' hai hello world i love  india i like python ']\n",
      " \n",
      "[[' hai hello world i love  india i like python ']]\n"
     ]
    }
   ],
   "source": [
    "st=' hai hello world i love  india i like python '\n",
    "i=0\n",
    "sp=''\n",
    "l=[]\n",
    "res=''\n",
    "while i<len(st):\n",
    "    if st[i]!=sp:\n",
    "        res+=st[i]\n",
    "    else:\n",
    "        if len(res)!=0:\n",
    "            l+=[res]\n",
    "            res=''\n",
    "            \n",
    "    i+=1\n",
    "if len(res)!=0:\n",
    "    l+=[res]\n",
    "print(l)\n",
    "uni=\"\"\n",
    "j=0\n",
    "\n",
    "while j<len(l):\n",
    "    \n",
    "    if l[j][0]not in uni:\n",
    "        uni+=l[j][0] \n",
    "    j+=1\n",
    "print(uni)\n",
    "d=[]\n",
    "k=0\n",
    "while k<len(uni):\n",
    "    d+=[[]]\n",
    "    x=0\n",
    "    while x<len(l):\n",
    "        if uni[k]==l[x][0]:\n",
    "            d[-1]+=[l[x]]\n",
    "        x+=1\n",
    "    k+=1\n",
    "print(d)"
   ]
  },
  {
   "cell_type": "code",
   "execution_count": 11,
   "metadata": {},
   "outputs": [
    {
     "name": "stdout",
     "output_type": "stream",
     "text": [
      "[' hai hello world i love  india i like python ']\n",
      " \n",
      "[[' hai hello world i love  india i like python ']]\n"
     ]
    }
   ],
   "source": [
    "st=' hai hello world i love  india i like python '\n",
    "i=0\n",
    "sp=''\n",
    "l=[]\n",
    "res=''\n",
    "while i<len(st):\n",
    "    if st[i]!=sp:\n",
    "        res+=st[i]\n",
    "    else:\n",
    "        if len(res)!=0:\n",
    "            l+=[res]\n",
    "            res=''\n",
    "            \n",
    "    i+=1\n",
    "if len(res)!=0:\n",
    "    l+=[res]\n",
    "print(l)\n",
    "uni=\"\"\n",
    "j=0\n",
    "\n",
    "while j<len(l):\n",
    "    \n",
    "    if l[j][0]not in uni:\n",
    "        uni+=l[j][0] \n",
    "    j+=1\n",
    "print(uni)\n",
    "d=[]\n",
    "k=0\n",
    "while k<len(uni):\n",
    "    d+=[[]]\n",
    "    x=0\n",
    "    while x<len(l):\n",
    "        if uni[k]==l[x][0]:\n",
    "            d[-1]+=[l[x]]\n",
    "        x+=1\n",
    "    k+=1\n",
    "print(d)"
   ]
  },
  {
   "cell_type": "code",
   "execution_count": 37,
   "metadata": {},
   "outputs": [
    {
     "name": "stdout",
     "output_type": "stream",
     "text": [
      "['     hai hello world i love  india i like python', '  fuyjghj cghtgkj duytgilh ', '  fuyjggfxc']\n"
     ]
    }
   ],
   "source": [
    "st='     hai hello world i love  india i like python\\n fuyjghj cghtgkj duytgilh \\n fuyjggfxc'\n",
    "i=0\n",
    "sp='\\n'\n",
    "l=[]\n",
    "res=''\n",
    "while i<len(st):\n",
    "    if st[i]!=sp:\n",
    "        res+=st[i]\n",
    "    else:\n",
    "        if len(res)!=0:\n",
    "            l+=[res]\n",
    "            res=' '\n",
    "            \n",
    "    i+=1\n",
    "if len(res)!=0:\n",
    "    l+=[res]\n",
    "print(l)"
   ]
  },
  {
   "cell_type": "code",
   "execution_count": 30,
   "metadata": {},
   "outputs": [
    {
     "name": "stdout",
     "output_type": "stream",
     "text": [
      "['HELLO', 'WORLD', 'HAI', '123', '^%&']\n"
     ]
    }
   ],
   "source": [
    "st='HELLO WORLD HAI 123 ^%&  '\n",
    "L=[[''],[]] [st[0]==' ']\n",
    "i=0\n",
    "while i<len(st):\n",
    "    if st[i]!=' ':\n",
    "      L[-1]+=st[i]\n",
    "    else:\n",
    "        if len(st)-1!=i and st[i+1]!=' ':\n",
    "            L+=['']\n",
    "    i+=1\n",
    "print(L)"
   ]
  },
  {
   "cell_type": "code",
   "execution_count": 17,
   "metadata": {},
   "outputs": [
    {
     "name": "stdout",
     "output_type": "stream",
     "text": [
      "['HELLO', 'WORLD', 'HAI', '123', '^%&']\n"
     ]
    }
   ],
   "source": [
    "st='  HELLO WORLD HAI 123   ^%& '\n",
    "i=0\n",
    "sp=' '\n",
    "l=[]\n",
    "res=''\n",
    "while i<len(st):\n",
    "    if st[i]!=sp:\n",
    "        res+=st[i]\n",
    "    else:\n",
    "        if len(res)!=0:\n",
    "            l+=[res]\n",
    "            res=''\n",
    "            \n",
    "    i+=1\n",
    "if len(res)!=0:\n",
    "    l+=[res]\n",
    "print(l)"
   ]
  },
  {
   "cell_type": "code",
   "execution_count": null,
   "metadata": {},
   "outputs": [],
   "source": []
  }
 ],
 "metadata": {
  "kernelspec": {
   "display_name": "Python 3",
   "language": "python",
   "name": "python3"
  },
  "language_info": {
   "codemirror_mode": {
    "name": "ipython",
    "version": 3
   },
   "file_extension": ".py",
   "mimetype": "text/x-python",
   "name": "python",
   "nbconvert_exporter": "python",
   "pygments_lexer": "ipython3",
   "version": "3.11.5"
  },
  "orig_nbformat": 4
 },
 "nbformat": 4,
 "nbformat_minor": 2
}
