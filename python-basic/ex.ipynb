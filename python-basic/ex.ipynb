{
 "cells": [
  {
   "cell_type": "code",
   "execution_count": 34,
   "metadata": {},
   "outputs": [
    {
     "name": "stdout",
     "output_type": "stream",
     "text": [
      "kcda\n"
     ]
    }
   ],
   "source": [
    "# wap of a given string  where first and last character of agiven string are in sequence or not if there are in sequence print the length of the string else there are not in sequence swap the first and last characterin string.\n",
    "n='acdb'\n",
    "if ord(n[0])+1== ord(n[-1]):\n",
    "    m=len(n)\n",
    "    print(m)\n",
    "else:\n",
    "    m=n[-1]+n[1:3]+n[0]\n",
    "    print(m)\n",
    "      "
   ]
  },
  {
   "cell_type": "code",
   "execution_count": 17,
   "metadata": {},
   "outputs": [
    {
     "name": "stdout",
     "output_type": "stream",
     "text": [
      "haiiihaiii\n"
     ]
    }
   ],
   "source": [
    "# p to check whether both string collections are equal or not if not equal print both strings along with length of the strings\n",
    "# if there are equal concat both the strings  \n",
    "\n",
    "n=\"haiii\"\n",
    "m=\"haiii\"\n",
    "if n==m:\n",
    "    k=n+m\n",
    "    print(k)\n",
    "else:  \n",
    "    print(len(n),n)\n",
    "    print(len(m),m)\n",
    "    \n",
    "\n"
   ]
  },
  {
   "cell_type": "code",
   "execution_count": 23,
   "metadata": {},
   "outputs": [
    {
     "name": "stdout",
     "output_type": "stream",
     "text": [
      "['10', 20, 30, '10', 70, 59]\n"
     ]
    }
   ],
   "source": [
    "# program to check whether first item of the  two list  either integer  or not if there are integer modify the integer in string value and concate the two list else print the memory address of the two list \n",
    "n=[10,20,30]\n",
    "m=[10,70,59]\n",
    "if type(n[0])== int and type(m[0])==int:\n",
    "    n[0]=str(n[0])\n",
    "    m[0]=str(m[0])\n",
    "    k=n+m\n",
    "    print(k)\n",
    "else:\n",
    "    print(id(n))\n",
    "    print(id(m))\n",
    "    "
   ]
  },
  {
   "cell_type": "code",
   "execution_count": 1,
   "metadata": {},
   "outputs": [
    {
     "name": "stdout",
     "output_type": "stream",
     "text": [
      "\u0002\n"
     ]
    }
   ],
   "source": [
    "#  check whether the given value is ascii value or not if it is ascii value print the ascii character else if it is not ascii value find even or not \n",
    "# if it is even print good morning and it is odd  bye bye q spiders\n",
    "n=2\n",
    "if 0<=n<=9 or 'a'<=n<='z'or 'A'<=n<='Z':\n",
    "    m=chr(n)\n",
    "    print(m)\n",
    "elif n%2==0 :\n",
    "    print(\"hii hii q spider\")\n",
    "else:\n",
    "    print(\"byebye qspiders\")\n",
    "\n"
   ]
  }
 ],
 "metadata": {
  "kernelspec": {
   "display_name": "Python 3",
   "language": "python",
   "name": "python3"
  },
  "language_info": {
   "codemirror_mode": {
    "name": "ipython",
    "version": 3
   },
   "file_extension": ".py",
   "mimetype": "text/x-python",
   "name": "python",
   "nbconvert_exporter": "python",
   "pygments_lexer": "ipython3",
   "version": "3.10.5"
  },
  "orig_nbformat": 4
 },
 "nbformat": 4,
 "nbformat_minor": 2
}
