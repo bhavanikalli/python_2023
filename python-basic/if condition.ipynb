{
 "cells": [
  {
   "cell_type": "code",
   "execution_count": 12,
   "metadata": {},
   "outputs": [
    {
     "name": "stdout",
     "output_type": "stream",
     "text": [
      "given value is positive\n"
     ]
    }
   ],
   "source": [
    "# 1wap to check whether given value is positive or not\n",
    "n=10\n",
    "if 0<=n:\n",
    "    print(\"given value is positive\")"
   ]
  },
  {
   "cell_type": "code",
   "execution_count": 13,
   "metadata": {},
   "outputs": [
    {
     "name": "stdout",
     "output_type": "stream",
     "text": [
      "given value is even 16\n"
     ]
    }
   ],
   "source": [
    "# 2 wap to check whether given value is even or not\n",
    "# if even to display given value is even value with given value\n",
    "n=16\n",
    "if n%2==0:\n",
    "    print(\"given value is even\",n)\n"
   ]
  },
  {
   "cell_type": "code",
   "execution_count": 14,
   "metadata": {},
   "outputs": [
    {
     "name": "stdout",
     "output_type": "stream",
     "text": [
      " 19 is a odd number\n"
     ]
    }
   ],
   "source": [
    "# 3 wap to check whether given value is odd  or not\n",
    "# if odd to display given value is odd value with given value\n",
    "n=19\n",
    "if n%2!=0:\n",
    "    print(f\" {n} is a odd number\")"
   ]
  },
  {
   "cell_type": "code",
   "execution_count": 16,
   "metadata": {},
   "outputs": [
    {
     "name": "stdout",
     "output_type": "stream",
     "text": [
      "greatest\n"
     ]
    }
   ],
   "source": [
    "# 4 write a program to check whether the last digit of the given number is greater than 5 or not \n",
    "# if condition is satisfied to display greatest\n",
    "n=158\n",
    "if (n%10)>5:\n",
    "    print(\"greatest\")"
   ]
  },
  {
   "cell_type": "code",
   "execution_count": 17,
   "metadata": {},
   "outputs": [
    {
     "name": "stdout",
     "output_type": "stream",
     "text": [
      "(36+0j)\n"
     ]
    }
   ],
   "source": [
    "# 5 wap to check wherther the given value is divisible by 2 and 6 ,if condition is satisfy to convert given number into complex and display the value\n",
    "n=36\n",
    "if n%2==0 and n%6==0:\n",
    "    res=complex(n)\n",
    "    print(res)\n",
    "\n"
   ]
  },
  {
   "cell_type": "code",
   "execution_count": 2,
   "metadata": {},
   "outputs": [
    {
     "name": "stdout",
     "output_type": "stream",
     "text": [
      "D\n"
     ]
    }
   ],
   "source": [
    "# 6 wap to check wherther the given integer is divisible by 4  and value should be in the range of 48 to 122 and value is even,if condition is true to convert given number into character\n",
    "n=68\n",
    "if n%4==0 and 48<=n and n<122 and n%2==0:\n",
    "    res=chr(n)\n",
    "    print(res)"
   ]
  },
  {
   "cell_type": "code",
   "execution_count": 3,
   "metadata": {},
   "outputs": [
    {
     "name": "stdout",
     "output_type": "stream",
     "text": [
      "[10]\n"
     ]
    }
   ],
   "source": [
    "# 7 wap to check wherther the given value is mutable or not   ,if mutable  to store the value inside the list without change the existing memory block \n",
    "n=[10]\n",
    "k=[]\n",
    "if type(n) in [list,set,dict]:\n",
    "    k+=n\n",
    "    print(k)\n",
    "\n",
    "\n",
    "    "
   ]
  },
  {
   "cell_type": "code",
   "execution_count": 20,
   "metadata": {},
   "outputs": [
    {
     "name": "stdout",
     "output_type": "stream",
     "text": [
      "positive\n"
     ]
    }
   ],
   "source": [
    "# 8wae  to check whether a number is positive. If Positive, print a message Positive\n",
    "n=9\n",
    "if n>=0:\n",
    "    print(\"positive\")"
   ]
  },
  {
   "cell_type": "code",
   "execution_count": 21,
   "metadata": {},
   "outputs": [
    {
     "name": "stdout",
     "output_type": "stream",
     "text": [
      "helloworld\n"
     ]
    }
   ],
   "source": [
    "# 9WAP to display hello world if the number is greater than 1 and lesser than 5\n",
    "n=4\n",
    "if 1<n and n<5:\n",
    "    print(\"helloworld\")"
   ]
  },
  {
   "cell_type": "code",
   "execution_count": 22,
   "metadata": {},
   "outputs": [
    {
     "name": "stdout",
     "output_type": "stream",
     "text": [
      "divisible by 3\n",
      "fizz\n"
     ]
    }
   ],
   "source": [
    "# 10 WAP to check whether the given number is divisible by 3 or not if print fizz\n",
    "n=21\n",
    "if n%3==0:\n",
    "    print(\"divisible by 3\")\n",
    "print(\"fizz\")    \n",
    "\n",
    "\n"
   ]
  },
  {
   "cell_type": "code",
   "execution_count": 23,
   "metadata": {},
   "outputs": [
    {
     "name": "stdout",
     "output_type": "stream",
     "text": [
      "['3', '0']\n"
     ]
    }
   ],
   "source": [
    "# 11 WAP to check whether a given input is divisible by 3 or 5. If the condition is\n",
    "# satisfied, the number is converted to a list.\n",
    "# i/p: 30\n",
    "# o/p:[‘3’,’0’]\n",
    "n=30\n",
    "if n%3==0 and n%5==0:\n",
    "   num_str=str(n)\n",
    "   _list= list(num_str)\n",
    "   print(_list)\n",
    "   \n",
    "    \n"
   ]
  },
  {
   "cell_type": "code",
   "execution_count": 24,
   "metadata": {},
   "outputs": [
    {
     "name": "stdout",
     "output_type": "stream",
     "text": [
      "15 is multiple of 5\n"
     ]
    }
   ],
   "source": [
    "# 12 Write a program to check whether a given number is multiple of 5 or not\n",
    "n=15\n",
    "if n*5:\n",
    "    print(f\"{n} is multiple of 5\")"
   ]
  },
  {
   "cell_type": "code",
   "execution_count": 25,
   "metadata": {},
   "outputs": [
    {
     "name": "stdout",
     "output_type": "stream",
     "text": [
      "0\n"
     ]
    }
   ],
   "source": [
    "#13 WAP to check whether the given input is 0 or not if 0 prints 0.\n",
    "n=15\n",
    "if n==0:\n",
    "    print(f\"{n} is  zero\")\n",
    "print(0)    \n",
    "    "
   ]
  },
  {
   "cell_type": "code",
   "execution_count": 26,
   "metadata": {},
   "outputs": [
    {
     "name": "stdout",
     "output_type": "stream",
     "text": [
      "[10, 50, 67, 14]\n"
     ]
    }
   ],
   "source": [
    "# 15 WAP to check whether a number is even or not. If even, store the value inside\n",
    "# the list.\n",
    "n=14\n",
    "m=[10,50,67]\n",
    "if n%2==0:\n",
    "    m+=[14]\n",
    "    print(m)\n",
    "\n",
    "    \n"
   ]
  },
  {
   "cell_type": "code",
   "execution_count": 27,
   "metadata": {},
   "outputs": [
    {
     "name": "stdout",
     "output_type": "stream",
     "text": [
      "(10, 60, 'hai', 15)\n"
     ]
    }
   ],
   "source": [
    "# 16 WAP to check whether a number is odd or not. If odd, store the value inside the\n",
    "# tuple.\n",
    "n=15\n",
    "m=(10,60,\"hai\")\n",
    "if n%2!=0:\n",
    "    m+=(15,)\n",
    "    \n",
    "    print(m)\n",
    "    "
   ]
  },
  {
   "cell_type": "code",
   "execution_count": 28,
   "metadata": {},
   "outputs": [
    {
     "name": "stdout",
     "output_type": "stream",
     "text": [
      "yes\n",
      "65536\n"
     ]
    }
   ],
   "source": [
    "# 17WAP to check if the given number is even or not. if it is yes, to print the power of\n",
    "# 4 in a given number.\n",
    "n=16\n",
    "if n%2==0:\n",
    "    print(\"yes\")\n",
    "    l=n**4\n",
    "    print(l)"
   ]
  },
  {
   "cell_type": "code",
   "execution_count": 2,
   "metadata": {},
   "outputs": [
    {
     "name": "stdout",
     "output_type": "stream",
     "text": [
      "yes\n",
      "13\n"
     ]
    }
   ],
   "source": [
    "# 18 WAP to take the input from the user as a number and check whether it is a number\n",
    "# or not. if yes. take the number and add some value and print it.\n",
    "n=7\n",
    "if (0<n<9):\n",
    "     print(\"yes\")\n",
    "     k=6\n",
    "     n+=k\n",
    "     print(n)"
   ]
  },
  {
   "cell_type": "code",
   "execution_count": 30,
   "metadata": {},
   "outputs": [
    {
     "name": "stdout",
     "output_type": "stream",
     "text": [
      "1225\n"
     ]
    }
   ],
   "source": [
    "# 19 WAP to check whether a given value is divisible by 5 and 7. If the value is\n",
    "# divisible,to display the square of the values\n",
    "n=35\n",
    "if n%5==0 and n%7==0 :\n",
    "    print(n**2)\n",
    "    "
   ]
  },
  {
   "cell_type": "code",
   "execution_count": 31,
   "metadata": {},
   "outputs": [
    {
     "name": "stdout",
     "output_type": "stream",
     "text": [
      "greater\n",
      "41\n"
     ]
    }
   ],
   "source": [
    "#20 WAP to check whether the given value's last digit is greater than 5 or not.if\n",
    "# greater, to perform the bitwise right shift operator (skipping value is 2)\n",
    "n=166\n",
    "n%10\n",
    "if n%10>5:\n",
    "    print(\"greater\")\n",
    "    m=n>>2\n",
    "    print(m)\n",
    "\n"
   ]
  },
  {
   "cell_type": "code",
   "execution_count": 32,
   "metadata": {},
   "outputs": [
    {
     "name": "stdout",
     "output_type": "stream",
     "text": [
      "441\n"
     ]
    }
   ],
   "source": [
    "# 21 WAP to check whether a given value is divisible by 3 and less than 30. If the value\n",
    "# is divisible,to display the square of the values.\n",
    "n=21\n",
    "if n%3==0 and n<30:\n",
    "    print(n**2)\n"
   ]
  },
  {
   "cell_type": "code",
   "execution_count": 33,
   "metadata": {},
   "outputs": [
    {
     "name": "stdout",
     "output_type": "stream",
     "text": [
      "4096\n"
     ]
    }
   ],
   "source": [
    "# 22WAP to check whether a given value is an even number and divisible by 4. If\n",
    "# satisfied ,to display the cube of the values\n",
    "n=16\n",
    "if n%2==0 and n%4==0:\n",
    "    print(n**3)"
   ]
  },
  {
   "cell_type": "code",
   "execution_count": 34,
   "metadata": {},
   "outputs": [
    {
     "name": "stdout",
     "output_type": "stream",
     "text": [
      "given value is even\n",
      "[19, 6, 7, 2, 20]\n"
     ]
    }
   ],
   "source": [
    "# 23 WAP to check whether a given value is even or not. If the even number stores the\n",
    "# value inside the list.\n",
    "n=20\n",
    "m=[19,6,7,2]\n",
    "if n%2==0:\n",
    "    print(\"given value is even\")\n",
    "    m+=[n]\n",
    "    print(m)\n"
   ]
  },
  {
   "cell_type": "code",
   "execution_count": 35,
   "metadata": {},
   "outputs": [
    {
     "name": "stdout",
     "output_type": "stream",
     "text": [
      "4\n"
     ]
    }
   ],
   "source": [
    "# 24WAP to check whether a given value is a negative or even number. If satisfied ,to\n",
    "# display the last digit of the values.\n",
    "n=64\n",
    "if n%2==0 or n<0:\n",
    "    print(n%10)"
   ]
  },
  {
   "cell_type": "code",
   "execution_count": 36,
   "metadata": {},
   "outputs": [
    {
     "name": "stdout",
     "output_type": "stream",
     "text": [
      "-4096\n"
     ]
    }
   ],
   "source": [
    "# 25WAP to check whether a given value is a negative or odd number and divisible\n",
    "# by 4. If satisfied ,to display the cube of the values.\n",
    "n=-16\n",
    "if n<0 or n%2!=0 and n%4==0:\n",
    "    print(n**3)\n",
    "\n",
    "\n"
   ]
  },
  {
   "cell_type": "code",
   "execution_count": 37,
   "metadata": {},
   "outputs": [
    {
     "name": "stdout",
     "output_type": "stream",
     "text": [
      "x\n"
     ]
    }
   ],
   "source": [
    "# 26 WAP to check whether a given ascii value is divisible by 4 and even value. If\n",
    "# satisfied, to display the ascii character.\n",
    "n=120\n",
    "if n%4==0 and n%2==0:\n",
    "    print(chr(n))"
   ]
  },
  {
   "cell_type": "code",
   "execution_count": 38,
   "metadata": {},
   "outputs": [
    {
     "name": "stdout",
     "output_type": "stream",
     "text": [
      "P\n"
     ]
    }
   ],
   "source": [
    "# 27 WAP to check whether a given value is present in between 45 to 125 and the\n",
    "# number should be divisible by 4 and 5 and even value. If satisfied, to display the\n",
    "# ascii character.\n",
    "n=80\n",
    "if 45<=n and n<=125 and n%4==0 and n%5==0 and n%2==0:\n",
    "    print(chr(n))"
   ]
  },
  {
   "cell_type": "code",
   "execution_count": 39,
   "metadata": {},
   "outputs": [
    {
     "name": "stdout",
     "output_type": "stream",
     "text": [
      "400\n"
     ]
    }
   ],
   "source": [
    "#28 WAP to check whether a given value is present in between 25 to 100 and the\n",
    "# number should be divisible by 4 and 5. If satisfied, to display multiplication of\n",
    "# given value with 5.\n",
    "n=80\n",
    "if 25<=n and n<=100 and n%4==0 and n%5==0:\n",
    "    m=n*5\n",
    "    print(m)\n",
    "    "
   ]
  },
  {
   "cell_type": "code",
   "execution_count": 40,
   "metadata": {},
   "outputs": [
    {
     "name": "stdout",
     "output_type": "stream",
     "text": [
      "3\n"
     ]
    }
   ],
   "source": [
    "#29 WAP to check whether a given number is an integer and odd number. If the\n",
    "# condition is satisfied, the integer is divisible by 5 and displays the result.\n",
    "n=53\n",
    "m=type(n)\n",
    "if type(n)==int and n%2!=0:\n",
    "    m=n%5\n",
    "    print(m)\n",
    "     \n"
   ]
  },
  {
   "cell_type": "code",
   "execution_count": 41,
   "metadata": {},
   "outputs": [
    {
     "name": "stdout",
     "output_type": "stream",
     "text": [
      "<class 'int'>\n",
      "<class 'str'> 89\n"
     ]
    }
   ],
   "source": [
    "#30 WAP to check whether a given value is an integer or not. If integer, the given\n",
    "# value is converted to string and displays the result\n",
    "n=89\n",
    "print(type(n))\n",
    "if type(n)==int:\n",
    "  a=str(n)\n",
    "print(type(a),n)\n"
   ]
  },
  {
   "cell_type": "code",
   "execution_count": 4,
   "metadata": {},
   "outputs": [
    {
     "name": "stdout",
     "output_type": "stream",
     "text": [
      "v\n"
     ]
    }
   ],
   "source": [
    "#31 WAP to check whether a given value is less than 125 and greater than 60 or not.\n",
    "# If the condition is satisfied, take the name and extract the middle character and\n",
    "# display it.\n",
    "n=66\n",
    "b=\"bhavani\"\n",
    "if 60<=n<=125:\n",
    "   res=b[len(b)//2]\n",
    "   print(res)\n",
    "\n",
    "\n"
   ]
  },
  {
   "cell_type": "code",
   "execution_count": 56,
   "metadata": {},
   "outputs": [
    {
     "name": "stdout",
     "output_type": "stream",
     "text": [
      "34\n"
     ]
    }
   ],
   "source": [
    "#32 WAP to check whether a given two integers are equal or not. If both are equal, to\n",
    "# perform addition and display the result\n",
    "n=17\n",
    "b=17\n",
    "type(n)\n",
    "type(b)\n",
    "if b==n:\n",
    "    n+=b\n",
    "    print(n)\n",
    "\n"
   ]
  },
  {
   "cell_type": "code",
   "execution_count": 68,
   "metadata": {},
   "outputs": [
    {
     "name": "stdout",
     "output_type": "stream",
     "text": [
      "1\n"
     ]
    }
   ],
   "source": [
    "# 33 WAP to check whether two values are equal or not. if equal, to perform\n",
    "# multiplication of two numbers and that result is division by 3 and display the\n",
    "# value\n",
    "n=8\n",
    "b=8\n",
    "if n==b:\n",
    "    res=n*b\n",
    "    h=res%3\n",
    "    print(h)\n",
    "\n"
   ]
  },
  {
   "cell_type": "code",
   "execution_count": 71,
   "metadata": {},
   "outputs": [
    {
     "name": "stdout",
     "output_type": "stream",
     "text": [
      "{'a': 100, 'b': 400, 'k': 107}\n"
     ]
    }
   ],
   "source": [
    "# 34 WAP to check whether a character is in the alphabet or not. If the alphabet, store\n",
    "# the value inside the dict(key as a character and value as an ascii value).\n",
    "n='k'\n",
    "if 'A'<=n<='Z' or 'a'<=n<='z':\n",
    "    m={'a':100,'b':400}\n",
    "    m[n]=ord('k')\n",
    "    print(m)\n",
    "\n",
    "\n"
   ]
  },
  {
   "cell_type": "code",
   "execution_count": 72,
   "metadata": {},
   "outputs": [
    {
     "name": "stdout",
     "output_type": "stream",
     "text": [
      "{'a': 100, 'b': 400, 'B': 66}\n"
     ]
    }
   ],
   "source": [
    "#35 WAP to check whether a character is in the uppercase or not. If the uppercase,\n",
    "# store the value inside the dict(key as a character and value as an ascii value)\n",
    "n='B'\n",
    "if 'A'<=n<='z':\n",
    "     m={'a':100,'b':400}\n",
    "     m[n]=ord('B')\n",
    "     print(m)\n"
   ]
  },
  {
   "cell_type": "code",
   "execution_count": 7,
   "metadata": {},
   "outputs": [
    {
     "name": "stdout",
     "output_type": "stream",
     "text": [
      "{'a': 100, 'b': 400, 'k': 107}\n"
     ]
    }
   ],
   "source": [
    "# 36 WAP to check whether a character is in the uppercase or not. If the uppercase,\n",
    "#convert to lowercase and store the value inside the dict(character as a key and ascii value as a value)\n",
    "n = 'K'\n",
    "m={'a':100,'b':400}\n",
    "if 'A'<=n<='Z':\n",
    "    res=chr(ord(n)+32)\n",
    "    \n",
    "    \n",
    "    m[res]=ord(res)\n",
    "    print(m)\n"
   ]
  },
  {
   "cell_type": "code",
   "execution_count": 90,
   "metadata": {},
   "outputs": [
    {
     "name": "stdout",
     "output_type": "stream",
     "text": [
      "lllll\n"
     ]
    }
   ],
   "source": [
    "# 40 WAP to check whether a character is in the lowercase or not. If the lowercase, to\n",
    "# perform the replication operation on that character\n",
    "n='l'\n",
    "if 'a'<=n<='z':\n",
    "    b=5*'l'\n",
    "    print(b)"
   ]
  },
  {
   "cell_type": "code",
   "execution_count": 109,
   "metadata": {},
   "outputs": [
    {
     "name": "stdout",
     "output_type": "stream",
     "text": [
      "108\n",
      "<class 'int'>\n"
     ]
    }
   ],
   "source": [
    "#41 WAP to check whether a character is in the ascii number or not. If the ascii\n",
    "# number, to convert into integer.\n",
    "n='l'\n",
    "if 65<=ord('l')<=90 or 97<=ord('l')<=122:\n",
    "    r=(ord('l'))\n",
    "    print(r)\n",
    "\n",
    "    print(type(r))"
   ]
  },
  {
   "cell_type": "code",
   "execution_count": 112,
   "metadata": {},
   "outputs": [
    {
     "name": "stdout",
     "output_type": "stream",
     "text": [
      "36\n"
     ]
    }
   ],
   "source": [
    "#  42 WAP to check whether a character is in the special symbol or not. If the special\n",
    "# symbol, to display a symbol with ascii value.\n",
    "n='$'\n",
    "if not('A'<=n<='Z'or 'a'<=n<='z'or '0'<=n<='9'):\n",
    "    r=ord('$')\n",
    "    print(r)"
   ]
  },
  {
   "cell_type": "code",
   "execution_count": 116,
   "metadata": {},
   "outputs": [
    {
     "name": "stdout",
     "output_type": "stream",
     "text": [
      "66\n"
     ]
    }
   ],
   "source": [
    "# 43 WAP to check whether a character is an even number or not. If the even number,\n",
    "# to display an even number.\n",
    "n='B'\n",
    "if ord(n)%2==0:\n",
    "    print(ord(n))"
   ]
  },
  {
   "cell_type": "code",
   "execution_count": 118,
   "metadata": {},
   "outputs": [
    {
     "name": "stdout",
     "output_type": "stream",
     "text": [
      "18\n",
      "324\n"
     ]
    }
   ],
   "source": [
    "# 44 WAP to check whether a Given two integers a and b, if any of the integers is 10\n",
    "# or if their sum is 10, to perform the sum of the numbers and to display the square\n",
    "# of the result.\n",
    "a=10\n",
    "b=8\n",
    "if a==10 or b==10 or a+b==10:\n",
    "    c=a+b\n",
    "    print(c)\n",
    "    d=c**2\n",
    "    print(d)"
   ]
  },
  {
   "cell_type": "code",
   "execution_count": 124,
   "metadata": {},
   "outputs": [
    {
     "name": "stdout",
     "output_type": "stream",
     "text": [
      "f\n"
     ]
    }
   ],
   "source": [
    "# 45WAP to check whether a character is in the vowel or not. If the vowel,print the\n",
    "# next character.\n",
    "n='e'\n",
    "if n in 'aeiouAEIOU':\n",
    "    print(chr(ord(n)+1))"
   ]
  },
  {
   "cell_type": "code",
   "execution_count": 125,
   "metadata": {},
   "outputs": [
    {
     "name": "stdout",
     "output_type": "stream",
     "text": [
      "k\n"
     ]
    }
   ],
   "source": [
    "#46 WAP to check whether a character is in the not a vowel. If it's not a vowel,print\n",
    "# the previous character.\n",
    "n='l'\n",
    "if not(n in 'aeiouAEIOU'):\n",
    "    print(chr(ord(n)-1))\n"
   ]
  },
  {
   "cell_type": "code",
   "execution_count": 131,
   "metadata": {},
   "outputs": [
    {
     "name": "stdout",
     "output_type": "stream",
     "text": [
      "(3+6j) is single value data type\n"
     ]
    }
   ],
   "source": [
    "# 47 WAP to check whether a given value is a single value data type or not. If single\n",
    "# value, display the given value as a single value data type\n",
    "n=3+6j\n",
    "if type(n) in [int,float,complex,bytes,bool,type(None)]:\n",
    "    print(f\"{n} is single value data type\")"
   ]
  },
  {
   "cell_type": "code",
   "execution_count": 9,
   "metadata": {},
   "outputs": [
    {
     "name": "stdout",
     "output_type": "stream",
     "text": [
      "(10, 39, 69)\n"
     ]
    }
   ],
   "source": [
    "# 48 WAP to check whether a given value is a multi-value data type or not. If multi\n",
    "# value, store the given value inside the tuple and display it.\n",
    "n=(69,)\n",
    "m=(10,39)\n",
    "if type(n) in [str,list,tuple,set,dict]:\n",
    "    m+=tuple(n)\n",
    "    print(m)\n",
    "\n"
   ]
  },
  {
   "cell_type": "code",
   "execution_count": 3,
   "metadata": {},
   "outputs": [
    {
     "name": "stdout",
     "output_type": "stream",
     "text": [
      "{89, 10, 30}\n"
     ]
    }
   ],
   "source": [
    "# 49 WAP to check whether a given value is an immutable data type or not. If an\n",
    "# immutable data type value, store the given value inside the set and display it.\n",
    "n=89\n",
    "m={10 ,30}\n",
    "if type(n) in [int,float,complex,bytes,bool,type(None),str,tuple]:\n",
    "    m|={n}\n",
    "    print(m)\n",
    "     "
   ]
  },
  {
   "cell_type": "code",
   "execution_count": 171,
   "metadata": {},
   "outputs": [
    {
     "name": "stdout",
     "output_type": "stream",
     "text": [
      "odd\n",
      "35\n"
     ]
    }
   ],
   "source": [
    "# 50 WAP to check whether the middle element of a given list is odd or not. If it is odd\n",
    "# then print odd then print the number else directly print the number\n",
    "n=[10,20,35,40,50]\n",
    "if len(n)//2!=0:\n",
    "    print(\"odd\")\n",
    "    res=n[len(n)//2]\n",
    "    print(res)\n"
   ]
  },
  {
   "cell_type": "code",
   "execution_count": 56,
   "metadata": {},
   "outputs": [
    {
     "name": "stdout",
     "output_type": "stream",
     "text": [
      "notpys\n"
     ]
    }
   ],
   "source": [
    "# 51 WAP Return a new string with \"not\" prefixed to the infront of the original string.\n",
    "# Return the string unmodified if the string already has the word \"not\" at the\n",
    "# beginning.\n",
    "st='pys'\n",
    "if st[0:3]!='not':\n",
    "    print('not'+st)\n",
    "else:\n",
    "    print(st)\n"
   ]
  },
  {
   "cell_type": "code",
   "execution_count": 52,
   "metadata": {},
   "outputs": [
    {
     "name": "stdout",
     "output_type": "stream",
     "text": [
      "PN\n"
     ]
    }
   ],
   "source": [
    "# 52 WAP to check whether a given string(str) and one integer(n) value, to display a\n",
    "# new string that is devoid of the character at index n. if you are given a non-empty\n",
    "# string and an int n. The value of n will be a legitimate character index from the\n",
    "# original string, therefore it will fall within the range of 0 to len(str)-1, inclusive\n",
    "st=\"PEN\"\n",
    "n=1\n",
    "if len(st)!=0 and type(n)==int and 0<=n<=len(st)-1:\n",
    "    print(st[:n]+st[n+1:])\n"
   ]
  },
  {
   "cell_type": "code",
   "execution_count": 11,
   "metadata": {},
   "outputs": [
    {
     "name": "stdout",
     "output_type": "stream",
     "text": [
      "2022889103536\n",
      "2022889103536\n"
     ]
    }
   ],
   "source": [
    "# 53 WAP to check whether the two variables are pointing to the same memory\n",
    "# location or not if they are pointing to the same memory location then print the\n",
    "# address of both the variables\n",
    "a=255\n",
    "b=255\n",
    "if a is b:\n",
    "    print(id(a))\n",
    "    print(id(b))"
   ]
  },
  {
   "cell_type": "code",
   "execution_count": 15,
   "metadata": {},
   "outputs": [
    {
     "name": "stdout",
     "output_type": "stream",
     "text": [
      "hellowor\n"
     ]
    }
   ],
   "source": [
    "# 54 WAP to check whether the given length of the string is even or not. If the\n",
    "# condition is satisfied, display the sequence of characters from zero position to\n",
    "# length of collection -2\n",
    "n=\"helloworld\"\n",
    "if len(n)%2==0:\n",
    "    m=n[:len(n)-2]\n",
    "    print(m)\n",
    "\n",
    "\n"
   ]
  },
  {
   "cell_type": "code",
   "execution_count": 17,
   "metadata": {},
   "outputs": [
    {
     "name": "stdout",
     "output_type": "stream",
     "text": [
      "hii\n",
      "hello\n"
     ]
    }
   ],
   "source": [
    "# 55 WAP to check whether the two given strings are having the same values or not.\n",
    "# If both are not the same values then swap the values of one variable to another\n",
    "# variable after swapping print the two values\n",
    "s=\"hello\"\n",
    "n=\"hii\"\n",
    "if s==n:\n",
    "    print(\"both the values are same\")\n",
    "# swapping\n",
    "temp=s\n",
    "s=n\n",
    "n=temp\n",
    "print(s)\n",
    "print(n)\n"
   ]
  },
  {
   "cell_type": "code",
   "execution_count": 18,
   "metadata": {},
   "outputs": [
    {
     "name": "stdout",
     "output_type": "stream",
     "text": [
      "{'a': 1, 'b': 2, '$': 36}\n"
     ]
    }
   ],
   "source": [
    "# 56 WAP to check whether a given character is a special symbol or not. If satisfied,\n",
    "# store the symbol as a key and value as a ascii value of the given character inside\n",
    "# the dictionary\n",
    "n='$'\n",
    "m={'a':1,'b':2}\n",
    "if not('A'<=n<='Z' or 'a'<=n<='z' or '0'<=n<='9'):\n",
    "    m['$']=ord('$')\n",
    "    print(m)\n"
   ]
  },
  {
   "cell_type": "code",
   "execution_count": 21,
   "metadata": {},
   "outputs": [
    {
     "name": "stdout",
     "output_type": "stream",
     "text": [
      "{'a': 100, 'b': 200, 'c': 300, 'd': 100}\n"
     ]
    }
   ],
   "source": [
    "# 57 WAP to check whether a given key is not present in the dictionary or not. If the\n",
    "# key is not present, \n",
    "# append the new key inside the dictionary.\n",
    "n='g'\n",
    "m={'a':100,'b':200, 'c':300}\n",
    "if n in m:\n",
    "    print(\"a is present in key\")\n",
    "m['d']=100\n",
    "print(m)\n",
    "    "
   ]
  },
  {
   "cell_type": "code",
   "execution_count": 2,
   "metadata": {},
   "outputs": [
    {
     "name": "stdout",
     "output_type": "stream",
     "text": [
      "OELLOH\n"
     ]
    }
   ],
   "source": [
    "# 58WAP whether a given string, and it displays a new string with the first and last\n",
    "# characters switched.\n",
    "m=\"HELLOO\"\n",
    "if type(m)==str :\n",
    "   n= m[-1]+m[1:5]+m[0]\n",
    "   print(n)\n",
    "\n",
    "\n"
   ]
  },
  {
   "cell_type": "code",
   "execution_count": 51,
   "metadata": {},
   "outputs": [
    {
     "name": "stdout",
     "output_type": "stream",
     "text": [
      "2is last digit\n"
     ]
    }
   ],
   "source": [
    "# 59 WAP to check whether the last digit should be 2 in the given number then print\n",
    "# the last digit.\n",
    "n=232\n",
    "m=n%10\n",
    "if n%10==2:\n",
    "    print(f\"{m}is last digit\")\n",
    "    "
   ]
  },
  {
   "cell_type": "code",
   "execution_count": 11,
   "metadata": {},
   "outputs": [
    {
     "name": "stdout",
     "output_type": "stream",
     "text": [
      "hello 5\n",
      "hai 3\n"
     ]
    }
   ],
   "source": [
    "# 61WAP to check whether both string collections are equal or not if it is not equal\n",
    "# print the both strings along with the length of a string if both are equal ignore it.\n",
    "n=\"hello\"\n",
    "m=\"hai\"\n",
    "if n==m:\n",
    "    print()\n",
    "\n",
    "print(n,len(n))\n",
    "print(m,len(m))"
   ]
  }
 ],
 "metadata": {
  "kernelspec": {
   "display_name": "Python 3",
   "language": "python",
   "name": "python3"
  },
  "language_info": {
   "codemirror_mode": {
    "name": "ipython",
    "version": 3
   },
   "file_extension": ".py",
   "mimetype": "text/x-python",
   "name": "python",
   "nbconvert_exporter": "python",
   "pygments_lexer": "ipython3",
   "version": "3.10.5"
  },
  "orig_nbformat": 4
 },
 "nbformat": 4,
 "nbformat_minor": 2
}
