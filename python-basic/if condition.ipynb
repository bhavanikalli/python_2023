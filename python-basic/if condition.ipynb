{
 "cells": [
  {
   "cell_type": "code",
   "execution_count": 1,
   "metadata": {},
   "outputs": [
    {
     "name": "stdout",
     "output_type": "stream",
     "text": [
      "given value is positive\n"
     ]
    }
   ],
   "source": [
    "# 1wap to check whether given value is positive or not\n",
    "n=10\n",
    "if 0<=n:\n",
    "    print(\"given value is positive\")"
   ]
  },
  {
   "cell_type": "code",
   "execution_count": 2,
   "metadata": {},
   "outputs": [
    {
     "name": "stdout",
     "output_type": "stream",
     "text": [
      "given value is even 16\n"
     ]
    }
   ],
   "source": [
    "# 2 wap to check whether given value is even or not\n",
    "# if even to display given value is even value with given value\n",
    "n=16\n",
    "if n%2==0:\n",
    "    print(\"given value is even\",n)\n"
   ]
  },
  {
   "cell_type": "code",
   "execution_count": 6,
   "metadata": {},
   "outputs": [
    {
     "name": "stdout",
     "output_type": "stream",
     "text": [
      " 19 is a odd number\n"
     ]
    }
   ],
   "source": [
    "# 3 wap to check whether given value is odd  or not\n",
    "# if odd to display given value is odd value with given value\n",
    "n=19\n",
    "if n%2!=0:\n",
    "    print(f\" {n} is a odd number\")"
   ]
  },
  {
   "cell_type": "code",
   "execution_count": 7,
   "metadata": {},
   "outputs": [
    {
     "name": "stdout",
     "output_type": "stream",
     "text": [
      "18 is a given number\n"
     ]
    }
   ],
   "source": [
    "# 4 wap to check whether given value is even or not\n",
    "# if even to display given value is even value with given value\n",
    "n=18\n",
    "if n%2==0:\n",
    "    print(n,\"is a given number\")"
   ]
  },
  {
   "cell_type": "code",
   "execution_count": 8,
   "metadata": {},
   "outputs": [
    {
     "name": "stdout",
     "output_type": "stream",
     "text": [
      "greatest\n"
     ]
    }
   ],
   "source": [
    "# 5 write a program to check whether the last digit of the given number is greater than 5 or not \n",
    "# if condition is satisfied to display greatest\n",
    "n=158\n",
    "if (n%10)>5:\n",
    "    print(\"greatest\")"
   ]
  },
  {
   "cell_type": "code",
   "execution_count": 10,
   "metadata": {},
   "outputs": [
    {
     "name": "stdout",
     "output_type": "stream",
     "text": [
      "(36+0j)\n"
     ]
    }
   ],
   "source": [
    "# 6 wap to check wherther the given value is divisible by 2 and 6 ,if condition is satisfy to convert given number into complex and display the value\n",
    "n=36\n",
    "if n%2==0 and n%6==0:\n",
    "    res=complex(n)\n",
    "    print(res)\n",
    "\n"
   ]
  },
  {
   "cell_type": "code",
   "execution_count": 29,
   "metadata": {},
   "outputs": [
    {
     "name": "stdout",
     "output_type": "stream",
     "text": [
      "4\n"
     ]
    }
   ],
   "source": [
    "# 7 wap to check wherther the given integer is divisible by 4  and value should be in the range of 48 to 122 and value is even,if condition is true to convert given number into character\n",
    "n=52\n",
    "if n%4==0 and 48<=n and n<122 and n%2==0:\n",
    "    res=chr(n)\n",
    "    print(res)"
   ]
  },
  {
   "cell_type": "code",
   "execution_count": 27,
   "metadata": {},
   "outputs": [
    {
     "name": "stdout",
     "output_type": "stream",
     "text": [
      "[50, 10]\n"
     ]
    }
   ],
   "source": [
    "# 7 wap to check wherther the given value is mutable or not   ,if mutable  to store the value inside the list without change the existing memory block \n",
    "n=[10]\n",
    "k=[50]\n",
    "if type(n) in [list,set,dict]:\n",
    "    k+=n\n",
    "    print(k)\n",
    "\n",
    "\n",
    "    "
   ]
  }
 ],
 "metadata": {
  "kernelspec": {
   "display_name": "Python 3",
   "language": "python",
   "name": "python3"
  },
  "language_info": {
   "codemirror_mode": {
    "name": "ipython",
    "version": 3
   },
   "file_extension": ".py",
   "mimetype": "text/x-python",
   "name": "python",
   "nbconvert_exporter": "python",
   "pygments_lexer": "ipython3",
   "version": "3.10.5"
  },
  "orig_nbformat": 4
 },
 "nbformat": 4,
 "nbformat_minor": 2
}
