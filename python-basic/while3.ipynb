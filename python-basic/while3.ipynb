{
 "cells": [
  {
   "cell_type": "code",
   "execution_count": null,
   "metadata": {},
   "outputs": [],
   "source": [
    "#17wap to print sum of the 1 to nth natural number\n",
    "n=8\n",
    "i=0\n",
    "sum=0\n",
    "\n",
    "while i<=n:\n",
    "    sum+=i \n",
    "    print(sum)\n",
    "    i+=1"
   ]
  },
  {
   "cell_type": "code",
   "execution_count": null,
   "metadata": {},
   "outputs": [],
   "source": [
    "#18 wap to print sum of the even numbers 1 to 20 numbers\n",
    "\n",
    "i=1\n",
    "sum=0\n",
    "while i<=20:\n",
    "    if i%2==0:\n",
    "        sum+=i\n",
    "        print(sum)\n",
    "    i+=1"
   ]
  },
  {
   "cell_type": "code",
   "execution_count": null,
   "metadata": {},
   "outputs": [],
   "source": [
    "# 20 wap to count the no of odd values from 1 to 30 numbers\n",
    "n=1\n",
    "count=0\n",
    "while n<=30:\n",
    "    if n%2!=0:\n",
    "        count+=1\n",
    "        print(count)\n",
    "    n+=1    "
   ]
  },
  {
   "cell_type": "code",
   "execution_count": 5,
   "metadata": {},
   "outputs": [],
   "source": [
    "st=' hai hello world i love india i like python '\n",
    "i=0\n",
    "sp=''\n",
    "l=[]\n",
    "res=''\n",
    "while i<len(st):\n",
    "    if st[i]!=sp:\n",
    "        res+=st[i]\n",
    "    else:\n",
    "        if len(res)!=0:\n",
    "            l+=[res]\n",
    "            res=''\n",
    "            \n",
    "        i+=1\n",
    "if len(res)!=0:\n",
    "    l+=[res]\n",
    "print(l)"
   ]
  }
 ],
 "metadata": {
  "kernelspec": {
   "display_name": "Python 3",
   "language": "python",
   "name": "python3"
  },
  "language_info": {
   "codemirror_mode": {
    "name": "ipython",
    "version": 3
   },
   "file_extension": ".py",
   "mimetype": "text/x-python",
   "name": "python",
   "nbconvert_exporter": "python",
   "pygments_lexer": "ipython3",
   "version": "3.11.5"
  },
  "orig_nbformat": 4
 },
 "nbformat": 4,
 "nbformat_minor": 2
}
