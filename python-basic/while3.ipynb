{
 "cells": [
  {
   "cell_type": "code",
   "execution_count": 41,
   "metadata": {},
   "outputs": [
    {
     "ename": "KeyboardInterrupt",
     "evalue": "",
     "output_type": "error",
     "traceback": [
      "\u001b[1;31m---------------------------------------------------------------------------\u001b[0m",
      "\u001b[1;31mKeyboardInterrupt\u001b[0m                         Traceback (most recent call last)",
      "Cell \u001b[1;32mIn[41], line 6\u001b[0m\n\u001b[0;32m      3\u001b[0m word_start\u001b[39m=\u001b[39m \u001b[39mTrue\u001b[39;00m\n\u001b[0;32m      5\u001b[0m i \u001b[39m=\u001b[39m \u001b[39m0\u001b[39m\n\u001b[1;32m----> 6\u001b[0m \u001b[39mwhile\u001b[39;00m i\u001b[39m<\u001b[39m\u001b[39m=\u001b[39m\u001b[39mlen\u001b[39m(input_str):\n\u001b[0;32m      7\u001b[0m     \u001b[39mif\u001b[39;00m \u001b[39m\"\u001b[39m\u001b[39mA\u001b[39m\u001b[39m\"\u001b[39m\u001b[39m<\u001b[39m\u001b[39m=\u001b[39minput_str[i]\u001b[39m<\u001b[39m\u001b[39m=\u001b[39m\u001b[39m\"\u001b[39m\u001b[39mZ\u001b[39m\u001b[39m\"\u001b[39m \u001b[39mor\u001b[39;00m \u001b[39m\"\u001b[39m\u001b[39ma\u001b[39m\u001b[39m\"\u001b[39m\u001b[39m<\u001b[39m\u001b[39m=\u001b[39minput_str[i]\u001b[39m<\u001b[39m\u001b[39m=\u001b[39m\u001b[39m\"\u001b[39m\u001b[39mz\u001b[39m\u001b[39m\"\u001b[39m:\n\u001b[0;32m      8\u001b[0m         \u001b[39mif\u001b[39;00m word_start:\n",
      "\u001b[1;31mKeyboardInterrupt\u001b[0m: "
     ]
    }
   ],
   "source": [
    "input_str=\"hello haIi WOrld We1v3coMe to py$hon cLAsS\"\n",
    "output_str = \"\"\n",
    "word_start= True\n",
    "\n",
    "i = 0\n",
    "while i<=len(input_str):\n",
    "    if \"A\"<=input_str[i]<=\"Z\" or \"a\"<=input_str[i]<=\"z\":\n",
    "        if word_start:\n",
    "            output_str +=chr(ord(input_str[i])-32)\n",
    "            word_start = False\n",
    "        else:\n",
    "            output_str +=chr(ord(input_str[i])+32)\n",
    "    else:\n",
    "        output_str += input_str[i]\n",
    "        word_start = True\n",
    "        print(word_start)\n",
    "i += 1\n",
    "\n",
    "    "
   ]
  },
  {
   "cell_type": "code",
   "execution_count": 29,
   "metadata": {},
   "outputs": [
    {
     "ename": "KeyboardInterrupt",
     "evalue": "",
     "output_type": "error",
     "traceback": [
      "\u001b[1;31m---------------------------------------------------------------------------\u001b[0m",
      "\u001b[1;31mKeyboardInterrupt\u001b[0m                         Traceback (most recent call last)",
      "Cell \u001b[1;32mIn[29], line 4\u001b[0m\n\u001b[0;32m      2\u001b[0m output_str \u001b[39m=\u001b[39m \u001b[39m\"\u001b[39m\u001b[39m\"\u001b[39m\n\u001b[0;32m      3\u001b[0m i \u001b[39m=\u001b[39m \u001b[39m0\u001b[39m\n\u001b[1;32m----> 4\u001b[0m \u001b[39mwhile\u001b[39;00m i \u001b[39m<\u001b[39m \u001b[39mlen\u001b[39m(input_str):\n\u001b[0;32m      5\u001b[0m     \u001b[39mif\u001b[39;00m \u001b[39m\"\u001b[39m\u001b[39mA\u001b[39m\u001b[39m\"\u001b[39m\u001b[39m<\u001b[39m\u001b[39m=\u001b[39minput_str[i]\u001b[39m<\u001b[39m\u001b[39m=\u001b[39m\u001b[39m\"\u001b[39m\u001b[39mZ\u001b[39m\u001b[39m\"\u001b[39m \u001b[39mor\u001b[39;00m \u001b[39m\"\u001b[39m\u001b[39ma\u001b[39m\u001b[39m\"\u001b[39m\u001b[39m<\u001b[39m\u001b[39m=\u001b[39minput_str[i]\u001b[39m<\u001b[39m\u001b[39m=\u001b[39m\u001b[39m\"\u001b[39m\u001b[39mz\u001b[39m\u001b[39m\"\u001b[39m:\n\u001b[0;32m      6\u001b[0m             output_str \u001b[39m+\u001b[39m\u001b[39m=\u001b[39m input_str[i]\n",
      "\u001b[1;31mKeyboardInterrupt\u001b[0m: "
     ]
    }
   ],
   "source": [
    "input_str=\"hello haIi WOrld We1v3coMe to py$hon cLAsS\"\n",
    "output_str = \"\"\n",
    "i = 0\n",
    "while i < len(input_str):\n",
    "    if \"A\"<=input_str[i]<=\"Z\" or \"a\"<=input_str[i]<=\"z\":\n",
    "            if \n",
    "            output_str += input_str[i]\n",
    "    elif not(\"A\"<=input_str<=\"Z\" or \"a\"<=input_str<=\"z\" or \"0\"<=input_str<=\"9\") or \"0\"<=input_str<=\"9\":\n",
    "         output_str += input_str[i+1]\n",
    "    else:\n",
    "        output_str += input_str[i]\n",
    "        is_new_word = True\n",
    "        print(is_new_word)\n",
    "i += 1\n",
    "\n",
    "    "
   ]
  }
 ],
 "metadata": {
  "kernelspec": {
   "display_name": "Python 3",
   "language": "python",
   "name": "python3"
  },
  "language_info": {
   "codemirror_mode": {
    "name": "ipython",
    "version": 3
   },
   "file_extension": ".py",
   "mimetype": "text/x-python",
   "name": "python",
   "nbconvert_exporter": "python",
   "pygments_lexer": "ipython3",
   "version": "3.11.5"
  },
  "orig_nbformat": 4
 },
 "nbformat": 4,
 "nbformat_minor": 2
}
